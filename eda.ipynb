{
 "cells": [
  {
   "cell_type": "code",
   "execution_count": 2,
   "metadata": {},
   "outputs": [],
   "source": [
    "import pandas as pd\n",
    "from datetime import datetime"
   ]
  },
  {
   "cell_type": "markdown",
   "metadata": {},
   "source": [
    "## Read in data "
   ]
  },
  {
   "cell_type": "markdown",
   "metadata": {},
   "source": [
    "### Market data"
   ]
  },
  {
   "cell_type": "code",
   "execution_count": 21,
   "metadata": {},
   "outputs": [
    {
     "output_type": "execute_result",
     "data": {
      "text/plain": "         time    close     high      low     open  volumefrom    volumeto  \\\n0  1582984800  8645.88  8678.25  8606.31  8676.27      954.50  8238841.34   \n1  1582988400  8693.73  8708.76  8619.73  8645.88      785.84  6824127.12   \n2  1582992000  8638.05  8702.50  8630.15  8693.73      761.92  6629631.43   \n3  1582995600  8701.21  8702.40  8623.94  8638.05      951.78  8259525.21   \n4  1582999200  8695.56  8714.49  8666.65  8701.21      556.50  4862181.37   \n\n        mid  \n0  8642.280  \n1  8664.245  \n2  8666.325  \n3  8663.170  \n4  8690.570  ",
      "text/html": "<div>\n<style scoped>\n    .dataframe tbody tr th:only-of-type {\n        vertical-align: middle;\n    }\n\n    .dataframe tbody tr th {\n        vertical-align: top;\n    }\n\n    .dataframe thead th {\n        text-align: right;\n    }\n</style>\n<table border=\"1\" class=\"dataframe\">\n  <thead>\n    <tr style=\"text-align: right;\">\n      <th></th>\n      <th>time</th>\n      <th>close</th>\n      <th>high</th>\n      <th>low</th>\n      <th>open</th>\n      <th>volumefrom</th>\n      <th>volumeto</th>\n      <th>mid</th>\n    </tr>\n  </thead>\n  <tbody>\n    <tr>\n      <th>0</th>\n      <td>1582984800</td>\n      <td>8645.88</td>\n      <td>8678.25</td>\n      <td>8606.31</td>\n      <td>8676.27</td>\n      <td>954.50</td>\n      <td>8238841.34</td>\n      <td>8642.280</td>\n    </tr>\n    <tr>\n      <th>1</th>\n      <td>1582988400</td>\n      <td>8693.73</td>\n      <td>8708.76</td>\n      <td>8619.73</td>\n      <td>8645.88</td>\n      <td>785.84</td>\n      <td>6824127.12</td>\n      <td>8664.245</td>\n    </tr>\n    <tr>\n      <th>2</th>\n      <td>1582992000</td>\n      <td>8638.05</td>\n      <td>8702.50</td>\n      <td>8630.15</td>\n      <td>8693.73</td>\n      <td>761.92</td>\n      <td>6629631.43</td>\n      <td>8666.325</td>\n    </tr>\n    <tr>\n      <th>3</th>\n      <td>1582995600</td>\n      <td>8701.21</td>\n      <td>8702.40</td>\n      <td>8623.94</td>\n      <td>8638.05</td>\n      <td>951.78</td>\n      <td>8259525.21</td>\n      <td>8663.170</td>\n    </tr>\n    <tr>\n      <th>4</th>\n      <td>1582999200</td>\n      <td>8695.56</td>\n      <td>8714.49</td>\n      <td>8666.65</td>\n      <td>8701.21</td>\n      <td>556.50</td>\n      <td>4862181.37</td>\n      <td>8690.570</td>\n    </tr>\n  </tbody>\n</table>\n</div>"
     },
     "metadata": {},
     "execution_count": 21
    }
   ],
   "source": [
    "btc_market = pd.read_csv(\"data/BTC-USD-80.csv\")\n",
    "btc_market.head()"
   ]
  },
  {
   "cell_type": "markdown",
   "metadata": {},
   "source": [
    "#### Convert unix code time to more readable datetime format"
   ]
  },
  {
   "cell_type": "code",
   "execution_count": 23,
   "metadata": {},
   "outputs": [],
   "source": [
    "btc_market['time_formatted'] = pd.to_datetime(btc_market['time'], unit='s')"
   ]
  },
  {
   "cell_type": "code",
   "execution_count": 25,
   "metadata": {},
   "outputs": [
    {
     "output_type": "execute_result",
     "data": {
      "text/plain": "         time      time_formatted\n0  1582984800 2020-02-29 14:00:00\n1  1582988400 2020-02-29 15:00:00\n2  1582992000 2020-02-29 16:00:00\n3  1582995600 2020-02-29 17:00:00\n4  1582999200 2020-02-29 18:00:00",
      "text/html": "<div>\n<style scoped>\n    .dataframe tbody tr th:only-of-type {\n        vertical-align: middle;\n    }\n\n    .dataframe tbody tr th {\n        vertical-align: top;\n    }\n\n    .dataframe thead th {\n        text-align: right;\n    }\n</style>\n<table border=\"1\" class=\"dataframe\">\n  <thead>\n    <tr style=\"text-align: right;\">\n      <th></th>\n      <th>time</th>\n      <th>time_formatted</th>\n    </tr>\n  </thead>\n  <tbody>\n    <tr>\n      <th>0</th>\n      <td>1582984800</td>\n      <td>2020-02-29 14:00:00</td>\n    </tr>\n    <tr>\n      <th>1</th>\n      <td>1582988400</td>\n      <td>2020-02-29 15:00:00</td>\n    </tr>\n    <tr>\n      <th>2</th>\n      <td>1582992000</td>\n      <td>2020-02-29 16:00:00</td>\n    </tr>\n    <tr>\n      <th>3</th>\n      <td>1582995600</td>\n      <td>2020-02-29 17:00:00</td>\n    </tr>\n    <tr>\n      <th>4</th>\n      <td>1582999200</td>\n      <td>2020-02-29 18:00:00</td>\n    </tr>\n  </tbody>\n</table>\n</div>"
     },
     "metadata": {},
     "execution_count": 25
    }
   ],
   "source": [
    "btc_market[['time', 'time_formatted']].head()"
   ]
  },
  {
   "cell_type": "markdown",
   "metadata": {},
   "source": [
    "### Tweets"
   ]
  },
  {
   "cell_type": "code",
   "execution_count": 30,
   "metadata": {},
   "outputs": [
    {
     "output_type": "execute_result",
     "data": {
      "text/plain": "   has_media                      hashtags  \\\n0      False            [privacy, bitcoin]   \n1       True  [USD, EUR, CNY, GBP, RUBpic]   \n2      False                            []   \n3      False                            []   \n4      False  [Bitcoin, latenightthoughts]   \n\n                                            img_urls  is_replied  is_reply_to  \\\n0                                                 []       False        False   \n1  [https://pbs.twimg.com/media/ESdvPzGWkAAgtoN.png]       False        False   \n2                                                 []       False         True   \n3                                                 []        True         True   \n4                                                 []        True        False   \n\n   likes                                          links      parent_tweet_id  \\\n0      1                       [https://snip.ly/m053t8]                        \n1      0  [https://www.worldcoinindex.com/coin/bitcoin]                        \n2      1                                             []  1235468311791464448   \n3      2                          [http://yeticold.com]  1236070982630195201   \n4    257                                             []                        \n\n   replies                                     reply_to_users  ...  \\\n0        0                                                 []  ...   \n1        0                                                 []  ...   \n2        0  [{'screen_name': 'Auslad', 'user_id': '1715190...  ...   \n3        1  [{'screen_name': 'Donhobluesky', 'user_id': '5...  ...   \n4       12                                                 []  ...   \n\n       screen_name                                               text  \\\n0  AnabellHilarski  Snowden la película que cambio mi forma de pen...   \n1   WorldCoinIndex  Bitcoin price index https://www.worldcoinindex...   \n2            alang  Mate, the internet will fall apart if the bank...   \n3    JWWeatherman_  Agreed. I’m obviously going to recommend http:...   \n4       IvanOnTech  The best thing about #Bitcoin is the COMMUNITY...   \n\n                                           text_html           timestamp  \\\n0  <p class=\"TweetTextSize js-tweet-text tweet-te... 2020-03-06 23:59:25   \n1  <p class=\"TweetTextSize js-tweet-text tweet-te... 2020-03-06 23:59:20   \n2  <p class=\"TweetTextSize js-tweet-text tweet-te... 2020-03-06 23:59:17   \n3  <p class=\"TweetTextSize js-tweet-text tweet-te... 2020-03-06 23:59:15   \n4  <p class=\"TweetTextSize js-tweet-text tweet-te... 2020-03-06 23:59:13   \n\n     timestamp_epochs             tweet_id  \\\n0 2020-03-06 23:59:25  1236078965380562944   \n1 2020-03-06 23:59:20  1236078944392228864   \n2 2020-03-06 23:59:17  1236078931964334080   \n3 2020-03-06 23:59:15  1236078923643043840   \n4 2020-03-06 23:59:13  1236078916923723776   \n\n                                     tweet_url             user_id  \\\n0  /AnabellHilarski/status/1236078965380562945          1299927211   \n1   /WorldCoinIndex/status/1236078944392228866          2395138046   \n2            /alang/status/1236078931964334080              142963   \n3    /JWWeatherman_/status/1236078923643043840  920399561272594432   \n4       /IvanOnTech/status/1236078916923723776           390627208   \n\n                      username video_url  \n0           ✨Anabell Hilarski✨            \n1               WorldCoinIndex            \n2            25 million people            \n3  JW Weatherman | mathbot.com            \n4                 Ivan on Tech            \n\n[5 rows x 21 columns]",
      "text/html": "<div>\n<style scoped>\n    .dataframe tbody tr th:only-of-type {\n        vertical-align: middle;\n    }\n\n    .dataframe tbody tr th {\n        vertical-align: top;\n    }\n\n    .dataframe thead th {\n        text-align: right;\n    }\n</style>\n<table border=\"1\" class=\"dataframe\">\n  <thead>\n    <tr style=\"text-align: right;\">\n      <th></th>\n      <th>has_media</th>\n      <th>hashtags</th>\n      <th>img_urls</th>\n      <th>is_replied</th>\n      <th>is_reply_to</th>\n      <th>likes</th>\n      <th>links</th>\n      <th>parent_tweet_id</th>\n      <th>replies</th>\n      <th>reply_to_users</th>\n      <th>...</th>\n      <th>screen_name</th>\n      <th>text</th>\n      <th>text_html</th>\n      <th>timestamp</th>\n      <th>timestamp_epochs</th>\n      <th>tweet_id</th>\n      <th>tweet_url</th>\n      <th>user_id</th>\n      <th>username</th>\n      <th>video_url</th>\n    </tr>\n  </thead>\n  <tbody>\n    <tr>\n      <th>0</th>\n      <td>False</td>\n      <td>[privacy, bitcoin]</td>\n      <td>[]</td>\n      <td>False</td>\n      <td>False</td>\n      <td>1</td>\n      <td>[https://snip.ly/m053t8]</td>\n      <td></td>\n      <td>0</td>\n      <td>[]</td>\n      <td>...</td>\n      <td>AnabellHilarski</td>\n      <td>Snowden la película que cambio mi forma de pen...</td>\n      <td>&lt;p class=\"TweetTextSize js-tweet-text tweet-te...</td>\n      <td>2020-03-06 23:59:25</td>\n      <td>2020-03-06 23:59:25</td>\n      <td>1236078965380562944</td>\n      <td>/AnabellHilarski/status/1236078965380562945</td>\n      <td>1299927211</td>\n      <td>✨Anabell Hilarski✨</td>\n      <td></td>\n    </tr>\n    <tr>\n      <th>1</th>\n      <td>True</td>\n      <td>[USD, EUR, CNY, GBP, RUBpic]</td>\n      <td>[https://pbs.twimg.com/media/ESdvPzGWkAAgtoN.png]</td>\n      <td>False</td>\n      <td>False</td>\n      <td>0</td>\n      <td>[https://www.worldcoinindex.com/coin/bitcoin]</td>\n      <td></td>\n      <td>0</td>\n      <td>[]</td>\n      <td>...</td>\n      <td>WorldCoinIndex</td>\n      <td>Bitcoin price index https://www.worldcoinindex...</td>\n      <td>&lt;p class=\"TweetTextSize js-tweet-text tweet-te...</td>\n      <td>2020-03-06 23:59:20</td>\n      <td>2020-03-06 23:59:20</td>\n      <td>1236078944392228864</td>\n      <td>/WorldCoinIndex/status/1236078944392228866</td>\n      <td>2395138046</td>\n      <td>WorldCoinIndex</td>\n      <td></td>\n    </tr>\n    <tr>\n      <th>2</th>\n      <td>False</td>\n      <td>[]</td>\n      <td>[]</td>\n      <td>False</td>\n      <td>True</td>\n      <td>1</td>\n      <td>[]</td>\n      <td>1235468311791464448</td>\n      <td>0</td>\n      <td>[{'screen_name': 'Auslad', 'user_id': '1715190...</td>\n      <td>...</td>\n      <td>alang</td>\n      <td>Mate, the internet will fall apart if the bank...</td>\n      <td>&lt;p class=\"TweetTextSize js-tweet-text tweet-te...</td>\n      <td>2020-03-06 23:59:17</td>\n      <td>2020-03-06 23:59:17</td>\n      <td>1236078931964334080</td>\n      <td>/alang/status/1236078931964334080</td>\n      <td>142963</td>\n      <td>25 million people</td>\n      <td></td>\n    </tr>\n    <tr>\n      <th>3</th>\n      <td>False</td>\n      <td>[]</td>\n      <td>[]</td>\n      <td>True</td>\n      <td>True</td>\n      <td>2</td>\n      <td>[http://yeticold.com]</td>\n      <td>1236070982630195201</td>\n      <td>1</td>\n      <td>[{'screen_name': 'Donhobluesky', 'user_id': '5...</td>\n      <td>...</td>\n      <td>JWWeatherman_</td>\n      <td>Agreed. I’m obviously going to recommend http:...</td>\n      <td>&lt;p class=\"TweetTextSize js-tweet-text tweet-te...</td>\n      <td>2020-03-06 23:59:15</td>\n      <td>2020-03-06 23:59:15</td>\n      <td>1236078923643043840</td>\n      <td>/JWWeatherman_/status/1236078923643043840</td>\n      <td>920399561272594432</td>\n      <td>JW Weatherman | mathbot.com</td>\n      <td></td>\n    </tr>\n    <tr>\n      <th>4</th>\n      <td>False</td>\n      <td>[Bitcoin, latenightthoughts]</td>\n      <td>[]</td>\n      <td>True</td>\n      <td>False</td>\n      <td>257</td>\n      <td>[]</td>\n      <td></td>\n      <td>12</td>\n      <td>[]</td>\n      <td>...</td>\n      <td>IvanOnTech</td>\n      <td>The best thing about #Bitcoin is the COMMUNITY...</td>\n      <td>&lt;p class=\"TweetTextSize js-tweet-text tweet-te...</td>\n      <td>2020-03-06 23:59:13</td>\n      <td>2020-03-06 23:59:13</td>\n      <td>1236078916923723776</td>\n      <td>/IvanOnTech/status/1236078916923723776</td>\n      <td>390627208</td>\n      <td>Ivan on Tech</td>\n      <td></td>\n    </tr>\n  </tbody>\n</table>\n<p>5 rows × 21 columns</p>\n</div>"
     },
     "metadata": {},
     "execution_count": 30
    }
   ],
   "source": [
    "btc_tweets = pd.read_json(\"data/tweets_btc_march.json\")\n",
    "btc_tweets.head()"
   ]
  },
  {
   "cell_type": "code",
   "execution_count": 31,
   "metadata": {},
   "outputs": [
    {
     "output_type": "execute_result",
     "data": {
      "text/plain": "Index(['has_media', 'hashtags', 'img_urls', 'is_replied', 'is_reply_to',\n       'likes', 'links', 'parent_tweet_id', 'replies', 'reply_to_users',\n       'retweets', 'screen_name', 'text', 'text_html', 'timestamp',\n       'timestamp_epochs', 'tweet_id', 'tweet_url', 'user_id', 'username',\n       'video_url'],\n      dtype='object')"
     },
     "metadata": {},
     "execution_count": 31
    }
   ],
   "source": [
    "btc_tweets.columns"
   ]
  },
  {
   "cell_type": "code",
   "execution_count": 35,
   "metadata": {},
   "outputs": [],
   "source": [
    "btc_tweets.sort_values(by='timestamp', inplace=True)"
   ]
  },
  {
   "cell_type": "code",
   "execution_count": 36,
   "metadata": {},
   "outputs": [
    {
     "output_type": "execute_result",
     "data": {
      "text/plain": "     has_media                                           hashtags img_urls  \\\n790      False  [EARN, BRAVEBROWSER, crypto, cryptocurrency, C...       []   \n789      False                                                 []       []   \n788      False                                                 []       []   \n787      False                                    [Bitcoin, Gold]       []   \n786      False                                          [Bitcoin]       []   \n\n     is_replied  is_reply_to  likes  \\\n790       False        False      3   \n789       False         True      0   \n788       False        False      0   \n787        True         True      2   \n786       False         True      0   \n\n                                                 links      parent_tweet_id  \\\n790                         [https://brave.com/ace913]                        \n789                                                 []  1231843154409730048   \n788  [http://t.me/VRbitcoin, https://www.pscp.tv/w/...                        \n787                                                 []  1233398104659025921   \n786                                                 []  1233776262587412480   \n\n     replies                                     reply_to_users  ...  \\\n790        0                                                 []  ...   \n789        0  [{'screen_name': 'bitcoin_brown', 'user_id': '...  ...   \n788        0                                                 []  ...   \n787        1  [{'screen_name': 'SantiagoAuFund', 'user_id': ...  ...   \n786        0  [{'screen_name': 'percymild', 'user_id': '3627...  ...   \n\n         screen_name                                               text  \\\n790        Ace_Lolzz  #EARN $BAT ON THE #BRAVEBROWSER !\\n\\nA few sim...   \n789  Petermccarthy84                                               XRP?   \n788        LupexNews  Udi Wertheimer: \"Starting the VR presentation ...   \n787       TraderStef  Feb. 2020 highs, #Bitcoin crushed by -20%, Gol...   \n786         ixkillax                           #Bitcoin\\n\\nTg:@ixkillax   \n\n                                             text_html           timestamp  \\\n790  <p class=\"TweetTextSize js-tweet-text tweet-te... 2020-02-29 23:56:34   \n789  <p class=\"TweetTextSize js-tweet-text tweet-te... 2020-02-29 23:56:37   \n788  <p class=\"TweetTextSize js-tweet-text tweet-te... 2020-02-29 23:56:38   \n787  <p class=\"TweetTextSize js-tweet-text tweet-te... 2020-02-29 23:56:48   \n786  <p class=\"TweetTextSize js-tweet-text tweet-te... 2020-02-29 23:56:52   \n\n       timestamp_epochs             tweet_id  \\\n790 2020-02-29 23:56:34  1233903923272060928   \n789 2020-02-29 23:56:37  1233903933346762752   \n788 2020-02-29 23:56:38  1233903939986153472   \n787 2020-02-29 23:56:48  1233903979945496576   \n786 2020-02-29 23:56:52  1233903998119268352   \n\n                                       tweet_url              user_id  \\\n790        /Ace_Lolzz/status/1233903923272060928            892760065   \n789  /Petermccarthy84/status/1233903933346762757            268474320   \n788        /LupexNews/status/1233903939986153473  1128475195667144704   \n787       /TraderStef/status/1233903979945496577           1851877248   \n786         /ixkillax/status/1233903998119268353  1159278650966982656   \n\n       username video_url  \n790    AceLolzz            \n789       MrMac            \n788  Lupex News            \n787  TraderStef            \n786    Ixkillax            \n\n[5 rows x 21 columns]",
      "text/html": "<div>\n<style scoped>\n    .dataframe tbody tr th:only-of-type {\n        vertical-align: middle;\n    }\n\n    .dataframe tbody tr th {\n        vertical-align: top;\n    }\n\n    .dataframe thead th {\n        text-align: right;\n    }\n</style>\n<table border=\"1\" class=\"dataframe\">\n  <thead>\n    <tr style=\"text-align: right;\">\n      <th></th>\n      <th>has_media</th>\n      <th>hashtags</th>\n      <th>img_urls</th>\n      <th>is_replied</th>\n      <th>is_reply_to</th>\n      <th>likes</th>\n      <th>links</th>\n      <th>parent_tweet_id</th>\n      <th>replies</th>\n      <th>reply_to_users</th>\n      <th>...</th>\n      <th>screen_name</th>\n      <th>text</th>\n      <th>text_html</th>\n      <th>timestamp</th>\n      <th>timestamp_epochs</th>\n      <th>tweet_id</th>\n      <th>tweet_url</th>\n      <th>user_id</th>\n      <th>username</th>\n      <th>video_url</th>\n    </tr>\n  </thead>\n  <tbody>\n    <tr>\n      <th>790</th>\n      <td>False</td>\n      <td>[EARN, BRAVEBROWSER, crypto, cryptocurrency, C...</td>\n      <td>[]</td>\n      <td>False</td>\n      <td>False</td>\n      <td>3</td>\n      <td>[https://brave.com/ace913]</td>\n      <td></td>\n      <td>0</td>\n      <td>[]</td>\n      <td>...</td>\n      <td>Ace_Lolzz</td>\n      <td>#EARN $BAT ON THE #BRAVEBROWSER !\\n\\nA few sim...</td>\n      <td>&lt;p class=\"TweetTextSize js-tweet-text tweet-te...</td>\n      <td>2020-02-29 23:56:34</td>\n      <td>2020-02-29 23:56:34</td>\n      <td>1233903923272060928</td>\n      <td>/Ace_Lolzz/status/1233903923272060928</td>\n      <td>892760065</td>\n      <td>AceLolzz</td>\n      <td></td>\n    </tr>\n    <tr>\n      <th>789</th>\n      <td>False</td>\n      <td>[]</td>\n      <td>[]</td>\n      <td>False</td>\n      <td>True</td>\n      <td>0</td>\n      <td>[]</td>\n      <td>1231843154409730048</td>\n      <td>0</td>\n      <td>[{'screen_name': 'bitcoin_brown', 'user_id': '...</td>\n      <td>...</td>\n      <td>Petermccarthy84</td>\n      <td>XRP?</td>\n      <td>&lt;p class=\"TweetTextSize js-tweet-text tweet-te...</td>\n      <td>2020-02-29 23:56:37</td>\n      <td>2020-02-29 23:56:37</td>\n      <td>1233903933346762752</td>\n      <td>/Petermccarthy84/status/1233903933346762757</td>\n      <td>268474320</td>\n      <td>MrMac</td>\n      <td></td>\n    </tr>\n    <tr>\n      <th>788</th>\n      <td>False</td>\n      <td>[]</td>\n      <td>[]</td>\n      <td>False</td>\n      <td>False</td>\n      <td>0</td>\n      <td>[http://t.me/VRbitcoin, https://www.pscp.tv/w/...</td>\n      <td></td>\n      <td>0</td>\n      <td>[]</td>\n      <td>...</td>\n      <td>LupexNews</td>\n      <td>Udi Wertheimer: \"Starting the VR presentation ...</td>\n      <td>&lt;p class=\"TweetTextSize js-tweet-text tweet-te...</td>\n      <td>2020-02-29 23:56:38</td>\n      <td>2020-02-29 23:56:38</td>\n      <td>1233903939986153472</td>\n      <td>/LupexNews/status/1233903939986153473</td>\n      <td>1128475195667144704</td>\n      <td>Lupex News</td>\n      <td></td>\n    </tr>\n    <tr>\n      <th>787</th>\n      <td>False</td>\n      <td>[Bitcoin, Gold]</td>\n      <td>[]</td>\n      <td>True</td>\n      <td>True</td>\n      <td>2</td>\n      <td>[]</td>\n      <td>1233398104659025921</td>\n      <td>1</td>\n      <td>[{'screen_name': 'SantiagoAuFund', 'user_id': ...</td>\n      <td>...</td>\n      <td>TraderStef</td>\n      <td>Feb. 2020 highs, #Bitcoin crushed by -20%, Gol...</td>\n      <td>&lt;p class=\"TweetTextSize js-tweet-text tweet-te...</td>\n      <td>2020-02-29 23:56:48</td>\n      <td>2020-02-29 23:56:48</td>\n      <td>1233903979945496576</td>\n      <td>/TraderStef/status/1233903979945496577</td>\n      <td>1851877248</td>\n      <td>TraderStef</td>\n      <td></td>\n    </tr>\n    <tr>\n      <th>786</th>\n      <td>False</td>\n      <td>[Bitcoin]</td>\n      <td>[]</td>\n      <td>False</td>\n      <td>True</td>\n      <td>0</td>\n      <td>[]</td>\n      <td>1233776262587412480</td>\n      <td>0</td>\n      <td>[{'screen_name': 'percymild', 'user_id': '3627...</td>\n      <td>...</td>\n      <td>ixkillax</td>\n      <td>#Bitcoin\\n\\nTg:@ixkillax</td>\n      <td>&lt;p class=\"TweetTextSize js-tweet-text tweet-te...</td>\n      <td>2020-02-29 23:56:52</td>\n      <td>2020-02-29 23:56:52</td>\n      <td>1233903998119268352</td>\n      <td>/ixkillax/status/1233903998119268353</td>\n      <td>1159278650966982656</td>\n      <td>Ixkillax</td>\n      <td></td>\n    </tr>\n  </tbody>\n</table>\n<p>5 rows × 21 columns</p>\n</div>"
     },
     "metadata": {},
     "execution_count": 36
    }
   ],
   "source": [
    "btc_tweets.head()"
   ]
  },
  {
   "cell_type": "markdown",
   "metadata": {},
   "source": [
    "### Merge two data frames"
   ]
  },
  {
   "cell_type": "code",
   "execution_count": 40,
   "metadata": {},
   "outputs": [
    {
     "output_type": "execute_result",
     "data": {
      "text/plain": "            time    close     high      low     open  volumefrom     volumeto  \\\n0     1582984800  8645.88  8678.25  8606.31  8676.27      954.50   8238841.34   \n1     1582988400  8693.73  8708.76  8619.73  8645.88      785.84   6824127.12   \n2     1582992000  8638.05  8702.50  8630.15  8693.73      761.92   6629631.43   \n3     1582995600  8701.21  8702.40  8623.94  8638.05      951.78   8259525.21   \n4     1582999200  8695.56  8714.49  8666.65  8701.21      556.50   4862181.37   \n...          ...      ...      ...      ...      ...         ...          ...   \n1916  1589882400  9782.20  9800.49  9756.08  9781.42     1831.88  17917644.42   \n1917  1589886000  9734.17  9890.69  9698.57  9782.20     5844.63  57351450.36   \n1918  1589889600  9614.99  9749.27  9571.68  9734.17     6755.46  65106618.78   \n1919  1589893200  9664.15  9679.35  9595.02  9614.99     3405.25  32820135.94   \n1920  1589896800  9703.38  9724.66  9663.75  9664.15     1572.48  15256262.71   \n\n           mid      time_formatted has_media  ... screen_name text text_html  \\\n0     8642.280 2020-02-29 14:00:00       NaN  ...         NaN  NaN       NaN   \n1     8664.245 2020-02-29 15:00:00       NaN  ...         NaN  NaN       NaN   \n2     8666.325 2020-02-29 16:00:00       NaN  ...         NaN  NaN       NaN   \n3     8663.170 2020-02-29 17:00:00       NaN  ...         NaN  NaN       NaN   \n4     8690.570 2020-02-29 18:00:00       NaN  ...         NaN  NaN       NaN   \n...        ...                 ...       ...  ...         ...  ...       ...   \n1916  9778.285 2020-05-19 10:00:00       NaN  ...         NaN  NaN       NaN   \n1917  9794.630 2020-05-19 11:00:00       NaN  ...         NaN  NaN       NaN   \n1918  9660.475 2020-05-19 12:00:00       NaN  ...         NaN  NaN       NaN   \n1919  9637.185 2020-05-19 13:00:00       NaN  ...         NaN  NaN       NaN   \n1920  9694.205 2020-05-19 14:00:00       NaN  ...         NaN  NaN       NaN   \n\n     timestamp  timestamp_epochs tweet_id tweet_url  user_id username  \\\n0          NaT               NaT      NaN       NaN      NaN      NaN   \n1          NaT               NaT      NaN       NaN      NaN      NaN   \n2          NaT               NaT      NaN       NaN      NaN      NaN   \n3          NaT               NaT      NaN       NaN      NaN      NaN   \n4          NaT               NaT      NaN       NaN      NaN      NaN   \n...        ...               ...      ...       ...      ...      ...   \n1916       NaT               NaT      NaN       NaN      NaN      NaN   \n1917       NaT               NaT      NaN       NaN      NaN      NaN   \n1918       NaT               NaT      NaN       NaN      NaN      NaN   \n1919       NaT               NaT      NaN       NaN      NaN      NaN   \n1920       NaT               NaT      NaN       NaN      NaN      NaN   \n\n      video_url  \n0           NaN  \n1           NaN  \n2           NaN  \n3           NaN  \n4           NaN  \n...         ...  \n1916        NaN  \n1917        NaN  \n1918        NaN  \n1919        NaN  \n1920        NaN  \n\n[1921 rows x 30 columns]",
      "text/html": "<div>\n<style scoped>\n    .dataframe tbody tr th:only-of-type {\n        vertical-align: middle;\n    }\n\n    .dataframe tbody tr th {\n        vertical-align: top;\n    }\n\n    .dataframe thead th {\n        text-align: right;\n    }\n</style>\n<table border=\"1\" class=\"dataframe\">\n  <thead>\n    <tr style=\"text-align: right;\">\n      <th></th>\n      <th>time</th>\n      <th>close</th>\n      <th>high</th>\n      <th>low</th>\n      <th>open</th>\n      <th>volumefrom</th>\n      <th>volumeto</th>\n      <th>mid</th>\n      <th>time_formatted</th>\n      <th>has_media</th>\n      <th>...</th>\n      <th>screen_name</th>\n      <th>text</th>\n      <th>text_html</th>\n      <th>timestamp</th>\n      <th>timestamp_epochs</th>\n      <th>tweet_id</th>\n      <th>tweet_url</th>\n      <th>user_id</th>\n      <th>username</th>\n      <th>video_url</th>\n    </tr>\n  </thead>\n  <tbody>\n    <tr>\n      <th>0</th>\n      <td>1582984800</td>\n      <td>8645.88</td>\n      <td>8678.25</td>\n      <td>8606.31</td>\n      <td>8676.27</td>\n      <td>954.50</td>\n      <td>8238841.34</td>\n      <td>8642.280</td>\n      <td>2020-02-29 14:00:00</td>\n      <td>NaN</td>\n      <td>...</td>\n      <td>NaN</td>\n      <td>NaN</td>\n      <td>NaN</td>\n      <td>NaT</td>\n      <td>NaT</td>\n      <td>NaN</td>\n      <td>NaN</td>\n      <td>NaN</td>\n      <td>NaN</td>\n      <td>NaN</td>\n    </tr>\n    <tr>\n      <th>1</th>\n      <td>1582988400</td>\n      <td>8693.73</td>\n      <td>8708.76</td>\n      <td>8619.73</td>\n      <td>8645.88</td>\n      <td>785.84</td>\n      <td>6824127.12</td>\n      <td>8664.245</td>\n      <td>2020-02-29 15:00:00</td>\n      <td>NaN</td>\n      <td>...</td>\n      <td>NaN</td>\n      <td>NaN</td>\n      <td>NaN</td>\n      <td>NaT</td>\n      <td>NaT</td>\n      <td>NaN</td>\n      <td>NaN</td>\n      <td>NaN</td>\n      <td>NaN</td>\n      <td>NaN</td>\n    </tr>\n    <tr>\n      <th>2</th>\n      <td>1582992000</td>\n      <td>8638.05</td>\n      <td>8702.50</td>\n      <td>8630.15</td>\n      <td>8693.73</td>\n      <td>761.92</td>\n      <td>6629631.43</td>\n      <td>8666.325</td>\n      <td>2020-02-29 16:00:00</td>\n      <td>NaN</td>\n      <td>...</td>\n      <td>NaN</td>\n      <td>NaN</td>\n      <td>NaN</td>\n      <td>NaT</td>\n      <td>NaT</td>\n      <td>NaN</td>\n      <td>NaN</td>\n      <td>NaN</td>\n      <td>NaN</td>\n      <td>NaN</td>\n    </tr>\n    <tr>\n      <th>3</th>\n      <td>1582995600</td>\n      <td>8701.21</td>\n      <td>8702.40</td>\n      <td>8623.94</td>\n      <td>8638.05</td>\n      <td>951.78</td>\n      <td>8259525.21</td>\n      <td>8663.170</td>\n      <td>2020-02-29 17:00:00</td>\n      <td>NaN</td>\n      <td>...</td>\n      <td>NaN</td>\n      <td>NaN</td>\n      <td>NaN</td>\n      <td>NaT</td>\n      <td>NaT</td>\n      <td>NaN</td>\n      <td>NaN</td>\n      <td>NaN</td>\n      <td>NaN</td>\n      <td>NaN</td>\n    </tr>\n    <tr>\n      <th>4</th>\n      <td>1582999200</td>\n      <td>8695.56</td>\n      <td>8714.49</td>\n      <td>8666.65</td>\n      <td>8701.21</td>\n      <td>556.50</td>\n      <td>4862181.37</td>\n      <td>8690.570</td>\n      <td>2020-02-29 18:00:00</td>\n      <td>NaN</td>\n      <td>...</td>\n      <td>NaN</td>\n      <td>NaN</td>\n      <td>NaN</td>\n      <td>NaT</td>\n      <td>NaT</td>\n      <td>NaN</td>\n      <td>NaN</td>\n      <td>NaN</td>\n      <td>NaN</td>\n      <td>NaN</td>\n    </tr>\n    <tr>\n      <th>...</th>\n      <td>...</td>\n      <td>...</td>\n      <td>...</td>\n      <td>...</td>\n      <td>...</td>\n      <td>...</td>\n      <td>...</td>\n      <td>...</td>\n      <td>...</td>\n      <td>...</td>\n      <td>...</td>\n      <td>...</td>\n      <td>...</td>\n      <td>...</td>\n      <td>...</td>\n      <td>...</td>\n      <td>...</td>\n      <td>...</td>\n      <td>...</td>\n      <td>...</td>\n      <td>...</td>\n    </tr>\n    <tr>\n      <th>1916</th>\n      <td>1589882400</td>\n      <td>9782.20</td>\n      <td>9800.49</td>\n      <td>9756.08</td>\n      <td>9781.42</td>\n      <td>1831.88</td>\n      <td>17917644.42</td>\n      <td>9778.285</td>\n      <td>2020-05-19 10:00:00</td>\n      <td>NaN</td>\n      <td>...</td>\n      <td>NaN</td>\n      <td>NaN</td>\n      <td>NaN</td>\n      <td>NaT</td>\n      <td>NaT</td>\n      <td>NaN</td>\n      <td>NaN</td>\n      <td>NaN</td>\n      <td>NaN</td>\n      <td>NaN</td>\n    </tr>\n    <tr>\n      <th>1917</th>\n      <td>1589886000</td>\n      <td>9734.17</td>\n      <td>9890.69</td>\n      <td>9698.57</td>\n      <td>9782.20</td>\n      <td>5844.63</td>\n      <td>57351450.36</td>\n      <td>9794.630</td>\n      <td>2020-05-19 11:00:00</td>\n      <td>NaN</td>\n      <td>...</td>\n      <td>NaN</td>\n      <td>NaN</td>\n      <td>NaN</td>\n      <td>NaT</td>\n      <td>NaT</td>\n      <td>NaN</td>\n      <td>NaN</td>\n      <td>NaN</td>\n      <td>NaN</td>\n      <td>NaN</td>\n    </tr>\n    <tr>\n      <th>1918</th>\n      <td>1589889600</td>\n      <td>9614.99</td>\n      <td>9749.27</td>\n      <td>9571.68</td>\n      <td>9734.17</td>\n      <td>6755.46</td>\n      <td>65106618.78</td>\n      <td>9660.475</td>\n      <td>2020-05-19 12:00:00</td>\n      <td>NaN</td>\n      <td>...</td>\n      <td>NaN</td>\n      <td>NaN</td>\n      <td>NaN</td>\n      <td>NaT</td>\n      <td>NaT</td>\n      <td>NaN</td>\n      <td>NaN</td>\n      <td>NaN</td>\n      <td>NaN</td>\n      <td>NaN</td>\n    </tr>\n    <tr>\n      <th>1919</th>\n      <td>1589893200</td>\n      <td>9664.15</td>\n      <td>9679.35</td>\n      <td>9595.02</td>\n      <td>9614.99</td>\n      <td>3405.25</td>\n      <td>32820135.94</td>\n      <td>9637.185</td>\n      <td>2020-05-19 13:00:00</td>\n      <td>NaN</td>\n      <td>...</td>\n      <td>NaN</td>\n      <td>NaN</td>\n      <td>NaN</td>\n      <td>NaT</td>\n      <td>NaT</td>\n      <td>NaN</td>\n      <td>NaN</td>\n      <td>NaN</td>\n      <td>NaN</td>\n      <td>NaN</td>\n    </tr>\n    <tr>\n      <th>1920</th>\n      <td>1589896800</td>\n      <td>9703.38</td>\n      <td>9724.66</td>\n      <td>9663.75</td>\n      <td>9664.15</td>\n      <td>1572.48</td>\n      <td>15256262.71</td>\n      <td>9694.205</td>\n      <td>2020-05-19 14:00:00</td>\n      <td>NaN</td>\n      <td>...</td>\n      <td>NaN</td>\n      <td>NaN</td>\n      <td>NaN</td>\n      <td>NaT</td>\n      <td>NaT</td>\n      <td>NaN</td>\n      <td>NaN</td>\n      <td>NaN</td>\n      <td>NaN</td>\n      <td>NaN</td>\n    </tr>\n  </tbody>\n</table>\n<p>1921 rows × 30 columns</p>\n</div>"
     },
     "metadata": {},
     "execution_count": 40
    }
   ],
   "source": [
    "pd.merge_asof(btc_market, btc_tweets, left_on='time_formatted', right_on='timestamp', direction='forward', tolerance=pd.Timedelta('1h'))"
   ]
  }
 ],
 "metadata": {
  "language_info": {
   "codemirror_mode": {
    "name": "ipython",
    "version": 3
   },
   "file_extension": ".py",
   "mimetype": "text/x-python",
   "name": "python",
   "nbconvert_exporter": "python",
   "pygments_lexer": "ipython3",
   "version": "3.8.2-final"
  },
  "orig_nbformat": 2,
  "kernelspec": {
   "name": "python38264bitcvconda42f6ee1eb600418da12fd4932d15bb6b",
   "display_name": "Python 3.8.2 64-bit ('CV': conda)"
  }
 },
 "nbformat": 4,
 "nbformat_minor": 2
}