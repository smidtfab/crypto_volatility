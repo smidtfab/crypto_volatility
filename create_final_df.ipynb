{
 "cells": [
  {
   "cell_type": "code",
   "execution_count": 1,
   "metadata": {},
   "outputs": [],
   "source": [
    "import pandas as pd\n",
    "import numpy as np\n",
    "from datetime import datetime\n",
    "import matplotlib\n",
    "import re\n",
    "from nltk.tokenize import word_tokenize\n",
    "from string import punctuation \n",
    "from nltk.corpus import stopwords \n",
    "from SentimentAnalyser import SentimentAnalyser\n",
    "from nltk.tokenize.treebank import TreebankWordDetokenizer"
   ]
  },
  {
   "cell_type": "markdown",
   "metadata": {},
   "source": [
    "## Read in data "
   ]
  },
  {
   "cell_type": "markdown",
   "metadata": {},
   "source": [
    "### Market data"
   ]
  },
  {
   "cell_type": "code",
   "execution_count": 2,
   "metadata": {},
   "outputs": [
    {
     "output_type": "execute_result",
     "data": {
      "text/plain": "         time    close     high      low     open  volumefrom    volumeto  \\\n0  1582984800  8645.88  8678.25  8606.31  8676.27      954.50  8238841.34   \n1  1582988400  8693.73  8708.76  8619.73  8645.88      785.84  6824127.12   \n2  1582992000  8638.05  8702.50  8630.15  8693.73      761.92  6629631.43   \n3  1582995600  8701.21  8702.40  8623.94  8638.05      951.78  8259525.21   \n4  1582999200  8695.56  8714.49  8666.65  8701.21      556.50  4862181.37   \n\n        mid  \n0  8642.280  \n1  8664.245  \n2  8666.325  \n3  8663.170  \n4  8690.570  ",
      "text/html": "<div>\n<style scoped>\n    .dataframe tbody tr th:only-of-type {\n        vertical-align: middle;\n    }\n\n    .dataframe tbody tr th {\n        vertical-align: top;\n    }\n\n    .dataframe thead th {\n        text-align: right;\n    }\n</style>\n<table border=\"1\" class=\"dataframe\">\n  <thead>\n    <tr style=\"text-align: right;\">\n      <th></th>\n      <th>time</th>\n      <th>close</th>\n      <th>high</th>\n      <th>low</th>\n      <th>open</th>\n      <th>volumefrom</th>\n      <th>volumeto</th>\n      <th>mid</th>\n    </tr>\n  </thead>\n  <tbody>\n    <tr>\n      <th>0</th>\n      <td>1582984800</td>\n      <td>8645.88</td>\n      <td>8678.25</td>\n      <td>8606.31</td>\n      <td>8676.27</td>\n      <td>954.50</td>\n      <td>8238841.34</td>\n      <td>8642.280</td>\n    </tr>\n    <tr>\n      <th>1</th>\n      <td>1582988400</td>\n      <td>8693.73</td>\n      <td>8708.76</td>\n      <td>8619.73</td>\n      <td>8645.88</td>\n      <td>785.84</td>\n      <td>6824127.12</td>\n      <td>8664.245</td>\n    </tr>\n    <tr>\n      <th>2</th>\n      <td>1582992000</td>\n      <td>8638.05</td>\n      <td>8702.50</td>\n      <td>8630.15</td>\n      <td>8693.73</td>\n      <td>761.92</td>\n      <td>6629631.43</td>\n      <td>8666.325</td>\n    </tr>\n    <tr>\n      <th>3</th>\n      <td>1582995600</td>\n      <td>8701.21</td>\n      <td>8702.40</td>\n      <td>8623.94</td>\n      <td>8638.05</td>\n      <td>951.78</td>\n      <td>8259525.21</td>\n      <td>8663.170</td>\n    </tr>\n    <tr>\n      <th>4</th>\n      <td>1582999200</td>\n      <td>8695.56</td>\n      <td>8714.49</td>\n      <td>8666.65</td>\n      <td>8701.21</td>\n      <td>556.50</td>\n      <td>4862181.37</td>\n      <td>8690.570</td>\n    </tr>\n  </tbody>\n</table>\n</div>"
     },
     "metadata": {},
     "execution_count": 2
    }
   ],
   "source": [
    "btc_market = pd.read_csv(\"data/BTC-USD-80.csv\")\n",
    "btc_market.head()"
   ]
  },
  {
   "cell_type": "markdown",
   "metadata": {},
   "source": [
    "#### Convert unix code time to more readable datetime format"
   ]
  },
  {
   "cell_type": "code",
   "execution_count": 3,
   "metadata": {},
   "outputs": [],
   "source": [
    "btc_market['time_formatted'] = pd.to_datetime(btc_market['time'], unit='s')"
   ]
  },
  {
   "cell_type": "code",
   "execution_count": 4,
   "metadata": {},
   "outputs": [
    {
     "output_type": "execute_result",
     "data": {
      "text/plain": "         time      time_formatted\n0  1582984800 2020-02-29 14:00:00\n1  1582988400 2020-02-29 15:00:00\n2  1582992000 2020-02-29 16:00:00\n3  1582995600 2020-02-29 17:00:00\n4  1582999200 2020-02-29 18:00:00",
      "text/html": "<div>\n<style scoped>\n    .dataframe tbody tr th:only-of-type {\n        vertical-align: middle;\n    }\n\n    .dataframe tbody tr th {\n        vertical-align: top;\n    }\n\n    .dataframe thead th {\n        text-align: right;\n    }\n</style>\n<table border=\"1\" class=\"dataframe\">\n  <thead>\n    <tr style=\"text-align: right;\">\n      <th></th>\n      <th>time</th>\n      <th>time_formatted</th>\n    </tr>\n  </thead>\n  <tbody>\n    <tr>\n      <th>0</th>\n      <td>1582984800</td>\n      <td>2020-02-29 14:00:00</td>\n    </tr>\n    <tr>\n      <th>1</th>\n      <td>1582988400</td>\n      <td>2020-02-29 15:00:00</td>\n    </tr>\n    <tr>\n      <th>2</th>\n      <td>1582992000</td>\n      <td>2020-02-29 16:00:00</td>\n    </tr>\n    <tr>\n      <th>3</th>\n      <td>1582995600</td>\n      <td>2020-02-29 17:00:00</td>\n    </tr>\n    <tr>\n      <th>4</th>\n      <td>1582999200</td>\n      <td>2020-02-29 18:00:00</td>\n    </tr>\n  </tbody>\n</table>\n</div>"
     },
     "metadata": {},
     "execution_count": 4
    }
   ],
   "source": [
    "btc_market[['time', 'time_formatted']].head()"
   ]
  },
  {
   "cell_type": "markdown",
   "metadata": {},
   "source": [
    "### Volatility data"
   ]
  },
  {
   "cell_type": "code",
   "execution_count": 5,
   "metadata": {},
   "outputs": [
    {
     "output_type": "execute_result",
     "data": {
      "text/plain": "           date       vcrix\n147  2020-05-27  873.952874\n148  2020-05-28  871.938590\n149  2020-05-29  900.197688\n150  2020-05-30  898.384012\n151  2020-05-31  819.182235",
      "text/html": "<div>\n<style scoped>\n    .dataframe tbody tr th:only-of-type {\n        vertical-align: middle;\n    }\n\n    .dataframe tbody tr th {\n        vertical-align: top;\n    }\n\n    .dataframe thead th {\n        text-align: right;\n    }\n</style>\n<table border=\"1\" class=\"dataframe\">\n  <thead>\n    <tr style=\"text-align: right;\">\n      <th></th>\n      <th>date</th>\n      <th>vcrix</th>\n    </tr>\n  </thead>\n  <tbody>\n    <tr>\n      <th>147</th>\n      <td>2020-05-27</td>\n      <td>873.952874</td>\n    </tr>\n    <tr>\n      <th>148</th>\n      <td>2020-05-28</td>\n      <td>871.938590</td>\n    </tr>\n    <tr>\n      <th>149</th>\n      <td>2020-05-29</td>\n      <td>900.197688</td>\n    </tr>\n    <tr>\n      <th>150</th>\n      <td>2020-05-30</td>\n      <td>898.384012</td>\n    </tr>\n    <tr>\n      <th>151</th>\n      <td>2020-05-31</td>\n      <td>819.182235</td>\n    </tr>\n  </tbody>\n</table>\n</div>"
     },
     "metadata": {},
     "execution_count": 5
    }
   ],
   "source": [
    "btc_volatility = pd.read_csv(\"data/vcrix.csv\")\n",
    "btc_volatility.tail()"
   ]
  },
  {
   "cell_type": "code",
   "execution_count": 6,
   "metadata": {},
   "outputs": [],
   "source": [
    "btc_volatility['date'] = pd.to_datetime(btc_volatility['date'])"
   ]
  },
  {
   "cell_type": "code",
   "execution_count": 7,
   "metadata": {},
   "outputs": [],
   "source": [
    "# btc_volatility.drop(columns=['Unnamed: 0', 'n'], inplace=True)\n",
    "\n",
    "# btc_volatility = btc_volatility[(btc_volatility['date'] >= '2020-01-01') & (btc_volatility['date'] < '2020-0-01')]\n",
    "# btc_volatility"
   ]
  },
  {
   "cell_type": "code",
   "execution_count": 8,
   "metadata": {},
   "outputs": [],
   "source": [
    "btc_volatility['vcrix_log_diff'] = np.log(btc_volatility['vcrix']) - np.log(btc_volatility['vcrix'].shift(1))"
   ]
  },
  {
   "cell_type": "markdown",
   "metadata": {},
   "source": [
    "### Trend"
   ]
  },
  {
   "cell_type": "code",
   "execution_count": 9,
   "metadata": {},
   "outputs": [
    {
     "output_type": "execute_result",
     "data": {
      "text/plain": "                     date  Bitcoin  BTC  isPartial\n0     2020-01-01 00:00:00       49   13      False\n1     2020-01-01 01:00:00       46   13      False\n2     2020-01-01 02:00:00       43   14      False\n3     2020-01-01 03:00:00        0    0      False\n4     2020-01-01 04:00:00        0    0      False\n...                   ...      ...  ...        ...\n3641  2020-05-30 20:00:00       52   13      False\n3642  2020-05-30 21:00:00       59   13      False\n3643  2020-05-30 22:00:00       57   15      False\n3644  2020-05-30 23:00:00       60   16      False\n3645  2020-05-31 00:00:00       55   15      False\n\n[3646 rows x 4 columns]",
      "text/html": "<div>\n<style scoped>\n    .dataframe tbody tr th:only-of-type {\n        vertical-align: middle;\n    }\n\n    .dataframe tbody tr th {\n        vertical-align: top;\n    }\n\n    .dataframe thead th {\n        text-align: right;\n    }\n</style>\n<table border=\"1\" class=\"dataframe\">\n  <thead>\n    <tr style=\"text-align: right;\">\n      <th></th>\n      <th>date</th>\n      <th>Bitcoin</th>\n      <th>BTC</th>\n      <th>isPartial</th>\n    </tr>\n  </thead>\n  <tbody>\n    <tr>\n      <th>0</th>\n      <td>2020-01-01 00:00:00</td>\n      <td>49</td>\n      <td>13</td>\n      <td>False</td>\n    </tr>\n    <tr>\n      <th>1</th>\n      <td>2020-01-01 01:00:00</td>\n      <td>46</td>\n      <td>13</td>\n      <td>False</td>\n    </tr>\n    <tr>\n      <th>2</th>\n      <td>2020-01-01 02:00:00</td>\n      <td>43</td>\n      <td>14</td>\n      <td>False</td>\n    </tr>\n    <tr>\n      <th>3</th>\n      <td>2020-01-01 03:00:00</td>\n      <td>0</td>\n      <td>0</td>\n      <td>False</td>\n    </tr>\n    <tr>\n      <th>4</th>\n      <td>2020-01-01 04:00:00</td>\n      <td>0</td>\n      <td>0</td>\n      <td>False</td>\n    </tr>\n    <tr>\n      <th>...</th>\n      <td>...</td>\n      <td>...</td>\n      <td>...</td>\n      <td>...</td>\n    </tr>\n    <tr>\n      <th>3641</th>\n      <td>2020-05-30 20:00:00</td>\n      <td>52</td>\n      <td>13</td>\n      <td>False</td>\n    </tr>\n    <tr>\n      <th>3642</th>\n      <td>2020-05-30 21:00:00</td>\n      <td>59</td>\n      <td>13</td>\n      <td>False</td>\n    </tr>\n    <tr>\n      <th>3643</th>\n      <td>2020-05-30 22:00:00</td>\n      <td>57</td>\n      <td>15</td>\n      <td>False</td>\n    </tr>\n    <tr>\n      <th>3644</th>\n      <td>2020-05-30 23:00:00</td>\n      <td>60</td>\n      <td>16</td>\n      <td>False</td>\n    </tr>\n    <tr>\n      <th>3645</th>\n      <td>2020-05-31 00:00:00</td>\n      <td>55</td>\n      <td>15</td>\n      <td>False</td>\n    </tr>\n  </tbody>\n</table>\n<p>3646 rows × 4 columns</p>\n</div>"
     },
     "metadata": {},
     "execution_count": 9
    }
   ],
   "source": [
    "btc_trend = pd.read_csv('data/BTC_trend.csv')\n",
    "btc_trend"
   ]
  },
  {
   "cell_type": "code",
   "execution_count": 10,
   "metadata": {},
   "outputs": [
    {
     "output_type": "execute_result",
     "data": {
      "text/plain": "0   2020-01-01 00:00:00\n1   2020-01-01 01:00:00\n2   2020-01-01 02:00:00\n3   2020-01-01 03:00:00\n4   2020-01-01 04:00:00\nName: date, dtype: datetime64[ns]"
     },
     "metadata": {},
     "execution_count": 10
    }
   ],
   "source": [
    "btc_trend['date'] = pd.to_datetime(btc_trend['date'])\n",
    "btc_trend['date'].head()"
   ]
  },
  {
   "cell_type": "markdown",
   "metadata": {},
   "source": [
    "### Tweets"
   ]
  },
  {
   "cell_type": "code",
   "execution_count": 11,
   "metadata": {},
   "outputs": [],
   "source": [
    "# sentiment analyser class\n",
    "sent_analyser = SentimentAnalyser()"
   ]
  },
  {
   "cell_type": "code",
   "execution_count": 12,
   "metadata": {},
   "outputs": [],
   "source": [
    "# stopwords for cleaning\n",
    "stopwords = set(stopwords.words('english') + list(punctuation) + ['AT_USER','URL'])"
   ]
  },
  {
   "cell_type": "code",
   "execution_count": 13,
   "metadata": {},
   "outputs": [],
   "source": [
    "# cleaning method for tweets\n",
    "def processTweet(tweet):\n",
    "        tweet = tweet.lower() # convert text to lower-case\n",
    "        tweet = re.sub('((www\\.[^\\s]+)|(https?://[^\\s]+))', 'URL', tweet) # remove URLs\n",
    "        tweet = re.sub('@[^\\s]+', 'AT_USER', tweet) # remove usernames\n",
    "        tweet = re.sub(r'#([^\\s]+)', r'\\1', tweet) # remove the # in #hashtag\n",
    "        tweet = word_tokenize(tweet) # remove repeated characters (helloooooooo into hello)\n",
    "        tweet = [word for word in tweet if word not in stopwords]\n",
    "        tweet = TreebankWordDetokenizer().detokenize(tweet)\n",
    "        return tweet"
   ]
  },
  {
   "cell_type": "code",
   "execution_count": 14,
   "metadata": {},
   "outputs": [],
   "source": [
    "def processTweets(chunk):\n",
    "    processed_tweets = []\n",
    "    tweet_sentiments = []\n",
    "    for tweet in chunk['text']:\n",
    "        if isinstance(tweet, str):\n",
    "            # clean tweet\n",
    "            processed_tweet = processTweet(tweet)\n",
    "            \n",
    "            # perform sentiment analysis on cleaned tweet using Sentiment Analyser\n",
    "            tweet_sentiment = sent_analyser.sentiment_analyzer_scores(processed_tweet) # returns dictionary \n",
    "\n",
    "            # add to respective lists\n",
    "            processed_tweets.append(processed_tweet)\n",
    "            tweet_sentiments.append(tweet_sentiment)\n",
    "\n",
    "    return (processed_tweets, pd.DataFrame(tweet_sentiments))"
   ]
  },
  {
   "cell_type": "code",
   "execution_count": 15,
   "metadata": {},
   "outputs": [],
   "source": [
    "# read the large csv file with specified chunksize \n",
    "df_chunk = pd.read_csv('data/combined_tweets.csv', chunksize=50000) # add nrows=100 for testing\n",
    "\n",
    "#df_chunk = pd.read_csv('data/by_day/tweets_btc_2020-05-12.csv', chunksize=500)"
   ]
  },
  {
   "cell_type": "code",
   "execution_count": 16,
   "metadata": {
    "tags": []
   },
   "outputs": [],
   "source": [
    "chunk_list = []  # append each chunk df here \n",
    "\n",
    "# Each chunk is in df format\n",
    "for chunk in df_chunk:  \n",
    "    # drop columns where text contains nan\n",
    "    chunk.dropna(subset=['text'], inplace=True)\n",
    "\n",
    "    # init empty sentiment columns \n",
    "    chunk[['neg', 'neu', 'pos', 'compound']] = pd.DataFrame([[np.nan, np.nan, np.nan, np.nan]], index=chunk.index)\n",
    "\n",
    "    # perform data filtering \n",
    "    chunk_text_filtered = processTweets(chunk)\n",
    "\n",
    "    # set filtered text and sentiments\n",
    "    chunk['text'], chunk[['neg', 'neu', 'pos', 'compound']] = chunk_text_filtered\n",
    "    \n",
    "    # Once the data filtering is done, append the chunk to list\n",
    "    chunk_list.append(chunk)\n",
    "    \n",
    "# concat the list into dataframe \n",
    "btc_tweets = pd.concat(chunk_list.copy())"
   ]
  },
  {
   "cell_type": "code",
   "execution_count": 17,
   "metadata": {},
   "outputs": [
    {
     "output_type": "execute_result",
     "data": {
      "text/plain": "   Unnamed: 0  has_media                                           hashtags  \\\n0         0.0      False  ['bitcoin', 'shorts', 'liquidated', 'Iran', 'W...   \n1         1.0      False                                 ['bitcoin', 'BTC']   \n2         2.0      False                                                 []   \n3         3.0      False                                        ['Bitcoin']   \n4         4.0      False                                 ['Bitcoin', 'BTC']   \n\n  img_urls  is_replied  is_reply_to  likes links  parent_tweet_id  replies  \\\n0       []       False        False      2    []              NaN        0   \n1       []       False        False      0    []              NaN        0   \n2       []       False         True      1    []     1.213121e+18        0   \n3       []       False        False      4    []              NaN        0   \n4       []       False        False      0    []              NaN        0   \n\n   ...     timestamp_epochs             tweet_id  \\\n0  ...  2020-01-03 23:59:55  1213248655320326144   \n1  ...  2020-01-03 23:59:47  1213248621438754816   \n2  ...  2020-01-03 23:59:23  1213248523585478656   \n3  ...  2020-01-03 23:59:05  1213248448553730048   \n4  ...  2020-01-03 23:58:57  1213248411417370624   \n\n                                    tweet_url              user_id  \\\n0  /CryptoDivision/status/1213248655320326144   890003583231418368   \n1   /GetTheCrypto1/status/1213248621438754820  1105237963426816000   \n2      /zhtttttty4/status/1213248523585478656  1186910416313737216   \n3     /WhaleTrades/status/1213248448553730048   968796006576947200   \n4    /reqBitcoinJS/status/1213248411417370624  1082323663238713344   \n\n                                     username video_url    neg    neu    pos  \\\n0                           TheCryptoDivision       NaN  0.147  0.853  0.000   \n1                                GetTheCrypto       NaN  0.000  1.000  0.000   \n2                                   zhtttttty       NaN  0.088  0.749  0.163   \n3                               WhaleTrades 🐳       NaN  0.000  0.863  0.137   \n4  Bitcoin.js //Bitcoin price every half hour       NaN  0.000  1.000  0.000   \n\n   compound  \n0   -0.5095  \n1    0.0000  \n2    0.3182  \n3    0.2263  \n4    0.0000  \n\n[5 rows x 26 columns]",
      "text/html": "<div>\n<style scoped>\n    .dataframe tbody tr th:only-of-type {\n        vertical-align: middle;\n    }\n\n    .dataframe tbody tr th {\n        vertical-align: top;\n    }\n\n    .dataframe thead th {\n        text-align: right;\n    }\n</style>\n<table border=\"1\" class=\"dataframe\">\n  <thead>\n    <tr style=\"text-align: right;\">\n      <th></th>\n      <th>Unnamed: 0</th>\n      <th>has_media</th>\n      <th>hashtags</th>\n      <th>img_urls</th>\n      <th>is_replied</th>\n      <th>is_reply_to</th>\n      <th>likes</th>\n      <th>links</th>\n      <th>parent_tweet_id</th>\n      <th>replies</th>\n      <th>...</th>\n      <th>timestamp_epochs</th>\n      <th>tweet_id</th>\n      <th>tweet_url</th>\n      <th>user_id</th>\n      <th>username</th>\n      <th>video_url</th>\n      <th>neg</th>\n      <th>neu</th>\n      <th>pos</th>\n      <th>compound</th>\n    </tr>\n  </thead>\n  <tbody>\n    <tr>\n      <th>0</th>\n      <td>0.0</td>\n      <td>False</td>\n      <td>['bitcoin', 'shorts', 'liquidated', 'Iran', 'W...</td>\n      <td>[]</td>\n      <td>False</td>\n      <td>False</td>\n      <td>2</td>\n      <td>[]</td>\n      <td>NaN</td>\n      <td>0</td>\n      <td>...</td>\n      <td>2020-01-03 23:59:55</td>\n      <td>1213248655320326144</td>\n      <td>/CryptoDivision/status/1213248655320326144</td>\n      <td>890003583231418368</td>\n      <td>TheCryptoDivision</td>\n      <td>NaN</td>\n      <td>0.147</td>\n      <td>0.853</td>\n      <td>0.000</td>\n      <td>-0.5095</td>\n    </tr>\n    <tr>\n      <th>1</th>\n      <td>1.0</td>\n      <td>False</td>\n      <td>['bitcoin', 'BTC']</td>\n      <td>[]</td>\n      <td>False</td>\n      <td>False</td>\n      <td>0</td>\n      <td>[]</td>\n      <td>NaN</td>\n      <td>0</td>\n      <td>...</td>\n      <td>2020-01-03 23:59:47</td>\n      <td>1213248621438754816</td>\n      <td>/GetTheCrypto1/status/1213248621438754820</td>\n      <td>1105237963426816000</td>\n      <td>GetTheCrypto</td>\n      <td>NaN</td>\n      <td>0.000</td>\n      <td>1.000</td>\n      <td>0.000</td>\n      <td>0.0000</td>\n    </tr>\n    <tr>\n      <th>2</th>\n      <td>2.0</td>\n      <td>False</td>\n      <td>[]</td>\n      <td>[]</td>\n      <td>False</td>\n      <td>True</td>\n      <td>1</td>\n      <td>[]</td>\n      <td>1.213121e+18</td>\n      <td>0</td>\n      <td>...</td>\n      <td>2020-01-03 23:59:23</td>\n      <td>1213248523585478656</td>\n      <td>/zhtttttty4/status/1213248523585478656</td>\n      <td>1186910416313737216</td>\n      <td>zhtttttty</td>\n      <td>NaN</td>\n      <td>0.088</td>\n      <td>0.749</td>\n      <td>0.163</td>\n      <td>0.3182</td>\n    </tr>\n    <tr>\n      <th>3</th>\n      <td>3.0</td>\n      <td>False</td>\n      <td>['Bitcoin']</td>\n      <td>[]</td>\n      <td>False</td>\n      <td>False</td>\n      <td>4</td>\n      <td>[]</td>\n      <td>NaN</td>\n      <td>0</td>\n      <td>...</td>\n      <td>2020-01-03 23:59:05</td>\n      <td>1213248448553730048</td>\n      <td>/WhaleTrades/status/1213248448553730048</td>\n      <td>968796006576947200</td>\n      <td>WhaleTrades 🐳</td>\n      <td>NaN</td>\n      <td>0.000</td>\n      <td>0.863</td>\n      <td>0.137</td>\n      <td>0.2263</td>\n    </tr>\n    <tr>\n      <th>4</th>\n      <td>4.0</td>\n      <td>False</td>\n      <td>['Bitcoin', 'BTC']</td>\n      <td>[]</td>\n      <td>False</td>\n      <td>False</td>\n      <td>0</td>\n      <td>[]</td>\n      <td>NaN</td>\n      <td>0</td>\n      <td>...</td>\n      <td>2020-01-03 23:58:57</td>\n      <td>1213248411417370624</td>\n      <td>/reqBitcoinJS/status/1213248411417370624</td>\n      <td>1082323663238713344</td>\n      <td>Bitcoin.js //Bitcoin price every half hour</td>\n      <td>NaN</td>\n      <td>0.000</td>\n      <td>1.000</td>\n      <td>0.000</td>\n      <td>0.0000</td>\n    </tr>\n  </tbody>\n</table>\n<p>5 rows × 26 columns</p>\n</div>"
     },
     "metadata": {},
     "execution_count": 17
    }
   ],
   "source": [
    "btc_tweets.head()"
   ]
  },
  {
   "cell_type": "code",
   "execution_count": 18,
   "metadata": {},
   "outputs": [],
   "source": [
    "btc_tweets.drop(columns='Unnamed: 0', inplace=True)"
   ]
  },
  {
   "cell_type": "code",
   "execution_count": 19,
   "metadata": {},
   "outputs": [],
   "source": [
    "btc_tweets['timestamp'] = pd.to_datetime(btc_tweets['timestamp'])"
   ]
  },
  {
   "cell_type": "code",
   "execution_count": 20,
   "metadata": {},
   "outputs": [],
   "source": [
    "btc_tweets.sort_values(by=\"timestamp\", inplace=True)"
   ]
  },
  {
   "cell_type": "code",
   "execution_count": 21,
   "metadata": {},
   "outputs": [
    {
     "output_type": "execute_result",
     "data": {
      "text/plain": "True"
     },
     "metadata": {},
     "execution_count": 21
    }
   ],
   "source": [
    "# check if duplicate tweets exist\n",
    "len(btc_tweets['tweet_id']) != len(set(btc_tweets['tweet_id']))"
   ]
  },
  {
   "cell_type": "code",
   "execution_count": 22,
   "metadata": {},
   "outputs": [
    {
     "output_type": "execute_result",
     "data": {
      "text/plain": "False"
     },
     "metadata": {},
     "execution_count": 22
    }
   ],
   "source": [
    "# drop all rows with duplicate tweet id\n",
    "btc_tweets.drop_duplicates(subset =\"tweet_id\", inplace = True)\n",
    "\n",
    "# check again if duplicate tweets exist\n",
    "len(btc_tweets['tweet_id']) != len(set(btc_tweets['tweet_id']))"
   ]
  },
  {
   "cell_type": "code",
   "execution_count": 23,
   "metadata": {},
   "outputs": [
    {
     "output_type": "execute_result",
     "data": {
      "text/plain": "(585320, 25)"
     },
     "metadata": {},
     "execution_count": 23
    }
   ],
   "source": [
    "btc_tweets.shape"
   ]
  },
  {
   "cell_type": "code",
   "execution_count": 24,
   "metadata": {},
   "outputs": [
    {
     "output_type": "execute_result",
     "data": {
      "text/plain": "       has_media                                           hashtags  \\\n61616      False                                            ['BTC']   \n61615      False  ['1', 'bitcoin', 'price', 'coinmarketcap', '3V...   \n61614       True  ['Binance', 'Bittrex', 'bitcoin', 'trading', '...   \n61613      False           ['ビットコイン', 'bitcoin', 'btc', 'ブロックチェーン']   \n61612      False                     ['BITCOIN', 'BTC', 'poloniex']   \n\n                                                img_urls  is_replied  \\\n61616                                                 []       False   \n61615                                                 []       False   \n61614  ['https://pbs.twimg.com/media/ENJ2e10WkAAzwgh....        True   \n61613                                                 []       False   \n61612                                                 []       False   \n\n       is_reply_to  likes                                              links  \\\n61616        False      2         ['https://crypto.press/coins/BTC-bitcoin']   \n61615        False      0                                                 []   \n61614        False      1                           ['https://thesignal.io']   \n61613        False      0                                                 []   \n61612        False      0  ['https://clankapp.com/tx/btc/66c62510a27b7345...   \n\n       parent_tweet_id  replies reply_to_users  ...     timestamp_epochs  \\\n61616              NaN        0             []  ...  2020-01-01 00:00:00   \n61615              NaN        0             []  ...  2020-01-01 00:00:02   \n61614              NaN        1             []  ...  2020-01-01 00:00:02   \n61613              NaN        0             []  ...  2020-01-01 00:00:03   \n61612              NaN        0             []  ...  2020-01-01 00:00:04   \n\n                  tweet_id                                    tweet_url  \\\n61616  1212161514226036736  /CryptoPressNews/status/1212161514226036736   \n61615  1212161523247992832   /the1bitcoinbot/status/1212161523247992833   \n61614  1212161524254556160      /thesignalio/status/1212161524254556162   \n61613  1212161528280973312        /bitcoinjp/status/1212161528280973312   \n61612  1212161530147561472         /ClankApp/status/1212161530147561473   \n\n                   user_id                                    username  \\\n61616             24411256                                Crypto Press   \n61615  1113394645915054080                          TheOneBitcoinBot ⚡   \n61614   933113704366903296                                  The Signal   \n61613           1877257982                                   ビットコイン円相場   \n61612  1119277376108683264  Clank - Biggest Blockchains Transactions 🐳   \n\n      video_url  neg neu  pos compound  \n61616       NaN  NaN NaN  NaN      NaN  \n61615       NaN  NaN NaN  NaN      NaN  \n61614       NaN  NaN NaN  NaN      NaN  \n61613       NaN  NaN NaN  NaN      NaN  \n61612       NaN  NaN NaN  NaN      NaN  \n\n[5 rows x 25 columns]",
      "text/html": "<div>\n<style scoped>\n    .dataframe tbody tr th:only-of-type {\n        vertical-align: middle;\n    }\n\n    .dataframe tbody tr th {\n        vertical-align: top;\n    }\n\n    .dataframe thead th {\n        text-align: right;\n    }\n</style>\n<table border=\"1\" class=\"dataframe\">\n  <thead>\n    <tr style=\"text-align: right;\">\n      <th></th>\n      <th>has_media</th>\n      <th>hashtags</th>\n      <th>img_urls</th>\n      <th>is_replied</th>\n      <th>is_reply_to</th>\n      <th>likes</th>\n      <th>links</th>\n      <th>parent_tweet_id</th>\n      <th>replies</th>\n      <th>reply_to_users</th>\n      <th>...</th>\n      <th>timestamp_epochs</th>\n      <th>tweet_id</th>\n      <th>tweet_url</th>\n      <th>user_id</th>\n      <th>username</th>\n      <th>video_url</th>\n      <th>neg</th>\n      <th>neu</th>\n      <th>pos</th>\n      <th>compound</th>\n    </tr>\n  </thead>\n  <tbody>\n    <tr>\n      <th>61616</th>\n      <td>False</td>\n      <td>['BTC']</td>\n      <td>[]</td>\n      <td>False</td>\n      <td>False</td>\n      <td>2</td>\n      <td>['https://crypto.press/coins/BTC-bitcoin']</td>\n      <td>NaN</td>\n      <td>0</td>\n      <td>[]</td>\n      <td>...</td>\n      <td>2020-01-01 00:00:00</td>\n      <td>1212161514226036736</td>\n      <td>/CryptoPressNews/status/1212161514226036736</td>\n      <td>24411256</td>\n      <td>Crypto Press</td>\n      <td>NaN</td>\n      <td>NaN</td>\n      <td>NaN</td>\n      <td>NaN</td>\n      <td>NaN</td>\n    </tr>\n    <tr>\n      <th>61615</th>\n      <td>False</td>\n      <td>['1', 'bitcoin', 'price', 'coinmarketcap', '3V...</td>\n      <td>[]</td>\n      <td>False</td>\n      <td>False</td>\n      <td>0</td>\n      <td>[]</td>\n      <td>NaN</td>\n      <td>0</td>\n      <td>[]</td>\n      <td>...</td>\n      <td>2020-01-01 00:00:02</td>\n      <td>1212161523247992832</td>\n      <td>/the1bitcoinbot/status/1212161523247992833</td>\n      <td>1113394645915054080</td>\n      <td>TheOneBitcoinBot ⚡</td>\n      <td>NaN</td>\n      <td>NaN</td>\n      <td>NaN</td>\n      <td>NaN</td>\n      <td>NaN</td>\n    </tr>\n    <tr>\n      <th>61614</th>\n      <td>True</td>\n      <td>['Binance', 'Bittrex', 'bitcoin', 'trading', '...</td>\n      <td>['https://pbs.twimg.com/media/ENJ2e10WkAAzwgh....</td>\n      <td>True</td>\n      <td>False</td>\n      <td>1</td>\n      <td>['https://thesignal.io']</td>\n      <td>NaN</td>\n      <td>1</td>\n      <td>[]</td>\n      <td>...</td>\n      <td>2020-01-01 00:00:02</td>\n      <td>1212161524254556160</td>\n      <td>/thesignalio/status/1212161524254556162</td>\n      <td>933113704366903296</td>\n      <td>The Signal</td>\n      <td>NaN</td>\n      <td>NaN</td>\n      <td>NaN</td>\n      <td>NaN</td>\n      <td>NaN</td>\n    </tr>\n    <tr>\n      <th>61613</th>\n      <td>False</td>\n      <td>['ビットコイン', 'bitcoin', 'btc', 'ブロックチェーン']</td>\n      <td>[]</td>\n      <td>False</td>\n      <td>False</td>\n      <td>0</td>\n      <td>[]</td>\n      <td>NaN</td>\n      <td>0</td>\n      <td>[]</td>\n      <td>...</td>\n      <td>2020-01-01 00:00:03</td>\n      <td>1212161528280973312</td>\n      <td>/bitcoinjp/status/1212161528280973312</td>\n      <td>1877257982</td>\n      <td>ビットコイン円相場</td>\n      <td>NaN</td>\n      <td>NaN</td>\n      <td>NaN</td>\n      <td>NaN</td>\n      <td>NaN</td>\n    </tr>\n    <tr>\n      <th>61612</th>\n      <td>False</td>\n      <td>['BITCOIN', 'BTC', 'poloniex']</td>\n      <td>[]</td>\n      <td>False</td>\n      <td>False</td>\n      <td>0</td>\n      <td>['https://clankapp.com/tx/btc/66c62510a27b7345...</td>\n      <td>NaN</td>\n      <td>0</td>\n      <td>[]</td>\n      <td>...</td>\n      <td>2020-01-01 00:00:04</td>\n      <td>1212161530147561472</td>\n      <td>/ClankApp/status/1212161530147561473</td>\n      <td>1119277376108683264</td>\n      <td>Clank - Biggest Blockchains Transactions 🐳</td>\n      <td>NaN</td>\n      <td>NaN</td>\n      <td>NaN</td>\n      <td>NaN</td>\n      <td>NaN</td>\n    </tr>\n  </tbody>\n</table>\n<p>5 rows × 25 columns</p>\n</div>"
     },
     "metadata": {},
     "execution_count": 24
    }
   ],
   "source": [
    "btc_tweets.head()"
   ]
  },
  {
   "cell_type": "markdown",
   "metadata": {},
   "source": [
    "## Test by day"
   ]
  },
  {
   "cell_type": "code",
   "execution_count": 25,
   "metadata": {},
   "outputs": [
    {
     "output_type": "execute_result",
     "data": {
      "text/plain": "(4005, 21)"
     },
     "metadata": {},
     "execution_count": 25
    }
   ],
   "source": [
    "btc_tweets_by_day = pd.read_json(\"data/by_day/tweets_btc_2020-03-13.json\", encoding='utf-8')\n",
    "btc_tweets_by_day.shape"
   ]
  },
  {
   "cell_type": "code",
   "execution_count": 26,
   "metadata": {},
   "outputs": [
    {
     "output_type": "execute_result",
     "data": {
      "text/plain": "   has_media                                           hashtags  \\\n0      False                                [XBT, BTC, Bitcoin]   \n1       True                                          [bitcoin]   \n2      False  [cryptocurrency, crypto, blockchain, Bitcoin, ...   \n3      False                               [HODL, boomers, BTC]   \n4      False  [Trump, Stocks, Bitcoin, Cryptocurrencies, Dow...   \n\n                                            img_urls  is_replied  is_reply_to  \\\n0                                                 []       False        False   \n1  [https://pbs.twimg.com/media/ETBx3sIXQAYvSTD.jpg]        True        False   \n2                                                 []       False        False   \n3                                                 []       False         True   \n4                                                 []       False        False   \n\n   likes                                              links  \\\n0      1  [http://www.xbt.money/new-version-of-crypto-wa...   \n1     19                                                 []   \n2      0  [https://www.quora.com/How-much-do-you-believe...   \n3      0                                                 []   \n4      0  [https://www.visionary-finance.com/news/Trump-...   \n\n       parent_tweet_id  replies  \\\n0                             0   \n1                             3   \n2                             0   \n3  1238608438797701121        0   \n4                             0   \n\n                                      reply_to_users  ...      screen_name  \\\n0                                                 []  ...         xbtmoney   \n1                                                 []  ...        Karalhoin   \n2                                                 []  ...      arstech_biz   \n3  [{'screen_name': 'Bitcoin', 'user_id': '357312...  ...         edja7772   \n4                                                 []  ...  VisionaryFinanc   \n\n                                                text  \\\n0  New version of crypto wallet QPocket adds cold...   \n1  This is all I have to say given known current ...   \n2  My answer to How much do you believe the idea ...   \n3  I know it is scarry! However, #HODL is the onl...   \n4  #Trump Declares National Emergency & #Stocks R...   \n\n                                           text_html           timestamp  \\\n0  <p class=\"TweetTextSize js-tweet-text tweet-te... 2020-03-13 23:59:59   \n1  <p class=\"TweetTextSize js-tweet-text tweet-te... 2020-03-13 23:59:52   \n2  <p class=\"TweetTextSize js-tweet-text tweet-te... 2020-03-13 23:59:36   \n3  <p class=\"TweetTextSize js-tweet-text tweet-te... 2020-03-13 23:59:28   \n4  <p class=\"TweetTextSize js-tweet-text tweet-te... 2020-03-13 23:59:28   \n\n     timestamp_epochs             tweet_id  \\\n0 2020-03-13 23:59:59  1238615823297593344   \n1 2020-03-13 23:59:52  1238615793291706368   \n2 2020-03-13 23:59:36  1238615726379814912   \n3 2020-03-13 23:59:28  1238615695530905600   \n4 2020-03-13 23:59:28  1238615695371522048   \n\n                                     tweet_url             user_id  \\\n0         /xbtmoney/status/1238615823297593344           199453782   \n1        /Karalhoin/status/1238615793291706368           175960015   \n2      /arstech_biz/status/1238615726379814912  962117889028272128   \n3         /edja7772/status/1238615695530905600           298805664   \n4  /VisionaryFinanc/status/1238615695371522049  859252235804520448   \n\n                  username video_url  \n0                 XBTmoney            \n1  Vandelay BTC Industries            \n2              arstech.biz            \n3                    Edgar            \n4                       VF            \n\n[5 rows x 21 columns]",
      "text/html": "<div>\n<style scoped>\n    .dataframe tbody tr th:only-of-type {\n        vertical-align: middle;\n    }\n\n    .dataframe tbody tr th {\n        vertical-align: top;\n    }\n\n    .dataframe thead th {\n        text-align: right;\n    }\n</style>\n<table border=\"1\" class=\"dataframe\">\n  <thead>\n    <tr style=\"text-align: right;\">\n      <th></th>\n      <th>has_media</th>\n      <th>hashtags</th>\n      <th>img_urls</th>\n      <th>is_replied</th>\n      <th>is_reply_to</th>\n      <th>likes</th>\n      <th>links</th>\n      <th>parent_tweet_id</th>\n      <th>replies</th>\n      <th>reply_to_users</th>\n      <th>...</th>\n      <th>screen_name</th>\n      <th>text</th>\n      <th>text_html</th>\n      <th>timestamp</th>\n      <th>timestamp_epochs</th>\n      <th>tweet_id</th>\n      <th>tweet_url</th>\n      <th>user_id</th>\n      <th>username</th>\n      <th>video_url</th>\n    </tr>\n  </thead>\n  <tbody>\n    <tr>\n      <th>0</th>\n      <td>False</td>\n      <td>[XBT, BTC, Bitcoin]</td>\n      <td>[]</td>\n      <td>False</td>\n      <td>False</td>\n      <td>1</td>\n      <td>[http://www.xbt.money/new-version-of-crypto-wa...</td>\n      <td></td>\n      <td>0</td>\n      <td>[]</td>\n      <td>...</td>\n      <td>xbtmoney</td>\n      <td>New version of crypto wallet QPocket adds cold...</td>\n      <td>&lt;p class=\"TweetTextSize js-tweet-text tweet-te...</td>\n      <td>2020-03-13 23:59:59</td>\n      <td>2020-03-13 23:59:59</td>\n      <td>1238615823297593344</td>\n      <td>/xbtmoney/status/1238615823297593344</td>\n      <td>199453782</td>\n      <td>XBTmoney</td>\n      <td></td>\n    </tr>\n    <tr>\n      <th>1</th>\n      <td>True</td>\n      <td>[bitcoin]</td>\n      <td>[https://pbs.twimg.com/media/ETBx3sIXQAYvSTD.jpg]</td>\n      <td>True</td>\n      <td>False</td>\n      <td>19</td>\n      <td>[]</td>\n      <td></td>\n      <td>3</td>\n      <td>[]</td>\n      <td>...</td>\n      <td>Karalhoin</td>\n      <td>This is all I have to say given known current ...</td>\n      <td>&lt;p class=\"TweetTextSize js-tweet-text tweet-te...</td>\n      <td>2020-03-13 23:59:52</td>\n      <td>2020-03-13 23:59:52</td>\n      <td>1238615793291706368</td>\n      <td>/Karalhoin/status/1238615793291706368</td>\n      <td>175960015</td>\n      <td>Vandelay BTC Industries</td>\n      <td></td>\n    </tr>\n    <tr>\n      <th>2</th>\n      <td>False</td>\n      <td>[cryptocurrency, crypto, blockchain, Bitcoin, ...</td>\n      <td>[]</td>\n      <td>False</td>\n      <td>False</td>\n      <td>0</td>\n      <td>[https://www.quora.com/How-much-do-you-believe...</td>\n      <td></td>\n      <td>0</td>\n      <td>[]</td>\n      <td>...</td>\n      <td>arstech_biz</td>\n      <td>My answer to How much do you believe the idea ...</td>\n      <td>&lt;p class=\"TweetTextSize js-tweet-text tweet-te...</td>\n      <td>2020-03-13 23:59:36</td>\n      <td>2020-03-13 23:59:36</td>\n      <td>1238615726379814912</td>\n      <td>/arstech_biz/status/1238615726379814912</td>\n      <td>962117889028272128</td>\n      <td>arstech.biz</td>\n      <td></td>\n    </tr>\n    <tr>\n      <th>3</th>\n      <td>False</td>\n      <td>[HODL, boomers, BTC]</td>\n      <td>[]</td>\n      <td>False</td>\n      <td>True</td>\n      <td>0</td>\n      <td>[]</td>\n      <td>1238608438797701121</td>\n      <td>0</td>\n      <td>[{'screen_name': 'Bitcoin', 'user_id': '357312...</td>\n      <td>...</td>\n      <td>edja7772</td>\n      <td>I know it is scarry! However, #HODL is the onl...</td>\n      <td>&lt;p class=\"TweetTextSize js-tweet-text tweet-te...</td>\n      <td>2020-03-13 23:59:28</td>\n      <td>2020-03-13 23:59:28</td>\n      <td>1238615695530905600</td>\n      <td>/edja7772/status/1238615695530905600</td>\n      <td>298805664</td>\n      <td>Edgar</td>\n      <td></td>\n    </tr>\n    <tr>\n      <th>4</th>\n      <td>False</td>\n      <td>[Trump, Stocks, Bitcoin, Cryptocurrencies, Dow...</td>\n      <td>[]</td>\n      <td>False</td>\n      <td>False</td>\n      <td>0</td>\n      <td>[https://www.visionary-finance.com/news/Trump-...</td>\n      <td></td>\n      <td>0</td>\n      <td>[]</td>\n      <td>...</td>\n      <td>VisionaryFinanc</td>\n      <td>#Trump Declares National Emergency &amp; #Stocks R...</td>\n      <td>&lt;p class=\"TweetTextSize js-tweet-text tweet-te...</td>\n      <td>2020-03-13 23:59:28</td>\n      <td>2020-03-13 23:59:28</td>\n      <td>1238615695371522048</td>\n      <td>/VisionaryFinanc/status/1238615695371522049</td>\n      <td>859252235804520448</td>\n      <td>VF</td>\n      <td></td>\n    </tr>\n  </tbody>\n</table>\n<p>5 rows × 21 columns</p>\n</div>"
     },
     "metadata": {},
     "execution_count": 26
    }
   ],
   "source": [
    "btc_tweets_by_day.head()"
   ]
  },
  {
   "cell_type": "markdown",
   "metadata": {},
   "source": [
    "### Merge two data frames"
   ]
  },
  {
   "cell_type": "code",
   "execution_count": 27,
   "metadata": {},
   "outputs": [
    {
     "output_type": "execute_result",
     "data": {
      "text/plain": "   has_media                                           hashtags  \\\n0      False                                            ['BTC']   \n1      False  ['1', 'bitcoin', 'price', 'coinmarketcap', '3V...   \n2       True  ['Binance', 'Bittrex', 'bitcoin', 'trading', '...   \n3      False           ['ビットコイン', 'bitcoin', 'btc', 'ブロックチェーン']   \n4      False                     ['BITCOIN', 'BTC', 'poloniex']   \n\n                                            img_urls  is_replied  is_reply_to  \\\n0                                                 []       False        False   \n1                                                 []       False        False   \n2  ['https://pbs.twimg.com/media/ENJ2e10WkAAzwgh....        True        False   \n3                                                 []       False        False   \n4                                                 []       False        False   \n\n   likes                                              links  parent_tweet_id  \\\n0      2         ['https://crypto.press/coins/BTC-bitcoin']              NaN   \n1      0                                                 []              NaN   \n2      1                           ['https://thesignal.io']              NaN   \n3      0                                                 []              NaN   \n4      0  ['https://clankapp.com/tx/btc/66c62510a27b7345...              NaN   \n\n   replies reply_to_users  ...                                    username  \\\n0        0             []  ...                                Crypto Press   \n1        0             []  ...                          TheOneBitcoinBot ⚡   \n2        1             []  ...                                  The Signal   \n3        0             []  ...                                   ビットコイン円相場   \n4        0             []  ...  Clank - Biggest Blockchains Transactions 🐳   \n\n  video_url neg neu pos compound       date Bitcoin  BTC isPartial  \n0       NaN NaN NaN NaN      NaN 2020-01-01      49   13     False  \n1       NaN NaN NaN NaN      NaN 2020-01-01      49   13     False  \n2       NaN NaN NaN NaN      NaN 2020-01-01      49   13     False  \n3       NaN NaN NaN NaN      NaN 2020-01-01      49   13     False  \n4       NaN NaN NaN NaN      NaN 2020-01-01      49   13     False  \n\n[5 rows x 29 columns]",
      "text/html": "<div>\n<style scoped>\n    .dataframe tbody tr th:only-of-type {\n        vertical-align: middle;\n    }\n\n    .dataframe tbody tr th {\n        vertical-align: top;\n    }\n\n    .dataframe thead th {\n        text-align: right;\n    }\n</style>\n<table border=\"1\" class=\"dataframe\">\n  <thead>\n    <tr style=\"text-align: right;\">\n      <th></th>\n      <th>has_media</th>\n      <th>hashtags</th>\n      <th>img_urls</th>\n      <th>is_replied</th>\n      <th>is_reply_to</th>\n      <th>likes</th>\n      <th>links</th>\n      <th>parent_tweet_id</th>\n      <th>replies</th>\n      <th>reply_to_users</th>\n      <th>...</th>\n      <th>username</th>\n      <th>video_url</th>\n      <th>neg</th>\n      <th>neu</th>\n      <th>pos</th>\n      <th>compound</th>\n      <th>date</th>\n      <th>Bitcoin</th>\n      <th>BTC</th>\n      <th>isPartial</th>\n    </tr>\n  </thead>\n  <tbody>\n    <tr>\n      <th>0</th>\n      <td>False</td>\n      <td>['BTC']</td>\n      <td>[]</td>\n      <td>False</td>\n      <td>False</td>\n      <td>2</td>\n      <td>['https://crypto.press/coins/BTC-bitcoin']</td>\n      <td>NaN</td>\n      <td>0</td>\n      <td>[]</td>\n      <td>...</td>\n      <td>Crypto Press</td>\n      <td>NaN</td>\n      <td>NaN</td>\n      <td>NaN</td>\n      <td>NaN</td>\n      <td>NaN</td>\n      <td>2020-01-01</td>\n      <td>49</td>\n      <td>13</td>\n      <td>False</td>\n    </tr>\n    <tr>\n      <th>1</th>\n      <td>False</td>\n      <td>['1', 'bitcoin', 'price', 'coinmarketcap', '3V...</td>\n      <td>[]</td>\n      <td>False</td>\n      <td>False</td>\n      <td>0</td>\n      <td>[]</td>\n      <td>NaN</td>\n      <td>0</td>\n      <td>[]</td>\n      <td>...</td>\n      <td>TheOneBitcoinBot ⚡</td>\n      <td>NaN</td>\n      <td>NaN</td>\n      <td>NaN</td>\n      <td>NaN</td>\n      <td>NaN</td>\n      <td>2020-01-01</td>\n      <td>49</td>\n      <td>13</td>\n      <td>False</td>\n    </tr>\n    <tr>\n      <th>2</th>\n      <td>True</td>\n      <td>['Binance', 'Bittrex', 'bitcoin', 'trading', '...</td>\n      <td>['https://pbs.twimg.com/media/ENJ2e10WkAAzwgh....</td>\n      <td>True</td>\n      <td>False</td>\n      <td>1</td>\n      <td>['https://thesignal.io']</td>\n      <td>NaN</td>\n      <td>1</td>\n      <td>[]</td>\n      <td>...</td>\n      <td>The Signal</td>\n      <td>NaN</td>\n      <td>NaN</td>\n      <td>NaN</td>\n      <td>NaN</td>\n      <td>NaN</td>\n      <td>2020-01-01</td>\n      <td>49</td>\n      <td>13</td>\n      <td>False</td>\n    </tr>\n    <tr>\n      <th>3</th>\n      <td>False</td>\n      <td>['ビットコイン', 'bitcoin', 'btc', 'ブロックチェーン']</td>\n      <td>[]</td>\n      <td>False</td>\n      <td>False</td>\n      <td>0</td>\n      <td>[]</td>\n      <td>NaN</td>\n      <td>0</td>\n      <td>[]</td>\n      <td>...</td>\n      <td>ビットコイン円相場</td>\n      <td>NaN</td>\n      <td>NaN</td>\n      <td>NaN</td>\n      <td>NaN</td>\n      <td>NaN</td>\n      <td>2020-01-01</td>\n      <td>49</td>\n      <td>13</td>\n      <td>False</td>\n    </tr>\n    <tr>\n      <th>4</th>\n      <td>False</td>\n      <td>['BITCOIN', 'BTC', 'poloniex']</td>\n      <td>[]</td>\n      <td>False</td>\n      <td>False</td>\n      <td>0</td>\n      <td>['https://clankapp.com/tx/btc/66c62510a27b7345...</td>\n      <td>NaN</td>\n      <td>0</td>\n      <td>[]</td>\n      <td>...</td>\n      <td>Clank - Biggest Blockchains Transactions 🐳</td>\n      <td>NaN</td>\n      <td>NaN</td>\n      <td>NaN</td>\n      <td>NaN</td>\n      <td>NaN</td>\n      <td>2020-01-01</td>\n      <td>49</td>\n      <td>13</td>\n      <td>False</td>\n    </tr>\n  </tbody>\n</table>\n<p>5 rows × 29 columns</p>\n</div>"
     },
     "metadata": {},
     "execution_count": 27
    }
   ],
   "source": [
    "# first merge tweets with hourly trend data\n",
    "btc_merged_hourly = pd.merge_asof(btc_tweets, btc_trend, left_on='timestamp', right_on='date', direction='backward')\n",
    "btc_merged_hourly.head()"
   ]
  },
  {
   "cell_type": "code",
   "execution_count": 28,
   "metadata": {},
   "outputs": [],
   "source": [
    "btc_merged = pd.merge_asof(btc_merged_hourly, btc_volatility, left_on='timestamp', right_on='date', direction='backward', suffixes=(\"\", \"_vcrix\"))"
   ]
  },
  {
   "cell_type": "code",
   "execution_count": 29,
   "metadata": {},
   "outputs": [],
   "source": [
    "pd.set_option('display.max_colwidth', 50)"
   ]
  },
  {
   "cell_type": "code",
   "execution_count": 30,
   "metadata": {},
   "outputs": [
    {
     "output_type": "execute_result",
     "data": {
      "text/plain": "        has_media                                           hashtags  \\\n548080      False                                        ['Bitcoin']   \n169482      False                  ['fintech', 'finance', 'bitcoin']   \n559664      False                                                 []   \n497036       True  ['Bitcoin', 'BTC', 'crypto', 'financial', 'new...   \n529654       True  ['investwithoropocket', 'investincrypto', 'def...   \n200204      False                                 ['btc', 'bitcoin']   \n340953      False                            ['Bitcoin', '24hRecap']   \n237334      False                                 ['Bitcoin', 'BTC']   \n552012      False  ['USD', 'Dollar', 'BTC', 'ETH', 'XRP', 'BCH', ...   \n303207      False                                                 []   \n27762        True                      ['bitcoin', 'IranAttackspic']   \n214056      False  ['BTC', 'ETH', 'XRP', 'BCH', 'LTC', 'Trading',...   \n\n                                                 img_urls  is_replied  \\\n548080                                                 []       False   \n169482                                                 []       False   \n559664                                                 []       False   \n497036  ['https://pbs.twimg.com/media/EXhwIcvXYAM8mMU....        True   \n529654  ['https://pbs.twimg.com/media/EYNZOe-WoAI23v4....       False   \n200204                                                 []       False   \n340953                                                 []       False   \n237334                                                 []        True   \n552012                                                 []       False   \n303207                                                 []       False   \n27762   ['https://pbs.twimg.com/media/ENuI_DZUcAEvShQ....        True   \n214056                                                 []       False   \n\n        is_reply_to  likes                                              links  \\\n548080        False      0                          ['http://dlvr.it/RX6CRd']   \n169482        False      0  ['https://cryptonewswire.com/bitcoin-lender-bl...   \n559664        False      0                                                 []   \n497036        False      1                                                 []   \n529654        False      5                                                 []   \n200204        False      0                                                 []   \n340953        False      5                                                 []   \n237334         True     20                                                 []   \n552012        False      0                                                 []   \n303207        False      0    ['https://www.youtube.com/watch?v=U0KKVlUl4dw']   \n27762         False      7                                                 []   \n214056        False      0                                                 []   \n\n        parent_tweet_id  replies  \\\n548080              NaN        0   \n169482              NaN        0   \n559664              NaN        0   \n497036              NaN        1   \n529654              NaN        0   \n200204              NaN        0   \n340953              NaN        0   \n237334     1.234520e+18        1   \n552012              NaN        0   \n303207              NaN        0   \n27762               NaN        1   \n214056              NaN        0   \n\n                                           reply_to_users  ...    neu    pos  \\\n548080                                                 []  ...    NaN    NaN   \n169482                                                 []  ...    NaN    NaN   \n559664                                                 []  ...    NaN    NaN   \n497036                                                 []  ...    NaN    NaN   \n529654                                                 []  ...    NaN    NaN   \n200204                                                 []  ...    NaN    NaN   \n340953                                                 []  ...    NaN    NaN   \n237334  [{'screen_name': 'APompliano', 'user_id': '339...  ...    NaN    NaN   \n552012                                                 []  ...    NaN    NaN   \n303207                                                 []  ...    NaN    NaN   \n27762                                                  []  ...  0.737  0.129   \n214056                                                 []  ...    NaN    NaN   \n\n       compound                date Bitcoin BTC  isPartial date_vcrix  \\\n548080      NaN 2020-05-21 19:00:00       0   0      False 2020-05-21   \n169482      NaN 2020-02-13 17:00:00      75  21      False 2020-02-13   \n559664      NaN 2020-05-24 17:00:00       0   0      False 2020-05-24   \n497036      NaN 2020-05-08 22:00:00      45  11      False 2020-05-08   \n529654      NaN 2020-05-17 09:00:00      63  18      False 2020-05-17   \n200204      NaN 2020-02-21 12:00:00      59  18      False 2020-02-21   \n340953      NaN 2020-03-29 14:00:00      75  19      False 2020-03-29   \n237334      NaN 2020-03-02 18:00:00      73  20      False 2020-03-02   \n552012      NaN 2020-05-22 18:00:00       0   0      False 2020-05-22   \n303207      NaN 2020-03-19 13:00:00      86  23      False 2020-03-19   \n27762   -0.0258 2020-01-08 01:00:00      86  27      False 2020-01-08   \n214056      NaN 2020-02-24 20:00:00       0   0      False 2020-02-24   \n\n              vcrix vcrix_log_diff  \n548080   878.953405      -0.010548  \n169482   665.934185       0.014281  \n559664   868.484067      -0.012106  \n497036   865.331045      -0.018813  \n529654   924.307816       0.003084  \n200204   634.594824       0.115658  \n340953  2157.917113      -0.000714  \n237334   676.500591      -0.006225  \n552012   869.554520      -0.010751  \n303207  2150.255622       0.011281  \n27762    654.166466       0.077865  \n214056   608.700031      -0.038710  \n\n[12 rows x 32 columns]",
      "text/html": "<div>\n<style scoped>\n    .dataframe tbody tr th:only-of-type {\n        vertical-align: middle;\n    }\n\n    .dataframe tbody tr th {\n        vertical-align: top;\n    }\n\n    .dataframe thead th {\n        text-align: right;\n    }\n</style>\n<table border=\"1\" class=\"dataframe\">\n  <thead>\n    <tr style=\"text-align: right;\">\n      <th></th>\n      <th>has_media</th>\n      <th>hashtags</th>\n      <th>img_urls</th>\n      <th>is_replied</th>\n      <th>is_reply_to</th>\n      <th>likes</th>\n      <th>links</th>\n      <th>parent_tweet_id</th>\n      <th>replies</th>\n      <th>reply_to_users</th>\n      <th>...</th>\n      <th>neu</th>\n      <th>pos</th>\n      <th>compound</th>\n      <th>date</th>\n      <th>Bitcoin</th>\n      <th>BTC</th>\n      <th>isPartial</th>\n      <th>date_vcrix</th>\n      <th>vcrix</th>\n      <th>vcrix_log_diff</th>\n    </tr>\n  </thead>\n  <tbody>\n    <tr>\n      <th>548080</th>\n      <td>False</td>\n      <td>['Bitcoin']</td>\n      <td>[]</td>\n      <td>False</td>\n      <td>False</td>\n      <td>0</td>\n      <td>['http://dlvr.it/RX6CRd']</td>\n      <td>NaN</td>\n      <td>0</td>\n      <td>[]</td>\n      <td>...</td>\n      <td>NaN</td>\n      <td>NaN</td>\n      <td>NaN</td>\n      <td>2020-05-21 19:00:00</td>\n      <td>0</td>\n      <td>0</td>\n      <td>False</td>\n      <td>2020-05-21</td>\n      <td>878.953405</td>\n      <td>-0.010548</td>\n    </tr>\n    <tr>\n      <th>169482</th>\n      <td>False</td>\n      <td>['fintech', 'finance', 'bitcoin']</td>\n      <td>[]</td>\n      <td>False</td>\n      <td>False</td>\n      <td>0</td>\n      <td>['https://cryptonewswire.com/bitcoin-lender-bl...</td>\n      <td>NaN</td>\n      <td>0</td>\n      <td>[]</td>\n      <td>...</td>\n      <td>NaN</td>\n      <td>NaN</td>\n      <td>NaN</td>\n      <td>2020-02-13 17:00:00</td>\n      <td>75</td>\n      <td>21</td>\n      <td>False</td>\n      <td>2020-02-13</td>\n      <td>665.934185</td>\n      <td>0.014281</td>\n    </tr>\n    <tr>\n      <th>559664</th>\n      <td>False</td>\n      <td>[]</td>\n      <td>[]</td>\n      <td>False</td>\n      <td>False</td>\n      <td>0</td>\n      <td>[]</td>\n      <td>NaN</td>\n      <td>0</td>\n      <td>[]</td>\n      <td>...</td>\n      <td>NaN</td>\n      <td>NaN</td>\n      <td>NaN</td>\n      <td>2020-05-24 17:00:00</td>\n      <td>0</td>\n      <td>0</td>\n      <td>False</td>\n      <td>2020-05-24</td>\n      <td>868.484067</td>\n      <td>-0.012106</td>\n    </tr>\n    <tr>\n      <th>497036</th>\n      <td>True</td>\n      <td>['Bitcoin', 'BTC', 'crypto', 'financial', 'new...</td>\n      <td>['https://pbs.twimg.com/media/EXhwIcvXYAM8mMU....</td>\n      <td>True</td>\n      <td>False</td>\n      <td>1</td>\n      <td>[]</td>\n      <td>NaN</td>\n      <td>1</td>\n      <td>[]</td>\n      <td>...</td>\n      <td>NaN</td>\n      <td>NaN</td>\n      <td>NaN</td>\n      <td>2020-05-08 22:00:00</td>\n      <td>45</td>\n      <td>11</td>\n      <td>False</td>\n      <td>2020-05-08</td>\n      <td>865.331045</td>\n      <td>-0.018813</td>\n    </tr>\n    <tr>\n      <th>529654</th>\n      <td>True</td>\n      <td>['investwithoropocket', 'investincrypto', 'def...</td>\n      <td>['https://pbs.twimg.com/media/EYNZOe-WoAI23v4....</td>\n      <td>False</td>\n      <td>False</td>\n      <td>5</td>\n      <td>[]</td>\n      <td>NaN</td>\n      <td>0</td>\n      <td>[]</td>\n      <td>...</td>\n      <td>NaN</td>\n      <td>NaN</td>\n      <td>NaN</td>\n      <td>2020-05-17 09:00:00</td>\n      <td>63</td>\n      <td>18</td>\n      <td>False</td>\n      <td>2020-05-17</td>\n      <td>924.307816</td>\n      <td>0.003084</td>\n    </tr>\n    <tr>\n      <th>200204</th>\n      <td>False</td>\n      <td>['btc', 'bitcoin']</td>\n      <td>[]</td>\n      <td>False</td>\n      <td>False</td>\n      <td>0</td>\n      <td>[]</td>\n      <td>NaN</td>\n      <td>0</td>\n      <td>[]</td>\n      <td>...</td>\n      <td>NaN</td>\n      <td>NaN</td>\n      <td>NaN</td>\n      <td>2020-02-21 12:00:00</td>\n      <td>59</td>\n      <td>18</td>\n      <td>False</td>\n      <td>2020-02-21</td>\n      <td>634.594824</td>\n      <td>0.115658</td>\n    </tr>\n    <tr>\n      <th>340953</th>\n      <td>False</td>\n      <td>['Bitcoin', '24hRecap']</td>\n      <td>[]</td>\n      <td>False</td>\n      <td>False</td>\n      <td>5</td>\n      <td>[]</td>\n      <td>NaN</td>\n      <td>0</td>\n      <td>[]</td>\n      <td>...</td>\n      <td>NaN</td>\n      <td>NaN</td>\n      <td>NaN</td>\n      <td>2020-03-29 14:00:00</td>\n      <td>75</td>\n      <td>19</td>\n      <td>False</td>\n      <td>2020-03-29</td>\n      <td>2157.917113</td>\n      <td>-0.000714</td>\n    </tr>\n    <tr>\n      <th>237334</th>\n      <td>False</td>\n      <td>['Bitcoin', 'BTC']</td>\n      <td>[]</td>\n      <td>True</td>\n      <td>True</td>\n      <td>20</td>\n      <td>[]</td>\n      <td>1.234520e+18</td>\n      <td>1</td>\n      <td>[{'screen_name': 'APompliano', 'user_id': '339...</td>\n      <td>...</td>\n      <td>NaN</td>\n      <td>NaN</td>\n      <td>NaN</td>\n      <td>2020-03-02 18:00:00</td>\n      <td>73</td>\n      <td>20</td>\n      <td>False</td>\n      <td>2020-03-02</td>\n      <td>676.500591</td>\n      <td>-0.006225</td>\n    </tr>\n    <tr>\n      <th>552012</th>\n      <td>False</td>\n      <td>['USD', 'Dollar', 'BTC', 'ETH', 'XRP', 'BCH', ...</td>\n      <td>[]</td>\n      <td>False</td>\n      <td>False</td>\n      <td>0</td>\n      <td>[]</td>\n      <td>NaN</td>\n      <td>0</td>\n      <td>[]</td>\n      <td>...</td>\n      <td>NaN</td>\n      <td>NaN</td>\n      <td>NaN</td>\n      <td>2020-05-22 18:00:00</td>\n      <td>0</td>\n      <td>0</td>\n      <td>False</td>\n      <td>2020-05-22</td>\n      <td>869.554520</td>\n      <td>-0.010751</td>\n    </tr>\n    <tr>\n      <th>303207</th>\n      <td>False</td>\n      <td>[]</td>\n      <td>[]</td>\n      <td>False</td>\n      <td>False</td>\n      <td>0</td>\n      <td>['https://www.youtube.com/watch?v=U0KKVlUl4dw']</td>\n      <td>NaN</td>\n      <td>0</td>\n      <td>[]</td>\n      <td>...</td>\n      <td>NaN</td>\n      <td>NaN</td>\n      <td>NaN</td>\n      <td>2020-03-19 13:00:00</td>\n      <td>86</td>\n      <td>23</td>\n      <td>False</td>\n      <td>2020-03-19</td>\n      <td>2150.255622</td>\n      <td>0.011281</td>\n    </tr>\n    <tr>\n      <th>27762</th>\n      <td>True</td>\n      <td>['bitcoin', 'IranAttackspic']</td>\n      <td>['https://pbs.twimg.com/media/ENuI_DZUcAEvShQ....</td>\n      <td>True</td>\n      <td>False</td>\n      <td>7</td>\n      <td>[]</td>\n      <td>NaN</td>\n      <td>1</td>\n      <td>[]</td>\n      <td>...</td>\n      <td>0.737</td>\n      <td>0.129</td>\n      <td>-0.0258</td>\n      <td>2020-01-08 01:00:00</td>\n      <td>86</td>\n      <td>27</td>\n      <td>False</td>\n      <td>2020-01-08</td>\n      <td>654.166466</td>\n      <td>0.077865</td>\n    </tr>\n    <tr>\n      <th>214056</th>\n      <td>False</td>\n      <td>['BTC', 'ETH', 'XRP', 'BCH', 'LTC', 'Trading',...</td>\n      <td>[]</td>\n      <td>False</td>\n      <td>False</td>\n      <td>0</td>\n      <td>[]</td>\n      <td>NaN</td>\n      <td>0</td>\n      <td>[]</td>\n      <td>...</td>\n      <td>NaN</td>\n      <td>NaN</td>\n      <td>NaN</td>\n      <td>2020-02-24 20:00:00</td>\n      <td>0</td>\n      <td>0</td>\n      <td>False</td>\n      <td>2020-02-24</td>\n      <td>608.700031</td>\n      <td>-0.038710</td>\n    </tr>\n  </tbody>\n</table>\n<p>12 rows × 32 columns</p>\n</div>"
     },
     "metadata": {},
     "execution_count": 30
    }
   ],
   "source": [
    "btc_merged.sample(n=12)"
   ]
  },
  {
   "cell_type": "code",
   "execution_count": 31,
   "metadata": {},
   "outputs": [
    {
     "output_type": "execute_result",
     "data": {
      "text/plain": "Index(['has_media', 'hashtags', 'img_urls', 'is_replied', 'is_reply_to',\n       'likes', 'links', 'parent_tweet_id', 'replies', 'reply_to_users',\n       'retweets', 'screen_name', 'text', 'text_html', 'timestamp',\n       'timestamp_epochs', 'tweet_id', 'tweet_url', 'user_id', 'username',\n       'video_url', 'neg', 'neu', 'pos', 'compound', 'date', 'Bitcoin', 'BTC',\n       'isPartial', 'date_vcrix', 'vcrix', 'vcrix_log_diff'],\n      dtype='object')"
     },
     "metadata": {},
     "execution_count": 31
    }
   ],
   "source": [
    "btc_merged.columns"
   ]
  },
  {
   "cell_type": "code",
   "execution_count": 32,
   "metadata": {},
   "outputs": [
    {
     "output_type": "execute_result",
     "data": {
      "text/plain": "        has_media                                           hashtags  \\\n585315      False                                                 []   \n585316       True  ['cryptocurrency', 'BTC', 'ElonMusk', 'Cryptop...   \n585317      False                                                 []   \n585318       True                                                 []   \n585319       True  ['latest', 'features', 'CRCT', 'Crypto', 'Altc...   \n\n                                                 img_urls  is_replied  \\\n585315                                                 []       False   \n585316  ['https://pbs.twimg.com/media/EZTeMdmXYAA_tFr....       False   \n585317                                                 []        True   \n585318  ['https://pbs.twimg.com/media/EZTbwPnXQAEuDhT....        True   \n585319  ['https://pbs.twimg.com/media/EZTeFHNXkAADTVj....       False   \n\n        is_reply_to  likes                                              links  \\\n585315        False      0                                                 []   \n585316        False      1                                                 []   \n585317         True      0                                                 []   \n585318        False     31                                                 []   \n585319        False      8  ['https://github.com/CircuitProject/Circuit-Pr...   \n\n        parent_tweet_id  replies  \\\n585315              NaN        0   \n585316              NaN        0   \n585317     1.266831e+18        1   \n585318              NaN        1   \n585319              NaN        0   \n\n                                           reply_to_users  ...  neu pos  \\\n585315                                                 []  ...  NaN NaN   \n585316                                                 []  ...  NaN NaN   \n585317  [{'screen_name': 'chad_alt', 'user_id': '10271...  ...  NaN NaN   \n585318                                                 []  ...  NaN NaN   \n585319                                                 []  ...  NaN NaN   \n\n       compound                date Bitcoin BTC  isPartial date_vcrix  \\\n585315      NaN 2020-05-30 23:00:00      60  16      False 2020-05-30   \n585316      NaN 2020-05-30 23:00:00      60  16      False 2020-05-30   \n585317      NaN 2020-05-30 23:00:00      60  16      False 2020-05-30   \n585318      NaN 2020-05-30 23:00:00      60  16      False 2020-05-30   \n585319      NaN 2020-05-30 23:00:00      60  16      False 2020-05-30   \n\n             vcrix vcrix_log_diff  \n585315  898.384012      -0.002017  \n585316  898.384012      -0.002017  \n585317  898.384012      -0.002017  \n585318  898.384012      -0.002017  \n585319  898.384012      -0.002017  \n\n[5 rows x 32 columns]",
      "text/html": "<div>\n<style scoped>\n    .dataframe tbody tr th:only-of-type {\n        vertical-align: middle;\n    }\n\n    .dataframe tbody tr th {\n        vertical-align: top;\n    }\n\n    .dataframe thead th {\n        text-align: right;\n    }\n</style>\n<table border=\"1\" class=\"dataframe\">\n  <thead>\n    <tr style=\"text-align: right;\">\n      <th></th>\n      <th>has_media</th>\n      <th>hashtags</th>\n      <th>img_urls</th>\n      <th>is_replied</th>\n      <th>is_reply_to</th>\n      <th>likes</th>\n      <th>links</th>\n      <th>parent_tweet_id</th>\n      <th>replies</th>\n      <th>reply_to_users</th>\n      <th>...</th>\n      <th>neu</th>\n      <th>pos</th>\n      <th>compound</th>\n      <th>date</th>\n      <th>Bitcoin</th>\n      <th>BTC</th>\n      <th>isPartial</th>\n      <th>date_vcrix</th>\n      <th>vcrix</th>\n      <th>vcrix_log_diff</th>\n    </tr>\n  </thead>\n  <tbody>\n    <tr>\n      <th>585315</th>\n      <td>False</td>\n      <td>[]</td>\n      <td>[]</td>\n      <td>False</td>\n      <td>False</td>\n      <td>0</td>\n      <td>[]</td>\n      <td>NaN</td>\n      <td>0</td>\n      <td>[]</td>\n      <td>...</td>\n      <td>NaN</td>\n      <td>NaN</td>\n      <td>NaN</td>\n      <td>2020-05-30 23:00:00</td>\n      <td>60</td>\n      <td>16</td>\n      <td>False</td>\n      <td>2020-05-30</td>\n      <td>898.384012</td>\n      <td>-0.002017</td>\n    </tr>\n    <tr>\n      <th>585316</th>\n      <td>True</td>\n      <td>['cryptocurrency', 'BTC', 'ElonMusk', 'Cryptop...</td>\n      <td>['https://pbs.twimg.com/media/EZTeMdmXYAA_tFr....</td>\n      <td>False</td>\n      <td>False</td>\n      <td>1</td>\n      <td>[]</td>\n      <td>NaN</td>\n      <td>0</td>\n      <td>[]</td>\n      <td>...</td>\n      <td>NaN</td>\n      <td>NaN</td>\n      <td>NaN</td>\n      <td>2020-05-30 23:00:00</td>\n      <td>60</td>\n      <td>16</td>\n      <td>False</td>\n      <td>2020-05-30</td>\n      <td>898.384012</td>\n      <td>-0.002017</td>\n    </tr>\n    <tr>\n      <th>585317</th>\n      <td>False</td>\n      <td>[]</td>\n      <td>[]</td>\n      <td>True</td>\n      <td>True</td>\n      <td>0</td>\n      <td>[]</td>\n      <td>1.266831e+18</td>\n      <td>1</td>\n      <td>[{'screen_name': 'chad_alt', 'user_id': '10271...</td>\n      <td>...</td>\n      <td>NaN</td>\n      <td>NaN</td>\n      <td>NaN</td>\n      <td>2020-05-30 23:00:00</td>\n      <td>60</td>\n      <td>16</td>\n      <td>False</td>\n      <td>2020-05-30</td>\n      <td>898.384012</td>\n      <td>-0.002017</td>\n    </tr>\n    <tr>\n      <th>585318</th>\n      <td>True</td>\n      <td>[]</td>\n      <td>['https://pbs.twimg.com/media/EZTbwPnXQAEuDhT....</td>\n      <td>True</td>\n      <td>False</td>\n      <td>31</td>\n      <td>[]</td>\n      <td>NaN</td>\n      <td>1</td>\n      <td>[]</td>\n      <td>...</td>\n      <td>NaN</td>\n      <td>NaN</td>\n      <td>NaN</td>\n      <td>2020-05-30 23:00:00</td>\n      <td>60</td>\n      <td>16</td>\n      <td>False</td>\n      <td>2020-05-30</td>\n      <td>898.384012</td>\n      <td>-0.002017</td>\n    </tr>\n    <tr>\n      <th>585319</th>\n      <td>True</td>\n      <td>['latest', 'features', 'CRCT', 'Crypto', 'Altc...</td>\n      <td>['https://pbs.twimg.com/media/EZTeFHNXkAADTVj....</td>\n      <td>False</td>\n      <td>False</td>\n      <td>8</td>\n      <td>['https://github.com/CircuitProject/Circuit-Pr...</td>\n      <td>NaN</td>\n      <td>0</td>\n      <td>[]</td>\n      <td>...</td>\n      <td>NaN</td>\n      <td>NaN</td>\n      <td>NaN</td>\n      <td>2020-05-30 23:00:00</td>\n      <td>60</td>\n      <td>16</td>\n      <td>False</td>\n      <td>2020-05-30</td>\n      <td>898.384012</td>\n      <td>-0.002017</td>\n    </tr>\n  </tbody>\n</table>\n<p>5 rows × 32 columns</p>\n</div>"
     },
     "metadata": {},
     "execution_count": 32
    }
   ],
   "source": [
    "btc_merged.tail()"
   ]
  },
  {
   "cell_type": "code",
   "execution_count": 33,
   "metadata": {},
   "outputs": [],
   "source": [
    "btc_merged.to_csv('data/btc_final.csv', index=False)"
   ]
  },
  {
   "cell_type": "markdown",
   "metadata": {},
   "source": [
    "### Aggregation by day"
   ]
  },
  {
   "cell_type": "code",
   "execution_count": 34,
   "metadata": {},
   "outputs": [
    {
     "output_type": "execute_result",
     "data": {
      "text/plain": "Index(['has_media', 'hashtags', 'img_urls', 'is_replied', 'is_reply_to',\n       'likes', 'links', 'parent_tweet_id', 'replies', 'reply_to_users',\n       'retweets', 'screen_name', 'text', 'text_html', 'timestamp',\n       'timestamp_epochs', 'tweet_id', 'tweet_url', 'user_id', 'username',\n       'video_url', 'neg', 'neu', 'pos', 'compound', 'date', 'Bitcoin', 'BTC',\n       'isPartial', 'date_vcrix', 'vcrix', 'vcrix_log_diff'],\n      dtype='object')"
     },
     "metadata": {},
     "execution_count": 34
    }
   ],
   "source": [
    "btc_merged.columns"
   ]
  },
  {
   "cell_type": "code",
   "execution_count": 35,
   "metadata": {},
   "outputs": [],
   "source": [
    "btc_by_day = btc_merged.resample('d', on='date').mean().dropna(how='all')"
   ]
  },
  {
   "cell_type": "code",
   "execution_count": 36,
   "metadata": {
    "tags": []
   },
   "outputs": [
    {
     "output_type": "stream",
     "name": "stdout",
     "text": "(585320, 32) (148, 19)\n"
    }
   ],
   "source": [
    "print(btc_merged.shape, btc_by_day.shape)"
   ]
  },
  {
   "cell_type": "code",
   "execution_count": 37,
   "metadata": {},
   "outputs": [
    {
     "output_type": "execute_result",
     "data": {
      "text/plain": "        has_media                                           hashtags  \\\n0           False                                            ['BTC']   \n1           False  ['1', 'bitcoin', 'price', 'coinmarketcap', '3V...   \n2            True  ['Binance', 'Bittrex', 'bitcoin', 'trading', '...   \n3           False           ['ビットコイン', 'bitcoin', 'btc', 'ブロックチェーン']   \n4           False                     ['BITCOIN', 'BTC', 'poloniex']   \n...           ...                                                ...   \n585315      False                                                 []   \n585316       True  ['cryptocurrency', 'BTC', 'ElonMusk', 'Cryptop...   \n585317      False                                                 []   \n585318       True                                                 []   \n585319       True  ['latest', 'features', 'CRCT', 'Crypto', 'Altc...   \n\n                                                 img_urls  is_replied  \\\n0                                                      []       False   \n1                                                      []       False   \n2       ['https://pbs.twimg.com/media/ENJ2e10WkAAzwgh....        True   \n3                                                      []       False   \n4                                                      []       False   \n...                                                   ...         ...   \n585315                                                 []       False   \n585316  ['https://pbs.twimg.com/media/EZTeMdmXYAA_tFr....       False   \n585317                                                 []        True   \n585318  ['https://pbs.twimg.com/media/EZTbwPnXQAEuDhT....        True   \n585319  ['https://pbs.twimg.com/media/EZTeFHNXkAADTVj....       False   \n\n        is_reply_to  likes                                              links  \\\n0             False      2         ['https://crypto.press/coins/BTC-bitcoin']   \n1             False      0                                                 []   \n2             False      1                           ['https://thesignal.io']   \n3             False      0                                                 []   \n4             False      0  ['https://clankapp.com/tx/btc/66c62510a27b7345...   \n...             ...    ...                                                ...   \n585315        False      0                                                 []   \n585316        False      1                                                 []   \n585317         True      0                                                 []   \n585318        False     31                                                 []   \n585319        False      8  ['https://github.com/CircuitProject/Circuit-Pr...   \n\n        parent_tweet_id  replies  \\\n0                   NaN        0   \n1                   NaN        0   \n2                   NaN        1   \n3                   NaN        0   \n4                   NaN        0   \n...                 ...      ...   \n585315              NaN        0   \n585316              NaN        0   \n585317     1.266831e+18        1   \n585318              NaN        1   \n585319              NaN        0   \n\n                                           reply_to_users  ...  neu pos  \\\n0                                                      []  ...  NaN NaN   \n1                                                      []  ...  NaN NaN   \n2                                                      []  ...  NaN NaN   \n3                                                      []  ...  NaN NaN   \n4                                                      []  ...  NaN NaN   \n...                                                   ...  ...  ...  ..   \n585315                                                 []  ...  NaN NaN   \n585316                                                 []  ...  NaN NaN   \n585317  [{'screen_name': 'chad_alt', 'user_id': '10271...  ...  NaN NaN   \n585318                                                 []  ...  NaN NaN   \n585319                                                 []  ...  NaN NaN   \n\n       compound                date Bitcoin BTC  isPartial date_vcrix  \\\n0           NaN 2020-01-01 00:00:00      49  13      False 2020-01-01   \n1           NaN 2020-01-01 00:00:00      49  13      False 2020-01-01   \n2           NaN 2020-01-01 00:00:00      49  13      False 2020-01-01   \n3           NaN 2020-01-01 00:00:00      49  13      False 2020-01-01   \n4           NaN 2020-01-01 00:00:00      49  13      False 2020-01-01   \n...         ...                 ...     ...  ..        ...        ...   \n585315      NaN 2020-05-30 23:00:00      60  16      False 2020-05-30   \n585316      NaN 2020-05-30 23:00:00      60  16      False 2020-05-30   \n585317      NaN 2020-05-30 23:00:00      60  16      False 2020-05-30   \n585318      NaN 2020-05-30 23:00:00      60  16      False 2020-05-30   \n585319      NaN 2020-05-30 23:00:00      60  16      False 2020-05-30   \n\n             vcrix vcrix_log_diff  \n0       564.354535            NaN  \n1       564.354535            NaN  \n2       564.354535            NaN  \n3       564.354535            NaN  \n4       564.354535            NaN  \n...            ...            ...  \n585315  898.384012      -0.002017  \n585316  898.384012      -0.002017  \n585317  898.384012      -0.002017  \n585318  898.384012      -0.002017  \n585319  898.384012      -0.002017  \n\n[535531 rows x 32 columns]",
      "text/html": "<div>\n<style scoped>\n    .dataframe tbody tr th:only-of-type {\n        vertical-align: middle;\n    }\n\n    .dataframe tbody tr th {\n        vertical-align: top;\n    }\n\n    .dataframe thead th {\n        text-align: right;\n    }\n</style>\n<table border=\"1\" class=\"dataframe\">\n  <thead>\n    <tr style=\"text-align: right;\">\n      <th></th>\n      <th>has_media</th>\n      <th>hashtags</th>\n      <th>img_urls</th>\n      <th>is_replied</th>\n      <th>is_reply_to</th>\n      <th>likes</th>\n      <th>links</th>\n      <th>parent_tweet_id</th>\n      <th>replies</th>\n      <th>reply_to_users</th>\n      <th>...</th>\n      <th>neu</th>\n      <th>pos</th>\n      <th>compound</th>\n      <th>date</th>\n      <th>Bitcoin</th>\n      <th>BTC</th>\n      <th>isPartial</th>\n      <th>date_vcrix</th>\n      <th>vcrix</th>\n      <th>vcrix_log_diff</th>\n    </tr>\n  </thead>\n  <tbody>\n    <tr>\n      <th>0</th>\n      <td>False</td>\n      <td>['BTC']</td>\n      <td>[]</td>\n      <td>False</td>\n      <td>False</td>\n      <td>2</td>\n      <td>['https://crypto.press/coins/BTC-bitcoin']</td>\n      <td>NaN</td>\n      <td>0</td>\n      <td>[]</td>\n      <td>...</td>\n      <td>NaN</td>\n      <td>NaN</td>\n      <td>NaN</td>\n      <td>2020-01-01 00:00:00</td>\n      <td>49</td>\n      <td>13</td>\n      <td>False</td>\n      <td>2020-01-01</td>\n      <td>564.354535</td>\n      <td>NaN</td>\n    </tr>\n    <tr>\n      <th>1</th>\n      <td>False</td>\n      <td>['1', 'bitcoin', 'price', 'coinmarketcap', '3V...</td>\n      <td>[]</td>\n      <td>False</td>\n      <td>False</td>\n      <td>0</td>\n      <td>[]</td>\n      <td>NaN</td>\n      <td>0</td>\n      <td>[]</td>\n      <td>...</td>\n      <td>NaN</td>\n      <td>NaN</td>\n      <td>NaN</td>\n      <td>2020-01-01 00:00:00</td>\n      <td>49</td>\n      <td>13</td>\n      <td>False</td>\n      <td>2020-01-01</td>\n      <td>564.354535</td>\n      <td>NaN</td>\n    </tr>\n    <tr>\n      <th>2</th>\n      <td>True</td>\n      <td>['Binance', 'Bittrex', 'bitcoin', 'trading', '...</td>\n      <td>['https://pbs.twimg.com/media/ENJ2e10WkAAzwgh....</td>\n      <td>True</td>\n      <td>False</td>\n      <td>1</td>\n      <td>['https://thesignal.io']</td>\n      <td>NaN</td>\n      <td>1</td>\n      <td>[]</td>\n      <td>...</td>\n      <td>NaN</td>\n      <td>NaN</td>\n      <td>NaN</td>\n      <td>2020-01-01 00:00:00</td>\n      <td>49</td>\n      <td>13</td>\n      <td>False</td>\n      <td>2020-01-01</td>\n      <td>564.354535</td>\n      <td>NaN</td>\n    </tr>\n    <tr>\n      <th>3</th>\n      <td>False</td>\n      <td>['ビットコイン', 'bitcoin', 'btc', 'ブロックチェーン']</td>\n      <td>[]</td>\n      <td>False</td>\n      <td>False</td>\n      <td>0</td>\n      <td>[]</td>\n      <td>NaN</td>\n      <td>0</td>\n      <td>[]</td>\n      <td>...</td>\n      <td>NaN</td>\n      <td>NaN</td>\n      <td>NaN</td>\n      <td>2020-01-01 00:00:00</td>\n      <td>49</td>\n      <td>13</td>\n      <td>False</td>\n      <td>2020-01-01</td>\n      <td>564.354535</td>\n      <td>NaN</td>\n    </tr>\n    <tr>\n      <th>4</th>\n      <td>False</td>\n      <td>['BITCOIN', 'BTC', 'poloniex']</td>\n      <td>[]</td>\n      <td>False</td>\n      <td>False</td>\n      <td>0</td>\n      <td>['https://clankapp.com/tx/btc/66c62510a27b7345...</td>\n      <td>NaN</td>\n      <td>0</td>\n      <td>[]</td>\n      <td>...</td>\n      <td>NaN</td>\n      <td>NaN</td>\n      <td>NaN</td>\n      <td>2020-01-01 00:00:00</td>\n      <td>49</td>\n      <td>13</td>\n      <td>False</td>\n      <td>2020-01-01</td>\n      <td>564.354535</td>\n      <td>NaN</td>\n    </tr>\n    <tr>\n      <th>...</th>\n      <td>...</td>\n      <td>...</td>\n      <td>...</td>\n      <td>...</td>\n      <td>...</td>\n      <td>...</td>\n      <td>...</td>\n      <td>...</td>\n      <td>...</td>\n      <td>...</td>\n      <td>...</td>\n      <td>...</td>\n      <td>...</td>\n      <td>...</td>\n      <td>...</td>\n      <td>...</td>\n      <td>...</td>\n      <td>...</td>\n      <td>...</td>\n      <td>...</td>\n      <td>...</td>\n    </tr>\n    <tr>\n      <th>585315</th>\n      <td>False</td>\n      <td>[]</td>\n      <td>[]</td>\n      <td>False</td>\n      <td>False</td>\n      <td>0</td>\n      <td>[]</td>\n      <td>NaN</td>\n      <td>0</td>\n      <td>[]</td>\n      <td>...</td>\n      <td>NaN</td>\n      <td>NaN</td>\n      <td>NaN</td>\n      <td>2020-05-30 23:00:00</td>\n      <td>60</td>\n      <td>16</td>\n      <td>False</td>\n      <td>2020-05-30</td>\n      <td>898.384012</td>\n      <td>-0.002017</td>\n    </tr>\n    <tr>\n      <th>585316</th>\n      <td>True</td>\n      <td>['cryptocurrency', 'BTC', 'ElonMusk', 'Cryptop...</td>\n      <td>['https://pbs.twimg.com/media/EZTeMdmXYAA_tFr....</td>\n      <td>False</td>\n      <td>False</td>\n      <td>1</td>\n      <td>[]</td>\n      <td>NaN</td>\n      <td>0</td>\n      <td>[]</td>\n      <td>...</td>\n      <td>NaN</td>\n      <td>NaN</td>\n      <td>NaN</td>\n      <td>2020-05-30 23:00:00</td>\n      <td>60</td>\n      <td>16</td>\n      <td>False</td>\n      <td>2020-05-30</td>\n      <td>898.384012</td>\n      <td>-0.002017</td>\n    </tr>\n    <tr>\n      <th>585317</th>\n      <td>False</td>\n      <td>[]</td>\n      <td>[]</td>\n      <td>True</td>\n      <td>True</td>\n      <td>0</td>\n      <td>[]</td>\n      <td>1.266831e+18</td>\n      <td>1</td>\n      <td>[{'screen_name': 'chad_alt', 'user_id': '10271...</td>\n      <td>...</td>\n      <td>NaN</td>\n      <td>NaN</td>\n      <td>NaN</td>\n      <td>2020-05-30 23:00:00</td>\n      <td>60</td>\n      <td>16</td>\n      <td>False</td>\n      <td>2020-05-30</td>\n      <td>898.384012</td>\n      <td>-0.002017</td>\n    </tr>\n    <tr>\n      <th>585318</th>\n      <td>True</td>\n      <td>[]</td>\n      <td>['https://pbs.twimg.com/media/EZTbwPnXQAEuDhT....</td>\n      <td>True</td>\n      <td>False</td>\n      <td>31</td>\n      <td>[]</td>\n      <td>NaN</td>\n      <td>1</td>\n      <td>[]</td>\n      <td>...</td>\n      <td>NaN</td>\n      <td>NaN</td>\n      <td>NaN</td>\n      <td>2020-05-30 23:00:00</td>\n      <td>60</td>\n      <td>16</td>\n      <td>False</td>\n      <td>2020-05-30</td>\n      <td>898.384012</td>\n      <td>-0.002017</td>\n    </tr>\n    <tr>\n      <th>585319</th>\n      <td>True</td>\n      <td>['latest', 'features', 'CRCT', 'Crypto', 'Altc...</td>\n      <td>['https://pbs.twimg.com/media/EZTeFHNXkAADTVj....</td>\n      <td>False</td>\n      <td>False</td>\n      <td>8</td>\n      <td>['https://github.com/CircuitProject/Circuit-Pr...</td>\n      <td>NaN</td>\n      <td>0</td>\n      <td>[]</td>\n      <td>...</td>\n      <td>NaN</td>\n      <td>NaN</td>\n      <td>NaN</td>\n      <td>2020-05-30 23:00:00</td>\n      <td>60</td>\n      <td>16</td>\n      <td>False</td>\n      <td>2020-05-30</td>\n      <td>898.384012</td>\n      <td>-0.002017</td>\n    </tr>\n  </tbody>\n</table>\n<p>535531 rows × 32 columns</p>\n</div>"
     },
     "metadata": {},
     "execution_count": 37
    }
   ],
   "source": [
    "btc_merged[btc_merged['compound'].isnull()]"
   ]
  },
  {
   "cell_type": "code",
   "execution_count": 39,
   "metadata": {
    "tags": []
   },
   "outputs": [],
   "source": [
    "# print(btc_by_day.head())"
   ]
  }
 ],
 "metadata": {
  "language_info": {
   "codemirror_mode": {
    "name": "ipython",
    "version": 3
   },
   "file_extension": ".py",
   "mimetype": "text/x-python",
   "name": "python",
   "nbconvert_exporter": "python",
   "pygments_lexer": "ipython3",
   "version": "3.8.2-final"
  },
  "orig_nbformat": 2,
  "kernelspec": {
   "name": "python38264bitcvconda42f6ee1eb600418da12fd4932d15bb6b",
   "display_name": "Python 3.8.2 64-bit ('CV': conda)"
  }
 },
 "nbformat": 4,
 "nbformat_minor": 2
}