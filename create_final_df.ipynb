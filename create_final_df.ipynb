{
 "cells": [
  {
   "cell_type": "code",
   "execution_count": 1,
   "metadata": {},
   "outputs": [],
   "source": [
    "import pandas as pd\n",
    "from datetime import datetime\n",
    "import matplotlib\n",
    "import re\n",
    "from nltk.tokenize import word_tokenize\n",
    "from string import punctuation \n",
    "from nltk.corpus import stopwords "
   ]
  },
  {
   "cell_type": "markdown",
   "metadata": {},
   "source": [
    "## Read in data "
   ]
  },
  {
   "cell_type": "markdown",
   "metadata": {},
   "source": [
    "### Market data"
   ]
  },
  {
   "cell_type": "code",
   "execution_count": 2,
   "metadata": {},
   "outputs": [
    {
     "output_type": "execute_result",
     "data": {
      "text/plain": "         time    close     high      low     open  volumefrom    volumeto  \\\n0  1582984800  8645.88  8678.25  8606.31  8676.27      954.50  8238841.34   \n1  1582988400  8693.73  8708.76  8619.73  8645.88      785.84  6824127.12   \n2  1582992000  8638.05  8702.50  8630.15  8693.73      761.92  6629631.43   \n3  1582995600  8701.21  8702.40  8623.94  8638.05      951.78  8259525.21   \n4  1582999200  8695.56  8714.49  8666.65  8701.21      556.50  4862181.37   \n\n        mid  \n0  8642.280  \n1  8664.245  \n2  8666.325  \n3  8663.170  \n4  8690.570  ",
      "text/html": "<div>\n<style scoped>\n    .dataframe tbody tr th:only-of-type {\n        vertical-align: middle;\n    }\n\n    .dataframe tbody tr th {\n        vertical-align: top;\n    }\n\n    .dataframe thead th {\n        text-align: right;\n    }\n</style>\n<table border=\"1\" class=\"dataframe\">\n  <thead>\n    <tr style=\"text-align: right;\">\n      <th></th>\n      <th>time</th>\n      <th>close</th>\n      <th>high</th>\n      <th>low</th>\n      <th>open</th>\n      <th>volumefrom</th>\n      <th>volumeto</th>\n      <th>mid</th>\n    </tr>\n  </thead>\n  <tbody>\n    <tr>\n      <th>0</th>\n      <td>1582984800</td>\n      <td>8645.88</td>\n      <td>8678.25</td>\n      <td>8606.31</td>\n      <td>8676.27</td>\n      <td>954.50</td>\n      <td>8238841.34</td>\n      <td>8642.280</td>\n    </tr>\n    <tr>\n      <th>1</th>\n      <td>1582988400</td>\n      <td>8693.73</td>\n      <td>8708.76</td>\n      <td>8619.73</td>\n      <td>8645.88</td>\n      <td>785.84</td>\n      <td>6824127.12</td>\n      <td>8664.245</td>\n    </tr>\n    <tr>\n      <th>2</th>\n      <td>1582992000</td>\n      <td>8638.05</td>\n      <td>8702.50</td>\n      <td>8630.15</td>\n      <td>8693.73</td>\n      <td>761.92</td>\n      <td>6629631.43</td>\n      <td>8666.325</td>\n    </tr>\n    <tr>\n      <th>3</th>\n      <td>1582995600</td>\n      <td>8701.21</td>\n      <td>8702.40</td>\n      <td>8623.94</td>\n      <td>8638.05</td>\n      <td>951.78</td>\n      <td>8259525.21</td>\n      <td>8663.170</td>\n    </tr>\n    <tr>\n      <th>4</th>\n      <td>1582999200</td>\n      <td>8695.56</td>\n      <td>8714.49</td>\n      <td>8666.65</td>\n      <td>8701.21</td>\n      <td>556.50</td>\n      <td>4862181.37</td>\n      <td>8690.570</td>\n    </tr>\n  </tbody>\n</table>\n</div>"
     },
     "metadata": {},
     "execution_count": 2
    }
   ],
   "source": [
    "btc_market = pd.read_csv(\"data/BTC-USD-80.csv\")\n",
    "btc_market.head()"
   ]
  },
  {
   "cell_type": "markdown",
   "metadata": {},
   "source": [
    "#### Convert unix code time to more readable datetime format"
   ]
  },
  {
   "cell_type": "code",
   "execution_count": 3,
   "metadata": {},
   "outputs": [],
   "source": [
    "btc_market['time_formatted'] = pd.to_datetime(btc_market['time'], unit='s')"
   ]
  },
  {
   "cell_type": "code",
   "execution_count": 4,
   "metadata": {},
   "outputs": [
    {
     "output_type": "execute_result",
     "data": {
      "text/plain": "         time      time_formatted\n0  1582984800 2020-02-29 14:00:00\n1  1582988400 2020-02-29 15:00:00\n2  1582992000 2020-02-29 16:00:00\n3  1582995600 2020-02-29 17:00:00\n4  1582999200 2020-02-29 18:00:00",
      "text/html": "<div>\n<style scoped>\n    .dataframe tbody tr th:only-of-type {\n        vertical-align: middle;\n    }\n\n    .dataframe tbody tr th {\n        vertical-align: top;\n    }\n\n    .dataframe thead th {\n        text-align: right;\n    }\n</style>\n<table border=\"1\" class=\"dataframe\">\n  <thead>\n    <tr style=\"text-align: right;\">\n      <th></th>\n      <th>time</th>\n      <th>time_formatted</th>\n    </tr>\n  </thead>\n  <tbody>\n    <tr>\n      <th>0</th>\n      <td>1582984800</td>\n      <td>2020-02-29 14:00:00</td>\n    </tr>\n    <tr>\n      <th>1</th>\n      <td>1582988400</td>\n      <td>2020-02-29 15:00:00</td>\n    </tr>\n    <tr>\n      <th>2</th>\n      <td>1582992000</td>\n      <td>2020-02-29 16:00:00</td>\n    </tr>\n    <tr>\n      <th>3</th>\n      <td>1582995600</td>\n      <td>2020-02-29 17:00:00</td>\n    </tr>\n    <tr>\n      <th>4</th>\n      <td>1582999200</td>\n      <td>2020-02-29 18:00:00</td>\n    </tr>\n  </tbody>\n</table>\n</div>"
     },
     "metadata": {},
     "execution_count": 4
    }
   ],
   "source": [
    "btc_market[['time', 'time_formatted']].head()"
   ]
  },
  {
   "cell_type": "markdown",
   "metadata": {},
   "source": [
    "### Volatility data"
   ]
  },
  {
   "cell_type": "code",
   "execution_count": 5,
   "metadata": {},
   "outputs": [
    {
     "output_type": "execute_result",
     "data": {
      "text/plain": "   Unnamed: 0  n        date        vcrix\n0           1  1  2014-11-28  1000.000000\n1           2  2  2014-11-29   965.979876\n2           3  3  2014-11-30   959.594373\n3           4  4  2014-12-01   959.594373\n4           5  5  2014-12-02   934.643276",
      "text/html": "<div>\n<style scoped>\n    .dataframe tbody tr th:only-of-type {\n        vertical-align: middle;\n    }\n\n    .dataframe tbody tr th {\n        vertical-align: top;\n    }\n\n    .dataframe thead th {\n        text-align: right;\n    }\n</style>\n<table border=\"1\" class=\"dataframe\">\n  <thead>\n    <tr style=\"text-align: right;\">\n      <th></th>\n      <th>Unnamed: 0</th>\n      <th>n</th>\n      <th>date</th>\n      <th>vcrix</th>\n    </tr>\n  </thead>\n  <tbody>\n    <tr>\n      <th>0</th>\n      <td>1</td>\n      <td>1</td>\n      <td>2014-11-28</td>\n      <td>1000.000000</td>\n    </tr>\n    <tr>\n      <th>1</th>\n      <td>2</td>\n      <td>2</td>\n      <td>2014-11-29</td>\n      <td>965.979876</td>\n    </tr>\n    <tr>\n      <th>2</th>\n      <td>3</td>\n      <td>3</td>\n      <td>2014-11-30</td>\n      <td>959.594373</td>\n    </tr>\n    <tr>\n      <th>3</th>\n      <td>4</td>\n      <td>4</td>\n      <td>2014-12-01</td>\n      <td>959.594373</td>\n    </tr>\n    <tr>\n      <th>4</th>\n      <td>5</td>\n      <td>5</td>\n      <td>2014-12-02</td>\n      <td>934.643276</td>\n    </tr>\n  </tbody>\n</table>\n</div>"
     },
     "metadata": {},
     "execution_count": 5
    }
   ],
   "source": [
    "btc_volatility = pd.read_csv(\"data/vcrix_80.csv\")\n",
    "btc_volatility.head()"
   ]
  },
  {
   "cell_type": "code",
   "execution_count": 6,
   "metadata": {},
   "outputs": [],
   "source": [
    "btc_volatility['date'] = pd.to_datetime(btc_volatility['date'])"
   ]
  },
  {
   "cell_type": "code",
   "execution_count": 7,
   "metadata": {},
   "outputs": [],
   "source": [
    "btc_volatility.drop(columns=['Unnamed: 0', 'n'], inplace=True)"
   ]
  },
  {
   "cell_type": "code",
   "execution_count": 8,
   "metadata": {},
   "outputs": [
    {
     "output_type": "execute_result",
     "data": {
      "text/plain": "           date       vcrix\n1860 2020-01-01  564.354535\n1861 2020-01-02  560.908175\n1862 2020-01-03  558.592397\n1863 2020-01-04  574.417128\n1864 2020-01-05  615.550024\n...         ...         ...\n1976 2020-04-26  751.485069\n1977 2020-04-27  760.157884\n1978 2020-04-28  738.696092\n1979 2020-04-29  737.977159\n1980 2020-04-30  707.650579\n\n[121 rows x 2 columns]",
      "text/html": "<div>\n<style scoped>\n    .dataframe tbody tr th:only-of-type {\n        vertical-align: middle;\n    }\n\n    .dataframe tbody tr th {\n        vertical-align: top;\n    }\n\n    .dataframe thead th {\n        text-align: right;\n    }\n</style>\n<table border=\"1\" class=\"dataframe\">\n  <thead>\n    <tr style=\"text-align: right;\">\n      <th></th>\n      <th>date</th>\n      <th>vcrix</th>\n    </tr>\n  </thead>\n  <tbody>\n    <tr>\n      <th>1860</th>\n      <td>2020-01-01</td>\n      <td>564.354535</td>\n    </tr>\n    <tr>\n      <th>1861</th>\n      <td>2020-01-02</td>\n      <td>560.908175</td>\n    </tr>\n    <tr>\n      <th>1862</th>\n      <td>2020-01-03</td>\n      <td>558.592397</td>\n    </tr>\n    <tr>\n      <th>1863</th>\n      <td>2020-01-04</td>\n      <td>574.417128</td>\n    </tr>\n    <tr>\n      <th>1864</th>\n      <td>2020-01-05</td>\n      <td>615.550024</td>\n    </tr>\n    <tr>\n      <th>...</th>\n      <td>...</td>\n      <td>...</td>\n    </tr>\n    <tr>\n      <th>1976</th>\n      <td>2020-04-26</td>\n      <td>751.485069</td>\n    </tr>\n    <tr>\n      <th>1977</th>\n      <td>2020-04-27</td>\n      <td>760.157884</td>\n    </tr>\n    <tr>\n      <th>1978</th>\n      <td>2020-04-28</td>\n      <td>738.696092</td>\n    </tr>\n    <tr>\n      <th>1979</th>\n      <td>2020-04-29</td>\n      <td>737.977159</td>\n    </tr>\n    <tr>\n      <th>1980</th>\n      <td>2020-04-30</td>\n      <td>707.650579</td>\n    </tr>\n  </tbody>\n</table>\n<p>121 rows × 2 columns</p>\n</div>"
     },
     "metadata": {},
     "execution_count": 8
    }
   ],
   "source": [
    "btc_volatility = btc_volatility[(btc_volatility['date'] >= '2020-01-01') & (btc_volatility['date'] < '2020-05-01')]\n",
    "btc_volatility"
   ]
  },
  {
   "cell_type": "markdown",
   "metadata": {},
   "source": [
    "### Trend"
   ]
  },
  {
   "cell_type": "code",
   "execution_count": 9,
   "metadata": {},
   "outputs": [
    {
     "output_type": "execute_result",
     "data": {
      "text/plain": "                     date  Bitcoin  BTC  isPartial\n0     2020-01-01 00:00:00       49   13      False\n1     2020-01-01 01:00:00       46   13      False\n2     2020-01-01 02:00:00       43   14      False\n3     2020-01-01 03:00:00        0    0      False\n4     2020-01-01 04:00:00        0    0      False\n...                   ...      ...  ...        ...\n3641  2020-05-30 20:00:00       52   13      False\n3642  2020-05-30 21:00:00       59   13      False\n3643  2020-05-30 22:00:00       57   15      False\n3644  2020-05-30 23:00:00       60   16      False\n3645  2020-05-31 00:00:00       55   15      False\n\n[3646 rows x 4 columns]",
      "text/html": "<div>\n<style scoped>\n    .dataframe tbody tr th:only-of-type {\n        vertical-align: middle;\n    }\n\n    .dataframe tbody tr th {\n        vertical-align: top;\n    }\n\n    .dataframe thead th {\n        text-align: right;\n    }\n</style>\n<table border=\"1\" class=\"dataframe\">\n  <thead>\n    <tr style=\"text-align: right;\">\n      <th></th>\n      <th>date</th>\n      <th>Bitcoin</th>\n      <th>BTC</th>\n      <th>isPartial</th>\n    </tr>\n  </thead>\n  <tbody>\n    <tr>\n      <th>0</th>\n      <td>2020-01-01 00:00:00</td>\n      <td>49</td>\n      <td>13</td>\n      <td>False</td>\n    </tr>\n    <tr>\n      <th>1</th>\n      <td>2020-01-01 01:00:00</td>\n      <td>46</td>\n      <td>13</td>\n      <td>False</td>\n    </tr>\n    <tr>\n      <th>2</th>\n      <td>2020-01-01 02:00:00</td>\n      <td>43</td>\n      <td>14</td>\n      <td>False</td>\n    </tr>\n    <tr>\n      <th>3</th>\n      <td>2020-01-01 03:00:00</td>\n      <td>0</td>\n      <td>0</td>\n      <td>False</td>\n    </tr>\n    <tr>\n      <th>4</th>\n      <td>2020-01-01 04:00:00</td>\n      <td>0</td>\n      <td>0</td>\n      <td>False</td>\n    </tr>\n    <tr>\n      <th>...</th>\n      <td>...</td>\n      <td>...</td>\n      <td>...</td>\n      <td>...</td>\n    </tr>\n    <tr>\n      <th>3641</th>\n      <td>2020-05-30 20:00:00</td>\n      <td>52</td>\n      <td>13</td>\n      <td>False</td>\n    </tr>\n    <tr>\n      <th>3642</th>\n      <td>2020-05-30 21:00:00</td>\n      <td>59</td>\n      <td>13</td>\n      <td>False</td>\n    </tr>\n    <tr>\n      <th>3643</th>\n      <td>2020-05-30 22:00:00</td>\n      <td>57</td>\n      <td>15</td>\n      <td>False</td>\n    </tr>\n    <tr>\n      <th>3644</th>\n      <td>2020-05-30 23:00:00</td>\n      <td>60</td>\n      <td>16</td>\n      <td>False</td>\n    </tr>\n    <tr>\n      <th>3645</th>\n      <td>2020-05-31 00:00:00</td>\n      <td>55</td>\n      <td>15</td>\n      <td>False</td>\n    </tr>\n  </tbody>\n</table>\n<p>3646 rows × 4 columns</p>\n</div>"
     },
     "metadata": {},
     "execution_count": 9
    }
   ],
   "source": [
    "btc_trend = pd.read_csv('data/BTC_trend.csv')\n",
    "btc_trend"
   ]
  },
  {
   "cell_type": "code",
   "execution_count": 10,
   "metadata": {},
   "outputs": [
    {
     "output_type": "execute_result",
     "data": {
      "text/plain": "0   2020-01-01 00:00:00\n1   2020-01-01 01:00:00\n2   2020-01-01 02:00:00\n3   2020-01-01 03:00:00\n4   2020-01-01 04:00:00\nName: date, dtype: datetime64[ns]"
     },
     "metadata": {},
     "execution_count": 10
    }
   ],
   "source": [
    "btc_trend['date'] = pd.to_datetime(btc_trend['date'])\n",
    "btc_trend['date'].head()"
   ]
  },
  {
   "cell_type": "markdown",
   "metadata": {},
   "source": [
    "### Tweets"
   ]
  },
  {
   "cell_type": "code",
   "execution_count": 11,
   "metadata": {},
   "outputs": [],
   "source": [
    "# stopwords for cleaning\n",
    "stopwords = set(stopwords.words('english') + list(punctuation) + ['AT_USER','URL'])"
   ]
  },
  {
   "cell_type": "code",
   "execution_count": 12,
   "metadata": {},
   "outputs": [],
   "source": [
    "# cleaning method for tweets\n",
    "def processTweet(tweet):\n",
    "    if isinstance(tweet, str):\n",
    "        tweet = tweet.lower() # convert text to lower-case\n",
    "        tweet = re.sub('((www\\.[^\\s]+)|(https?://[^\\s]+))', 'URL', tweet) # remove URLs\n",
    "        tweet = re.sub('@[^\\s]+', 'AT_USER', tweet) # remove usernames\n",
    "        tweet = re.sub(r'#([^\\s]+)', r'\\1', tweet) # remove the # in #hashtag\n",
    "        tweet = word_tokenize(tweet) # remove repeated characters (helloooooooo into hello)\n",
    "        return [word for word in tweet if word not in stopwords]\n",
    "    else:\n",
    "        print(tweet)\n",
    "        return tweet"
   ]
  },
  {
   "cell_type": "code",
   "execution_count": 13,
   "metadata": {},
   "outputs": [],
   "source": [
    "def processTweets(chunk):\n",
    "    processedTweets = []\n",
    "    #print(list_of_tweets)\n",
    "    for tweet in chunk['text']:\n",
    "        processedTweets.append(processTweet(tweet))\n",
    "    return processedTweets"
   ]
  },
  {
   "cell_type": "code",
   "execution_count": 14,
   "metadata": {},
   "outputs": [],
   "source": [
    "# read the large csv file with specified chunksize \n",
    "df_chunk = pd.read_csv('data/combined_tweets.csv', chunksize=50000)\n",
    "\n",
    "#df_chunk = pd.read_csv('data/by_day/tweets_btc_2020-05-12.csv', chunksize=500)"
   ]
  },
  {
   "cell_type": "code",
   "execution_count": 15,
   "metadata": {
    "tags": [
     "outputPrepend",
     "outputPrepend",
     "outputPrepend",
     "outputPrepend",
     "outputPrepend",
     "outputPrepend",
     "outputPrepend",
     "outputPrepend",
     "outputPrepend",
     "outputPrepend",
     "outputPrepend",
     "outputPrepend",
     "outputPrepend",
     "outputPrepend",
     "outputPrepend",
     "outputPrepend",
     "outputPrepend",
     "outputPrepend",
     "outputPrepend",
     "outputPrepend",
     "outputPrepend",
     "outputPrepend",
     "outputPrepend",
     "outputPrepend",
     "outputPrepend",
     "outputPrepend",
     "outputPrepend",
     "outputPrepend",
     "outputPrepend",
     "outputPrepend",
     "outputPrepend",
     "outputPrepend",
     "outputPrepend",
     "outputPrepend",
     "outputPrepend",
     "outputPrepend",
     "outputPrepend",
     "outputPrepend",
     "outputPrepend",
     "outputPrepend",
     "outputPrepend",
     "outputPrepend",
     "outputPrepend",
     "outputPrepend",
     "outputPrepend",
     "outputPrepend",
     "outputPrepend",
     "outputPrepend",
     "outputPrepend",
     "outputPrepend",
     "outputPrepend",
     "outputPrepend",
     "outputPrepend",
     "outputPrepend",
     "outputPrepend",
     "outputPrepend",
     "outputPrepend",
     "outputPrepend",
     "outputPrepend",
     "outputPrepend",
     "outputPrepend",
     "outputPrepend",
     "outputPrepend"
    ]
   },
   "outputs": [
    {
     "output_type": "stream",
     "name": "stdout",
     "text": "nan\nnan\nnan\nnan\nnan\nnan\nnan\nnan\nnan\nnan\nnan\nnan\nnan\nnan\nnan\nnan\nnan\nnan\nnan\nnan\nnan\nnan\nnan\nnan\nnan\nnan\nnan\nnan\nnan\nnan\nnan\nnan\nnan\nnan\nnan\nnan\nnan\nnan\nnan\nnan\nnan\nnan\nnan\nnan\nnan\nnan\nnan\nnan\nnan\nnan\nnan\n"
    }
   ],
   "source": [
    "chunk_list = []  # append each chunk df here \n",
    "\n",
    "# Each chunk is in df format\n",
    "for chunk in df_chunk:  \n",
    "    # perform data filtering \n",
    "    chunk_text_filtered = processTweets(chunk)\n",
    "\n",
    "    # set filtered text\n",
    "    chunk['text'] = chunk_text_filtered\n",
    "    \n",
    "    # Once the data filtering is done, append the chunk to list\n",
    "    chunk_list.append(chunk)\n",
    "    \n",
    "# concat the list into dataframe \n",
    "btc_tweets = pd.concat(chunk_list)"
   ]
  },
  {
   "cell_type": "code",
   "execution_count": 16,
   "metadata": {},
   "outputs": [
    {
     "output_type": "execute_result",
     "data": {
      "text/plain": "   Unnamed: 0  has_media                                           hashtags  \\\n0         0.0      False  ['bitcoin', 'shorts', 'liquidated', 'Iran', 'W...   \n1         1.0      False                                 ['bitcoin', 'BTC']   \n2         2.0      False                                                 []   \n3         3.0      False                                        ['Bitcoin']   \n4         4.0      False                                 ['Bitcoin', 'BTC']   \n\n  img_urls  is_replied  is_reply_to  likes links  parent_tweet_id  replies  \\\n0       []       False        False      2    []              NaN        0   \n1       []       False        False      0    []              NaN        0   \n2       []       False         True      1    []     1.213121e+18        0   \n3       []       False        False      4    []              NaN        0   \n4       []       False        False      0    []              NaN        0   \n\n   ...     screen_name                                               text  \\\n0  ...  CryptoDivision  [bitcoin, jumps, first, due, shorts, liquidate...   \n1  ...   GetTheCrypto1  [bitcoin, cryptocurrencies, real, money, btc-,...   \n2  ...      zhtttttty4  [started, two, years, ago, stock, market, loss...   \n3  ...     WhaleTrades  [bitmex, btc, whale, 4,973,247, worth, bitcoin...   \n4  ...    reqBitcoinJS  [jan, 3, 2020, 23:58:00, utc, 7,326, usd, €6,5...   \n\n                                           text_html            timestamp  \\\n0  <p class=\"TweetTextSize js-tweet-text tweet-te...  2020-01-03 23:59:55   \n1  <p class=\"TweetTextSize js-tweet-text tweet-te...  2020-01-03 23:59:47   \n2  <p class=\"TweetTextSize js-tweet-text tweet-te...  2020-01-03 23:59:23   \n3  <p class=\"TweetTextSize js-tweet-text tweet-te...  2020-01-03 23:59:05   \n4  <p class=\"TweetTextSize js-tweet-text tweet-te...  2020-01-03 23:58:57   \n\n      timestamp_epochs             tweet_id  \\\n0  2020-01-03 23:59:55  1213248655320326144   \n1  2020-01-03 23:59:47  1213248621438754816   \n2  2020-01-03 23:59:23  1213248523585478656   \n3  2020-01-03 23:59:05  1213248448553730048   \n4  2020-01-03 23:58:57  1213248411417370624   \n\n                                    tweet_url              user_id  \\\n0  /CryptoDivision/status/1213248655320326144   890003583231418368   \n1   /GetTheCrypto1/status/1213248621438754820  1105237963426816000   \n2      /zhtttttty4/status/1213248523585478656  1186910416313737216   \n3     /WhaleTrades/status/1213248448553730048   968796006576947200   \n4    /reqBitcoinJS/status/1213248411417370624  1082323663238713344   \n\n                                     username  video_url  \n0                           TheCryptoDivision        NaN  \n1                                GetTheCrypto        NaN  \n2                                   zhtttttty        NaN  \n3                               WhaleTrades 🐳        NaN  \n4  Bitcoin.js //Bitcoin price every half hour        NaN  \n\n[5 rows x 22 columns]",
      "text/html": "<div>\n<style scoped>\n    .dataframe tbody tr th:only-of-type {\n        vertical-align: middle;\n    }\n\n    .dataframe tbody tr th {\n        vertical-align: top;\n    }\n\n    .dataframe thead th {\n        text-align: right;\n    }\n</style>\n<table border=\"1\" class=\"dataframe\">\n  <thead>\n    <tr style=\"text-align: right;\">\n      <th></th>\n      <th>Unnamed: 0</th>\n      <th>has_media</th>\n      <th>hashtags</th>\n      <th>img_urls</th>\n      <th>is_replied</th>\n      <th>is_reply_to</th>\n      <th>likes</th>\n      <th>links</th>\n      <th>parent_tweet_id</th>\n      <th>replies</th>\n      <th>...</th>\n      <th>screen_name</th>\n      <th>text</th>\n      <th>text_html</th>\n      <th>timestamp</th>\n      <th>timestamp_epochs</th>\n      <th>tweet_id</th>\n      <th>tweet_url</th>\n      <th>user_id</th>\n      <th>username</th>\n      <th>video_url</th>\n    </tr>\n  </thead>\n  <tbody>\n    <tr>\n      <th>0</th>\n      <td>0.0</td>\n      <td>False</td>\n      <td>['bitcoin', 'shorts', 'liquidated', 'Iran', 'W...</td>\n      <td>[]</td>\n      <td>False</td>\n      <td>False</td>\n      <td>2</td>\n      <td>[]</td>\n      <td>NaN</td>\n      <td>0</td>\n      <td>...</td>\n      <td>CryptoDivision</td>\n      <td>[bitcoin, jumps, first, due, shorts, liquidate...</td>\n      <td>&lt;p class=\"TweetTextSize js-tweet-text tweet-te...</td>\n      <td>2020-01-03 23:59:55</td>\n      <td>2020-01-03 23:59:55</td>\n      <td>1213248655320326144</td>\n      <td>/CryptoDivision/status/1213248655320326144</td>\n      <td>890003583231418368</td>\n      <td>TheCryptoDivision</td>\n      <td>NaN</td>\n    </tr>\n    <tr>\n      <th>1</th>\n      <td>1.0</td>\n      <td>False</td>\n      <td>['bitcoin', 'BTC']</td>\n      <td>[]</td>\n      <td>False</td>\n      <td>False</td>\n      <td>0</td>\n      <td>[]</td>\n      <td>NaN</td>\n      <td>0</td>\n      <td>...</td>\n      <td>GetTheCrypto1</td>\n      <td>[bitcoin, cryptocurrencies, real, money, btc-,...</td>\n      <td>&lt;p class=\"TweetTextSize js-tweet-text tweet-te...</td>\n      <td>2020-01-03 23:59:47</td>\n      <td>2020-01-03 23:59:47</td>\n      <td>1213248621438754816</td>\n      <td>/GetTheCrypto1/status/1213248621438754820</td>\n      <td>1105237963426816000</td>\n      <td>GetTheCrypto</td>\n      <td>NaN</td>\n    </tr>\n    <tr>\n      <th>2</th>\n      <td>2.0</td>\n      <td>False</td>\n      <td>[]</td>\n      <td>[]</td>\n      <td>False</td>\n      <td>True</td>\n      <td>1</td>\n      <td>[]</td>\n      <td>1.213121e+18</td>\n      <td>0</td>\n      <td>...</td>\n      <td>zhtttttty4</td>\n      <td>[started, two, years, ago, stock, market, loss...</td>\n      <td>&lt;p class=\"TweetTextSize js-tweet-text tweet-te...</td>\n      <td>2020-01-03 23:59:23</td>\n      <td>2020-01-03 23:59:23</td>\n      <td>1213248523585478656</td>\n      <td>/zhtttttty4/status/1213248523585478656</td>\n      <td>1186910416313737216</td>\n      <td>zhtttttty</td>\n      <td>NaN</td>\n    </tr>\n    <tr>\n      <th>3</th>\n      <td>3.0</td>\n      <td>False</td>\n      <td>['Bitcoin']</td>\n      <td>[]</td>\n      <td>False</td>\n      <td>False</td>\n      <td>4</td>\n      <td>[]</td>\n      <td>NaN</td>\n      <td>0</td>\n      <td>...</td>\n      <td>WhaleTrades</td>\n      <td>[bitmex, btc, whale, 4,973,247, worth, bitcoin...</td>\n      <td>&lt;p class=\"TweetTextSize js-tweet-text tweet-te...</td>\n      <td>2020-01-03 23:59:05</td>\n      <td>2020-01-03 23:59:05</td>\n      <td>1213248448553730048</td>\n      <td>/WhaleTrades/status/1213248448553730048</td>\n      <td>968796006576947200</td>\n      <td>WhaleTrades 🐳</td>\n      <td>NaN</td>\n    </tr>\n    <tr>\n      <th>4</th>\n      <td>4.0</td>\n      <td>False</td>\n      <td>['Bitcoin', 'BTC']</td>\n      <td>[]</td>\n      <td>False</td>\n      <td>False</td>\n      <td>0</td>\n      <td>[]</td>\n      <td>NaN</td>\n      <td>0</td>\n      <td>...</td>\n      <td>reqBitcoinJS</td>\n      <td>[jan, 3, 2020, 23:58:00, utc, 7,326, usd, €6,5...</td>\n      <td>&lt;p class=\"TweetTextSize js-tweet-text tweet-te...</td>\n      <td>2020-01-03 23:58:57</td>\n      <td>2020-01-03 23:58:57</td>\n      <td>1213248411417370624</td>\n      <td>/reqBitcoinJS/status/1213248411417370624</td>\n      <td>1082323663238713344</td>\n      <td>Bitcoin.js //Bitcoin price every half hour</td>\n      <td>NaN</td>\n    </tr>\n  </tbody>\n</table>\n<p>5 rows × 22 columns</p>\n</div>"
     },
     "metadata": {},
     "execution_count": 16
    }
   ],
   "source": [
    "btc_tweets.head()"
   ]
  },
  {
   "cell_type": "code",
   "execution_count": 17,
   "metadata": {},
   "outputs": [],
   "source": [
    "# sort by date \n",
    "btc_tweets.sort_values(by='timestamp', inplace=True)"
   ]
  },
  {
   "cell_type": "code",
   "execution_count": 18,
   "metadata": {},
   "outputs": [
    {
     "output_type": "execute_result",
     "data": {
      "text/plain": "(588008, 22)"
     },
     "metadata": {},
     "execution_count": 18
    }
   ],
   "source": [
    "btc_tweets.shape"
   ]
  },
  {
   "cell_type": "code",
   "execution_count": 19,
   "metadata": {},
   "outputs": [
    {
     "output_type": "execute_result",
     "data": {
      "text/plain": "Index(['Unnamed: 0', 'has_media', 'hashtags', 'img_urls', 'is_replied',\n       'is_reply_to', 'likes', 'links', 'parent_tweet_id', 'replies',\n       'reply_to_users', 'retweets', 'screen_name', 'text', 'text_html',\n       'timestamp', 'timestamp_epochs', 'tweet_id', 'tweet_url', 'user_id',\n       'username', 'video_url'],\n      dtype='object')"
     },
     "metadata": {},
     "execution_count": 19
    }
   ],
   "source": [
    "btc_tweets.columns"
   ]
  },
  {
   "cell_type": "code",
   "execution_count": 20,
   "metadata": {},
   "outputs": [],
   "source": [
    "btc_tweets.drop(columns='Unnamed: 0', inplace=True)"
   ]
  },
  {
   "cell_type": "code",
   "execution_count": 21,
   "metadata": {},
   "outputs": [],
   "source": [
    "btc_tweets['timestamp'] = pd.to_datetime(btc_tweets['timestamp'])\n"
   ]
  },
  {
   "cell_type": "code",
   "execution_count": 22,
   "metadata": {},
   "outputs": [
    {
     "output_type": "execute_result",
     "data": {
      "text/plain": "True"
     },
     "metadata": {},
     "execution_count": 22
    }
   ],
   "source": [
    "# check if duplicate tweets exist\n",
    "len(btc_tweets['tweet_id']) != len(set(btc_tweets['tweet_id']))"
   ]
  },
  {
   "cell_type": "code",
   "execution_count": 23,
   "metadata": {},
   "outputs": [
    {
     "output_type": "execute_result",
     "data": {
      "text/plain": "False"
     },
     "metadata": {},
     "execution_count": 23
    }
   ],
   "source": [
    "# drop all rows with duplicate tweet id\n",
    "btc_tweets.drop_duplicates(subset =\"tweet_id\", inplace = True)\n",
    "\n",
    "# check again if duplicate tweets exist\n",
    "len(btc_tweets['tweet_id']) != len(set(btc_tweets['tweet_id']))"
   ]
  },
  {
   "cell_type": "code",
   "execution_count": 24,
   "metadata": {},
   "outputs": [
    {
     "output_type": "execute_result",
     "data": {
      "text/plain": "(585371, 21)"
     },
     "metadata": {},
     "execution_count": 24
    }
   ],
   "source": [
    "btc_tweets.shape"
   ]
  },
  {
   "cell_type": "markdown",
   "metadata": {},
   "source": [
    "## Test by day"
   ]
  },
  {
   "cell_type": "code",
   "execution_count": 25,
   "metadata": {},
   "outputs": [
    {
     "output_type": "execute_result",
     "data": {
      "text/plain": "(4005, 21)"
     },
     "metadata": {},
     "execution_count": 25
    }
   ],
   "source": [
    "btc_tweets_by_day = pd.read_json(\"data/by_day/tweets_btc_2020-03-13.json\", encoding='utf-8')\n",
    "btc_tweets_by_day.shape"
   ]
  },
  {
   "cell_type": "code",
   "execution_count": 26,
   "metadata": {},
   "outputs": [
    {
     "output_type": "execute_result",
     "data": {
      "text/plain": "   has_media                                           hashtags  \\\n0      False                                [XBT, BTC, Bitcoin]   \n1       True                                          [bitcoin]   \n2      False  [cryptocurrency, crypto, blockchain, Bitcoin, ...   \n3      False                               [HODL, boomers, BTC]   \n4      False  [Trump, Stocks, Bitcoin, Cryptocurrencies, Dow...   \n\n                                            img_urls  is_replied  is_reply_to  \\\n0                                                 []       False        False   \n1  [https://pbs.twimg.com/media/ETBx3sIXQAYvSTD.jpg]        True        False   \n2                                                 []       False        False   \n3                                                 []       False         True   \n4                                                 []       False        False   \n\n   likes                                              links  \\\n0      1  [http://www.xbt.money/new-version-of-crypto-wa...   \n1     19                                                 []   \n2      0  [https://www.quora.com/How-much-do-you-believe...   \n3      0                                                 []   \n4      0  [https://www.visionary-finance.com/news/Trump-...   \n\n       parent_tweet_id  replies  \\\n0                             0   \n1                             3   \n2                             0   \n3  1238608438797701121        0   \n4                             0   \n\n                                      reply_to_users  ...      screen_name  \\\n0                                                 []  ...         xbtmoney   \n1                                                 []  ...        Karalhoin   \n2                                                 []  ...      arstech_biz   \n3  [{'screen_name': 'Bitcoin', 'user_id': '357312...  ...         edja7772   \n4                                                 []  ...  VisionaryFinanc   \n\n                                                text  \\\n0  New version of crypto wallet QPocket adds cold...   \n1  This is all I have to say given known current ...   \n2  My answer to How much do you believe the idea ...   \n3  I know it is scarry! However, #HODL is the onl...   \n4  #Trump Declares National Emergency & #Stocks R...   \n\n                                           text_html           timestamp  \\\n0  <p class=\"TweetTextSize js-tweet-text tweet-te... 2020-03-13 23:59:59   \n1  <p class=\"TweetTextSize js-tweet-text tweet-te... 2020-03-13 23:59:52   \n2  <p class=\"TweetTextSize js-tweet-text tweet-te... 2020-03-13 23:59:36   \n3  <p class=\"TweetTextSize js-tweet-text tweet-te... 2020-03-13 23:59:28   \n4  <p class=\"TweetTextSize js-tweet-text tweet-te... 2020-03-13 23:59:28   \n\n     timestamp_epochs             tweet_id  \\\n0 2020-03-13 23:59:59  1238615823297593344   \n1 2020-03-13 23:59:52  1238615793291706368   \n2 2020-03-13 23:59:36  1238615726379814912   \n3 2020-03-13 23:59:28  1238615695530905600   \n4 2020-03-13 23:59:28  1238615695371522048   \n\n                                     tweet_url             user_id  \\\n0         /xbtmoney/status/1238615823297593344           199453782   \n1        /Karalhoin/status/1238615793291706368           175960015   \n2      /arstech_biz/status/1238615726379814912  962117889028272128   \n3         /edja7772/status/1238615695530905600           298805664   \n4  /VisionaryFinanc/status/1238615695371522049  859252235804520448   \n\n                  username video_url  \n0                 XBTmoney            \n1  Vandelay BTC Industries            \n2              arstech.biz            \n3                    Edgar            \n4                       VF            \n\n[5 rows x 21 columns]",
      "text/html": "<div>\n<style scoped>\n    .dataframe tbody tr th:only-of-type {\n        vertical-align: middle;\n    }\n\n    .dataframe tbody tr th {\n        vertical-align: top;\n    }\n\n    .dataframe thead th {\n        text-align: right;\n    }\n</style>\n<table border=\"1\" class=\"dataframe\">\n  <thead>\n    <tr style=\"text-align: right;\">\n      <th></th>\n      <th>has_media</th>\n      <th>hashtags</th>\n      <th>img_urls</th>\n      <th>is_replied</th>\n      <th>is_reply_to</th>\n      <th>likes</th>\n      <th>links</th>\n      <th>parent_tweet_id</th>\n      <th>replies</th>\n      <th>reply_to_users</th>\n      <th>...</th>\n      <th>screen_name</th>\n      <th>text</th>\n      <th>text_html</th>\n      <th>timestamp</th>\n      <th>timestamp_epochs</th>\n      <th>tweet_id</th>\n      <th>tweet_url</th>\n      <th>user_id</th>\n      <th>username</th>\n      <th>video_url</th>\n    </tr>\n  </thead>\n  <tbody>\n    <tr>\n      <th>0</th>\n      <td>False</td>\n      <td>[XBT, BTC, Bitcoin]</td>\n      <td>[]</td>\n      <td>False</td>\n      <td>False</td>\n      <td>1</td>\n      <td>[http://www.xbt.money/new-version-of-crypto-wa...</td>\n      <td></td>\n      <td>0</td>\n      <td>[]</td>\n      <td>...</td>\n      <td>xbtmoney</td>\n      <td>New version of crypto wallet QPocket adds cold...</td>\n      <td>&lt;p class=\"TweetTextSize js-tweet-text tweet-te...</td>\n      <td>2020-03-13 23:59:59</td>\n      <td>2020-03-13 23:59:59</td>\n      <td>1238615823297593344</td>\n      <td>/xbtmoney/status/1238615823297593344</td>\n      <td>199453782</td>\n      <td>XBTmoney</td>\n      <td></td>\n    </tr>\n    <tr>\n      <th>1</th>\n      <td>True</td>\n      <td>[bitcoin]</td>\n      <td>[https://pbs.twimg.com/media/ETBx3sIXQAYvSTD.jpg]</td>\n      <td>True</td>\n      <td>False</td>\n      <td>19</td>\n      <td>[]</td>\n      <td></td>\n      <td>3</td>\n      <td>[]</td>\n      <td>...</td>\n      <td>Karalhoin</td>\n      <td>This is all I have to say given known current ...</td>\n      <td>&lt;p class=\"TweetTextSize js-tweet-text tweet-te...</td>\n      <td>2020-03-13 23:59:52</td>\n      <td>2020-03-13 23:59:52</td>\n      <td>1238615793291706368</td>\n      <td>/Karalhoin/status/1238615793291706368</td>\n      <td>175960015</td>\n      <td>Vandelay BTC Industries</td>\n      <td></td>\n    </tr>\n    <tr>\n      <th>2</th>\n      <td>False</td>\n      <td>[cryptocurrency, crypto, blockchain, Bitcoin, ...</td>\n      <td>[]</td>\n      <td>False</td>\n      <td>False</td>\n      <td>0</td>\n      <td>[https://www.quora.com/How-much-do-you-believe...</td>\n      <td></td>\n      <td>0</td>\n      <td>[]</td>\n      <td>...</td>\n      <td>arstech_biz</td>\n      <td>My answer to How much do you believe the idea ...</td>\n      <td>&lt;p class=\"TweetTextSize js-tweet-text tweet-te...</td>\n      <td>2020-03-13 23:59:36</td>\n      <td>2020-03-13 23:59:36</td>\n      <td>1238615726379814912</td>\n      <td>/arstech_biz/status/1238615726379814912</td>\n      <td>962117889028272128</td>\n      <td>arstech.biz</td>\n      <td></td>\n    </tr>\n    <tr>\n      <th>3</th>\n      <td>False</td>\n      <td>[HODL, boomers, BTC]</td>\n      <td>[]</td>\n      <td>False</td>\n      <td>True</td>\n      <td>0</td>\n      <td>[]</td>\n      <td>1238608438797701121</td>\n      <td>0</td>\n      <td>[{'screen_name': 'Bitcoin', 'user_id': '357312...</td>\n      <td>...</td>\n      <td>edja7772</td>\n      <td>I know it is scarry! However, #HODL is the onl...</td>\n      <td>&lt;p class=\"TweetTextSize js-tweet-text tweet-te...</td>\n      <td>2020-03-13 23:59:28</td>\n      <td>2020-03-13 23:59:28</td>\n      <td>1238615695530905600</td>\n      <td>/edja7772/status/1238615695530905600</td>\n      <td>298805664</td>\n      <td>Edgar</td>\n      <td></td>\n    </tr>\n    <tr>\n      <th>4</th>\n      <td>False</td>\n      <td>[Trump, Stocks, Bitcoin, Cryptocurrencies, Dow...</td>\n      <td>[]</td>\n      <td>False</td>\n      <td>False</td>\n      <td>0</td>\n      <td>[https://www.visionary-finance.com/news/Trump-...</td>\n      <td></td>\n      <td>0</td>\n      <td>[]</td>\n      <td>...</td>\n      <td>VisionaryFinanc</td>\n      <td>#Trump Declares National Emergency &amp; #Stocks R...</td>\n      <td>&lt;p class=\"TweetTextSize js-tweet-text tweet-te...</td>\n      <td>2020-03-13 23:59:28</td>\n      <td>2020-03-13 23:59:28</td>\n      <td>1238615695371522048</td>\n      <td>/VisionaryFinanc/status/1238615695371522049</td>\n      <td>859252235804520448</td>\n      <td>VF</td>\n      <td></td>\n    </tr>\n  </tbody>\n</table>\n<p>5 rows × 21 columns</p>\n</div>"
     },
     "metadata": {},
     "execution_count": 26
    }
   ],
   "source": [
    "btc_tweets_by_day.head()"
   ]
  },
  {
   "cell_type": "code",
   "execution_count": 27,
   "metadata": {},
   "outputs": [
    {
     "output_type": "execute_result",
     "data": {
      "text/plain": "<matplotlib.axes._subplots.AxesSubplot at 0x7f230d9e5040>"
     },
     "metadata": {},
     "execution_count": 27
    },
    {
     "output_type": "display_data",
     "data": {
      "text/plain": "<Figure size 432x288 with 1 Axes>",
      "image/svg+xml": "<?xml version=\"1.0\" encoding=\"utf-8\" standalone=\"no\"?>\n<!DOCTYPE svg PUBLIC \"-//W3C//DTD SVG 1.1//EN\"\n  \"http://www.w3.org/Graphics/SVG/1.1/DTD/svg11.dtd\">\n<!-- Created with matplotlib (https://matplotlib.org/) -->\n<svg height=\"265.243125pt\" version=\"1.1\" viewBox=\"0 0 375.2875 265.243125\" width=\"375.2875pt\" xmlns=\"http://www.w3.org/2000/svg\" xmlns:xlink=\"http://www.w3.org/1999/xlink\">\n <defs>\n  <style type=\"text/css\">\n*{stroke-linecap:butt;stroke-linejoin:round;}\n  </style>\n </defs>\n <g id=\"figure_1\">\n  <g id=\"patch_1\">\n   <path d=\"M 0 265.243125 \nL 375.2875 265.243125 \nL 375.2875 0 \nL 0 0 \nz\n\" style=\"fill:none;\"/>\n  </g>\n  <g id=\"axes_1\">\n   <g id=\"patch_2\">\n    <path d=\"M 33.2875 224.64 \nL 368.0875 224.64 \nL 368.0875 7.2 \nL 33.2875 7.2 \nz\n\" style=\"fill:#ffffff;\"/>\n   </g>\n   <g id=\"patch_3\">\n    <path clip-path=\"url(#p03579bf689)\" d=\"M 39.266071 224.64 \nL 51.223214 224.64 \nL 51.223214 179.394382 \nL 39.266071 179.394382 \nz\n\" style=\"fill:#1f77b4;\"/>\n   </g>\n   <g id=\"patch_4\">\n    <path clip-path=\"url(#p03579bf689)\" d=\"M 63.180357 224.64 \nL 75.1375 224.64 \nL 75.1375 29.155726 \nL 63.180357 29.155726 \nz\n\" style=\"fill:#1f77b4;\"/>\n   </g>\n   <g id=\"patch_5\">\n    <path clip-path=\"url(#p03579bf689)\" d=\"M 87.094643 224.64 \nL 99.051786 224.64 \nL 99.051786 40.757167 \nL 87.094643 40.757167 \nz\n\" style=\"fill:#1f77b4;\"/>\n   </g>\n   <g id=\"patch_6\">\n    <path clip-path=\"url(#p03579bf689)\" d=\"M 111.008929 224.64 \nL 122.966071 224.64 \nL 122.966071 34.376375 \nL 111.008929 34.376375 \nz\n\" style=\"fill:#1f77b4;\"/>\n   </g>\n   <g id=\"patch_7\">\n    <path clip-path=\"url(#p03579bf689)\" d=\"M 134.923214 224.64 \nL 146.880357 224.64 \nL 146.880357 19.294502 \nL 134.923214 19.294502 \nz\n\" style=\"fill:#1f77b4;\"/>\n   </g>\n   <g id=\"patch_8\">\n    <path clip-path=\"url(#p03579bf689)\" d=\"M 158.8375 224.64 \nL 170.794643 224.64 \nL 170.794643 17.554286 \nL 158.8375 17.554286 \nz\n\" style=\"fill:#1f77b4;\"/>\n   </g>\n   <g id=\"patch_9\">\n    <path clip-path=\"url(#p03579bf689)\" d=\"M 182.751786 224.64 \nL 194.708929 224.64 \nL 194.708929 48.878175 \nL 182.751786 48.878175 \nz\n\" style=\"fill:#1f77b4;\"/>\n   </g>\n   <g id=\"patch_10\">\n    <path clip-path=\"url(#p03579bf689)\" d=\"M 206.666071 224.64 \nL 218.623214 224.64 \nL 218.623214 55.258968 \nL 206.666071 55.258968 \nz\n\" style=\"fill:#1f77b4;\"/>\n   </g>\n   <g id=\"patch_11\">\n    <path clip-path=\"url(#p03579bf689)\" d=\"M 230.580357 224.64 \nL 242.5375 224.64 \nL 242.5375 58.7394 \nL 230.580357 58.7394 \nz\n\" style=\"fill:#1f77b4;\"/>\n   </g>\n   <g id=\"patch_12\">\n    <path clip-path=\"url(#p03579bf689)\" d=\"M 254.494643 224.64 \nL 266.451786 224.64 \nL 266.451786 33.796303 \nL 254.494643 33.796303 \nz\n\" style=\"fill:#1f77b4;\"/>\n   </g>\n   <g id=\"patch_13\">\n    <path clip-path=\"url(#p03579bf689)\" d=\"M 278.408929 224.64 \nL 290.366071 224.64 \nL 290.366071 74.401345 \nL 278.408929 74.401345 \nz\n\" style=\"fill:#1f77b4;\"/>\n   </g>\n   <g id=\"patch_14\">\n    <path clip-path=\"url(#p03579bf689)\" d=\"M 302.323214 224.64 \nL 314.280357 224.64 \nL 314.280357 27.41551 \nL 302.323214 27.41551 \nz\n\" style=\"fill:#1f77b4;\"/>\n   </g>\n   <g id=\"patch_15\">\n    <path clip-path=\"url(#p03579bf689)\" d=\"M 326.2375 224.64 \nL 338.194643 224.64 \nL 338.194643 106.305306 \nL 326.2375 106.305306 \nz\n\" style=\"fill:#1f77b4;\"/>\n   </g>\n   <g id=\"patch_16\">\n    <path clip-path=\"url(#p03579bf689)\" d=\"M 350.151786 224.64 \nL 362.108929 224.64 \nL 362.108929 96.444082 \nL 350.151786 96.444082 \nz\n\" style=\"fill:#1f77b4;\"/>\n   </g>\n   <g id=\"matplotlib.axis_1\">\n    <g id=\"xtick_1\">\n     <g id=\"line2d_1\">\n      <defs>\n       <path d=\"M 0 0 \nL 0 3.5 \n\" id=\"m7f852f717a\" style=\"stroke:#000000;stroke-width:0.8;\"/>\n      </defs>\n      <g>\n       <use style=\"stroke:#000000;stroke-width:0.8;\" x=\"45.244643\" xlink:href=\"#m7f852f717a\" y=\"224.64\"/>\n      </g>\n     </g>\n     <g id=\"text_1\">\n      <!-- 10 -->\n      <defs>\n       <path d=\"M 12.40625 8.296875 \nL 28.515625 8.296875 \nL 28.515625 63.921875 \nL 10.984375 60.40625 \nL 10.984375 69.390625 \nL 28.421875 72.90625 \nL 38.28125 72.90625 \nL 38.28125 8.296875 \nL 54.390625 8.296875 \nL 54.390625 0 \nL 12.40625 0 \nz\n\" id=\"DejaVuSans-49\"/>\n       <path d=\"M 31.78125 66.40625 \nQ 24.171875 66.40625 20.328125 58.90625 \nQ 16.5 51.421875 16.5 36.375 \nQ 16.5 21.390625 20.328125 13.890625 \nQ 24.171875 6.390625 31.78125 6.390625 \nQ 39.453125 6.390625 43.28125 13.890625 \nQ 47.125 21.390625 47.125 36.375 \nQ 47.125 51.421875 43.28125 58.90625 \nQ 39.453125 66.40625 31.78125 66.40625 \nz\nM 31.78125 74.21875 \nQ 44.046875 74.21875 50.515625 64.515625 \nQ 56.984375 54.828125 56.984375 36.375 \nQ 56.984375 17.96875 50.515625 8.265625 \nQ 44.046875 -1.421875 31.78125 -1.421875 \nQ 19.53125 -1.421875 13.0625 8.265625 \nQ 6.59375 17.96875 6.59375 36.375 \nQ 6.59375 54.828125 13.0625 64.515625 \nQ 19.53125 74.21875 31.78125 74.21875 \nz\n\" id=\"DejaVuSans-48\"/>\n      </defs>\n      <g transform=\"translate(48.004018 244.365)rotate(-90)scale(0.1 -0.1)\">\n       <use xlink:href=\"#DejaVuSans-49\"/>\n       <use x=\"63.623047\" xlink:href=\"#DejaVuSans-48\"/>\n      </g>\n     </g>\n    </g>\n    <g id=\"xtick_2\">\n     <g id=\"line2d_2\">\n      <g>\n       <use style=\"stroke:#000000;stroke-width:0.8;\" x=\"69.158929\" xlink:href=\"#m7f852f717a\" y=\"224.64\"/>\n      </g>\n     </g>\n     <g id=\"text_2\">\n      <!-- 11 -->\n      <g transform=\"translate(71.918304 244.365)rotate(-90)scale(0.1 -0.1)\">\n       <use xlink:href=\"#DejaVuSans-49\"/>\n       <use x=\"63.623047\" xlink:href=\"#DejaVuSans-49\"/>\n      </g>\n     </g>\n    </g>\n    <g id=\"xtick_3\">\n     <g id=\"line2d_3\">\n      <g>\n       <use style=\"stroke:#000000;stroke-width:0.8;\" x=\"93.073214\" xlink:href=\"#m7f852f717a\" y=\"224.64\"/>\n      </g>\n     </g>\n     <g id=\"text_3\">\n      <!-- 12 -->\n      <defs>\n       <path d=\"M 19.1875 8.296875 \nL 53.609375 8.296875 \nL 53.609375 0 \nL 7.328125 0 \nL 7.328125 8.296875 \nQ 12.9375 14.109375 22.625 23.890625 \nQ 32.328125 33.6875 34.8125 36.53125 \nQ 39.546875 41.84375 41.421875 45.53125 \nQ 43.3125 49.21875 43.3125 52.78125 \nQ 43.3125 58.59375 39.234375 62.25 \nQ 35.15625 65.921875 28.609375 65.921875 \nQ 23.96875 65.921875 18.8125 64.3125 \nQ 13.671875 62.703125 7.8125 59.421875 \nL 7.8125 69.390625 \nQ 13.765625 71.78125 18.9375 73 \nQ 24.125 74.21875 28.421875 74.21875 \nQ 39.75 74.21875 46.484375 68.546875 \nQ 53.21875 62.890625 53.21875 53.421875 \nQ 53.21875 48.921875 51.53125 44.890625 \nQ 49.859375 40.875 45.40625 35.40625 \nQ 44.1875 33.984375 37.640625 27.21875 \nQ 31.109375 20.453125 19.1875 8.296875 \nz\n\" id=\"DejaVuSans-50\"/>\n      </defs>\n      <g transform=\"translate(95.832589 244.365)rotate(-90)scale(0.1 -0.1)\">\n       <use xlink:href=\"#DejaVuSans-49\"/>\n       <use x=\"63.623047\" xlink:href=\"#DejaVuSans-50\"/>\n      </g>\n     </g>\n    </g>\n    <g id=\"xtick_4\">\n     <g id=\"line2d_4\">\n      <g>\n       <use style=\"stroke:#000000;stroke-width:0.8;\" x=\"116.9875\" xlink:href=\"#m7f852f717a\" y=\"224.64\"/>\n      </g>\n     </g>\n     <g id=\"text_4\">\n      <!-- 13 -->\n      <defs>\n       <path d=\"M 40.578125 39.3125 \nQ 47.65625 37.796875 51.625 33 \nQ 55.609375 28.21875 55.609375 21.1875 \nQ 55.609375 10.40625 48.1875 4.484375 \nQ 40.765625 -1.421875 27.09375 -1.421875 \nQ 22.515625 -1.421875 17.65625 -0.515625 \nQ 12.796875 0.390625 7.625 2.203125 \nL 7.625 11.71875 \nQ 11.71875 9.328125 16.59375 8.109375 \nQ 21.484375 6.890625 26.8125 6.890625 \nQ 36.078125 6.890625 40.9375 10.546875 \nQ 45.796875 14.203125 45.796875 21.1875 \nQ 45.796875 27.640625 41.28125 31.265625 \nQ 36.765625 34.90625 28.71875 34.90625 \nL 20.21875 34.90625 \nL 20.21875 43.015625 \nL 29.109375 43.015625 \nQ 36.375 43.015625 40.234375 45.921875 \nQ 44.09375 48.828125 44.09375 54.296875 \nQ 44.09375 59.90625 40.109375 62.90625 \nQ 36.140625 65.921875 28.71875 65.921875 \nQ 24.65625 65.921875 20.015625 65.03125 \nQ 15.375 64.15625 9.8125 62.3125 \nL 9.8125 71.09375 \nQ 15.4375 72.65625 20.34375 73.4375 \nQ 25.25 74.21875 29.59375 74.21875 \nQ 40.828125 74.21875 47.359375 69.109375 \nQ 53.90625 64.015625 53.90625 55.328125 \nQ 53.90625 49.265625 50.4375 45.09375 \nQ 46.96875 40.921875 40.578125 39.3125 \nz\n\" id=\"DejaVuSans-51\"/>\n      </defs>\n      <g transform=\"translate(119.746875 244.365)rotate(-90)scale(0.1 -0.1)\">\n       <use xlink:href=\"#DejaVuSans-49\"/>\n       <use x=\"63.623047\" xlink:href=\"#DejaVuSans-51\"/>\n      </g>\n     </g>\n    </g>\n    <g id=\"xtick_5\">\n     <g id=\"line2d_5\">\n      <g>\n       <use style=\"stroke:#000000;stroke-width:0.8;\" x=\"140.901786\" xlink:href=\"#m7f852f717a\" y=\"224.64\"/>\n      </g>\n     </g>\n     <g id=\"text_5\">\n      <!-- 14 -->\n      <defs>\n       <path d=\"M 37.796875 64.3125 \nL 12.890625 25.390625 \nL 37.796875 25.390625 \nz\nM 35.203125 72.90625 \nL 47.609375 72.90625 \nL 47.609375 25.390625 \nL 58.015625 25.390625 \nL 58.015625 17.1875 \nL 47.609375 17.1875 \nL 47.609375 0 \nL 37.796875 0 \nL 37.796875 17.1875 \nL 4.890625 17.1875 \nL 4.890625 26.703125 \nz\n\" id=\"DejaVuSans-52\"/>\n      </defs>\n      <g transform=\"translate(143.661161 244.365)rotate(-90)scale(0.1 -0.1)\">\n       <use xlink:href=\"#DejaVuSans-49\"/>\n       <use x=\"63.623047\" xlink:href=\"#DejaVuSans-52\"/>\n      </g>\n     </g>\n    </g>\n    <g id=\"xtick_6\">\n     <g id=\"line2d_6\">\n      <g>\n       <use style=\"stroke:#000000;stroke-width:0.8;\" x=\"164.816071\" xlink:href=\"#m7f852f717a\" y=\"224.64\"/>\n      </g>\n     </g>\n     <g id=\"text_6\">\n      <!-- 15 -->\n      <defs>\n       <path d=\"M 10.796875 72.90625 \nL 49.515625 72.90625 \nL 49.515625 64.59375 \nL 19.828125 64.59375 \nL 19.828125 46.734375 \nQ 21.96875 47.46875 24.109375 47.828125 \nQ 26.265625 48.1875 28.421875 48.1875 \nQ 40.625 48.1875 47.75 41.5 \nQ 54.890625 34.8125 54.890625 23.390625 \nQ 54.890625 11.625 47.5625 5.09375 \nQ 40.234375 -1.421875 26.90625 -1.421875 \nQ 22.3125 -1.421875 17.546875 -0.640625 \nQ 12.796875 0.140625 7.71875 1.703125 \nL 7.71875 11.625 \nQ 12.109375 9.234375 16.796875 8.0625 \nQ 21.484375 6.890625 26.703125 6.890625 \nQ 35.15625 6.890625 40.078125 11.328125 \nQ 45.015625 15.765625 45.015625 23.390625 \nQ 45.015625 31 40.078125 35.4375 \nQ 35.15625 39.890625 26.703125 39.890625 \nQ 22.75 39.890625 18.8125 39.015625 \nQ 14.890625 38.140625 10.796875 36.28125 \nz\n\" id=\"DejaVuSans-53\"/>\n      </defs>\n      <g transform=\"translate(167.575446 244.365)rotate(-90)scale(0.1 -0.1)\">\n       <use xlink:href=\"#DejaVuSans-49\"/>\n       <use x=\"63.623047\" xlink:href=\"#DejaVuSans-53\"/>\n      </g>\n     </g>\n    </g>\n    <g id=\"xtick_7\">\n     <g id=\"line2d_7\">\n      <g>\n       <use style=\"stroke:#000000;stroke-width:0.8;\" x=\"188.730357\" xlink:href=\"#m7f852f717a\" y=\"224.64\"/>\n      </g>\n     </g>\n     <g id=\"text_7\">\n      <!-- 16 -->\n      <defs>\n       <path d=\"M 33.015625 40.375 \nQ 26.375 40.375 22.484375 35.828125 \nQ 18.609375 31.296875 18.609375 23.390625 \nQ 18.609375 15.53125 22.484375 10.953125 \nQ 26.375 6.390625 33.015625 6.390625 \nQ 39.65625 6.390625 43.53125 10.953125 \nQ 47.40625 15.53125 47.40625 23.390625 \nQ 47.40625 31.296875 43.53125 35.828125 \nQ 39.65625 40.375 33.015625 40.375 \nz\nM 52.59375 71.296875 \nL 52.59375 62.3125 \nQ 48.875 64.0625 45.09375 64.984375 \nQ 41.3125 65.921875 37.59375 65.921875 \nQ 27.828125 65.921875 22.671875 59.328125 \nQ 17.53125 52.734375 16.796875 39.40625 \nQ 19.671875 43.65625 24.015625 45.921875 \nQ 28.375 48.1875 33.59375 48.1875 \nQ 44.578125 48.1875 50.953125 41.515625 \nQ 57.328125 34.859375 57.328125 23.390625 \nQ 57.328125 12.15625 50.6875 5.359375 \nQ 44.046875 -1.421875 33.015625 -1.421875 \nQ 20.359375 -1.421875 13.671875 8.265625 \nQ 6.984375 17.96875 6.984375 36.375 \nQ 6.984375 53.65625 15.1875 63.9375 \nQ 23.390625 74.21875 37.203125 74.21875 \nQ 40.921875 74.21875 44.703125 73.484375 \nQ 48.484375 72.75 52.59375 71.296875 \nz\n\" id=\"DejaVuSans-54\"/>\n      </defs>\n      <g transform=\"translate(191.489732 244.365)rotate(-90)scale(0.1 -0.1)\">\n       <use xlink:href=\"#DejaVuSans-49\"/>\n       <use x=\"63.623047\" xlink:href=\"#DejaVuSans-54\"/>\n      </g>\n     </g>\n    </g>\n    <g id=\"xtick_8\">\n     <g id=\"line2d_8\">\n      <g>\n       <use style=\"stroke:#000000;stroke-width:0.8;\" x=\"212.644643\" xlink:href=\"#m7f852f717a\" y=\"224.64\"/>\n      </g>\n     </g>\n     <g id=\"text_8\">\n      <!-- 17 -->\n      <defs>\n       <path d=\"M 8.203125 72.90625 \nL 55.078125 72.90625 \nL 55.078125 68.703125 \nL 28.609375 0 \nL 18.3125 0 \nL 43.21875 64.59375 \nL 8.203125 64.59375 \nz\n\" id=\"DejaVuSans-55\"/>\n      </defs>\n      <g transform=\"translate(215.404018 244.365)rotate(-90)scale(0.1 -0.1)\">\n       <use xlink:href=\"#DejaVuSans-49\"/>\n       <use x=\"63.623047\" xlink:href=\"#DejaVuSans-55\"/>\n      </g>\n     </g>\n    </g>\n    <g id=\"xtick_9\">\n     <g id=\"line2d_9\">\n      <g>\n       <use style=\"stroke:#000000;stroke-width:0.8;\" x=\"236.558929\" xlink:href=\"#m7f852f717a\" y=\"224.64\"/>\n      </g>\n     </g>\n     <g id=\"text_9\">\n      <!-- 18 -->\n      <defs>\n       <path d=\"M 31.78125 34.625 \nQ 24.75 34.625 20.71875 30.859375 \nQ 16.703125 27.09375 16.703125 20.515625 \nQ 16.703125 13.921875 20.71875 10.15625 \nQ 24.75 6.390625 31.78125 6.390625 \nQ 38.8125 6.390625 42.859375 10.171875 \nQ 46.921875 13.96875 46.921875 20.515625 \nQ 46.921875 27.09375 42.890625 30.859375 \nQ 38.875 34.625 31.78125 34.625 \nz\nM 21.921875 38.8125 \nQ 15.578125 40.375 12.03125 44.71875 \nQ 8.5 49.078125 8.5 55.328125 \nQ 8.5 64.0625 14.71875 69.140625 \nQ 20.953125 74.21875 31.78125 74.21875 \nQ 42.671875 74.21875 48.875 69.140625 \nQ 55.078125 64.0625 55.078125 55.328125 \nQ 55.078125 49.078125 51.53125 44.71875 \nQ 48 40.375 41.703125 38.8125 \nQ 48.828125 37.15625 52.796875 32.3125 \nQ 56.78125 27.484375 56.78125 20.515625 \nQ 56.78125 9.90625 50.3125 4.234375 \nQ 43.84375 -1.421875 31.78125 -1.421875 \nQ 19.734375 -1.421875 13.25 4.234375 \nQ 6.78125 9.90625 6.78125 20.515625 \nQ 6.78125 27.484375 10.78125 32.3125 \nQ 14.796875 37.15625 21.921875 38.8125 \nz\nM 18.3125 54.390625 \nQ 18.3125 48.734375 21.84375 45.5625 \nQ 25.390625 42.390625 31.78125 42.390625 \nQ 38.140625 42.390625 41.71875 45.5625 \nQ 45.3125 48.734375 45.3125 54.390625 \nQ 45.3125 60.0625 41.71875 63.234375 \nQ 38.140625 66.40625 31.78125 66.40625 \nQ 25.390625 66.40625 21.84375 63.234375 \nQ 18.3125 60.0625 18.3125 54.390625 \nz\n\" id=\"DejaVuSans-56\"/>\n      </defs>\n      <g transform=\"translate(239.318304 244.365)rotate(-90)scale(0.1 -0.1)\">\n       <use xlink:href=\"#DejaVuSans-49\"/>\n       <use x=\"63.623047\" xlink:href=\"#DejaVuSans-56\"/>\n      </g>\n     </g>\n    </g>\n    <g id=\"xtick_10\">\n     <g id=\"line2d_10\">\n      <g>\n       <use style=\"stroke:#000000;stroke-width:0.8;\" x=\"260.473214\" xlink:href=\"#m7f852f717a\" y=\"224.64\"/>\n      </g>\n     </g>\n     <g id=\"text_10\">\n      <!-- 19 -->\n      <defs>\n       <path d=\"M 10.984375 1.515625 \nL 10.984375 10.5 \nQ 14.703125 8.734375 18.5 7.8125 \nQ 22.3125 6.890625 25.984375 6.890625 \nQ 35.75 6.890625 40.890625 13.453125 \nQ 46.046875 20.015625 46.78125 33.40625 \nQ 43.953125 29.203125 39.59375 26.953125 \nQ 35.25 24.703125 29.984375 24.703125 \nQ 19.046875 24.703125 12.671875 31.3125 \nQ 6.296875 37.9375 6.296875 49.421875 \nQ 6.296875 60.640625 12.9375 67.421875 \nQ 19.578125 74.21875 30.609375 74.21875 \nQ 43.265625 74.21875 49.921875 64.515625 \nQ 56.59375 54.828125 56.59375 36.375 \nQ 56.59375 19.140625 48.40625 8.859375 \nQ 40.234375 -1.421875 26.421875 -1.421875 \nQ 22.703125 -1.421875 18.890625 -0.6875 \nQ 15.09375 0.046875 10.984375 1.515625 \nz\nM 30.609375 32.421875 \nQ 37.25 32.421875 41.125 36.953125 \nQ 45.015625 41.5 45.015625 49.421875 \nQ 45.015625 57.28125 41.125 61.84375 \nQ 37.25 66.40625 30.609375 66.40625 \nQ 23.96875 66.40625 20.09375 61.84375 \nQ 16.21875 57.28125 16.21875 49.421875 \nQ 16.21875 41.5 20.09375 36.953125 \nQ 23.96875 32.421875 30.609375 32.421875 \nz\n\" id=\"DejaVuSans-57\"/>\n      </defs>\n      <g transform=\"translate(263.232589 244.365)rotate(-90)scale(0.1 -0.1)\">\n       <use xlink:href=\"#DejaVuSans-49\"/>\n       <use x=\"63.623047\" xlink:href=\"#DejaVuSans-57\"/>\n      </g>\n     </g>\n    </g>\n    <g id=\"xtick_11\">\n     <g id=\"line2d_11\">\n      <g>\n       <use style=\"stroke:#000000;stroke-width:0.8;\" x=\"284.3875\" xlink:href=\"#m7f852f717a\" y=\"224.64\"/>\n      </g>\n     </g>\n     <g id=\"text_11\">\n      <!-- 20 -->\n      <g transform=\"translate(287.146875 244.365)rotate(-90)scale(0.1 -0.1)\">\n       <use xlink:href=\"#DejaVuSans-50\"/>\n       <use x=\"63.623047\" xlink:href=\"#DejaVuSans-48\"/>\n      </g>\n     </g>\n    </g>\n    <g id=\"xtick_12\">\n     <g id=\"line2d_12\">\n      <g>\n       <use style=\"stroke:#000000;stroke-width:0.8;\" x=\"308.301786\" xlink:href=\"#m7f852f717a\" y=\"224.64\"/>\n      </g>\n     </g>\n     <g id=\"text_12\">\n      <!-- 21 -->\n      <g transform=\"translate(311.061161 244.365)rotate(-90)scale(0.1 -0.1)\">\n       <use xlink:href=\"#DejaVuSans-50\"/>\n       <use x=\"63.623047\" xlink:href=\"#DejaVuSans-49\"/>\n      </g>\n     </g>\n    </g>\n    <g id=\"xtick_13\">\n     <g id=\"line2d_13\">\n      <g>\n       <use style=\"stroke:#000000;stroke-width:0.8;\" x=\"332.216071\" xlink:href=\"#m7f852f717a\" y=\"224.64\"/>\n      </g>\n     </g>\n     <g id=\"text_13\">\n      <!-- 22 -->\n      <g transform=\"translate(334.975446 244.365)rotate(-90)scale(0.1 -0.1)\">\n       <use xlink:href=\"#DejaVuSans-50\"/>\n       <use x=\"63.623047\" xlink:href=\"#DejaVuSans-50\"/>\n      </g>\n     </g>\n    </g>\n    <g id=\"xtick_14\">\n     <g id=\"line2d_14\">\n      <g>\n       <use style=\"stroke:#000000;stroke-width:0.8;\" x=\"356.130357\" xlink:href=\"#m7f852f717a\" y=\"224.64\"/>\n      </g>\n     </g>\n     <g id=\"text_14\">\n      <!-- 23 -->\n      <g transform=\"translate(358.889732 244.365)rotate(-90)scale(0.1 -0.1)\">\n       <use xlink:href=\"#DejaVuSans-50\"/>\n       <use x=\"63.623047\" xlink:href=\"#DejaVuSans-51\"/>\n      </g>\n     </g>\n    </g>\n    <g id=\"text_15\">\n     <!-- timestamp -->\n     <defs>\n      <path d=\"M 18.3125 70.21875 \nL 18.3125 54.6875 \nL 36.8125 54.6875 \nL 36.8125 47.703125 \nL 18.3125 47.703125 \nL 18.3125 18.015625 \nQ 18.3125 11.328125 20.140625 9.421875 \nQ 21.96875 7.515625 27.59375 7.515625 \nL 36.8125 7.515625 \nL 36.8125 0 \nL 27.59375 0 \nQ 17.1875 0 13.234375 3.875 \nQ 9.28125 7.765625 9.28125 18.015625 \nL 9.28125 47.703125 \nL 2.6875 47.703125 \nL 2.6875 54.6875 \nL 9.28125 54.6875 \nL 9.28125 70.21875 \nz\n\" id=\"DejaVuSans-116\"/>\n      <path d=\"M 9.421875 54.6875 \nL 18.40625 54.6875 \nL 18.40625 0 \nL 9.421875 0 \nz\nM 9.421875 75.984375 \nL 18.40625 75.984375 \nL 18.40625 64.59375 \nL 9.421875 64.59375 \nz\n\" id=\"DejaVuSans-105\"/>\n      <path d=\"M 52 44.1875 \nQ 55.375 50.25 60.0625 53.125 \nQ 64.75 56 71.09375 56 \nQ 79.640625 56 84.28125 50.015625 \nQ 88.921875 44.046875 88.921875 33.015625 \nL 88.921875 0 \nL 79.890625 0 \nL 79.890625 32.71875 \nQ 79.890625 40.578125 77.09375 44.375 \nQ 74.3125 48.1875 68.609375 48.1875 \nQ 61.625 48.1875 57.5625 43.546875 \nQ 53.515625 38.921875 53.515625 30.90625 \nL 53.515625 0 \nL 44.484375 0 \nL 44.484375 32.71875 \nQ 44.484375 40.625 41.703125 44.40625 \nQ 38.921875 48.1875 33.109375 48.1875 \nQ 26.21875 48.1875 22.15625 43.53125 \nQ 18.109375 38.875 18.109375 30.90625 \nL 18.109375 0 \nL 9.078125 0 \nL 9.078125 54.6875 \nL 18.109375 54.6875 \nL 18.109375 46.1875 \nQ 21.1875 51.21875 25.484375 53.609375 \nQ 29.78125 56 35.6875 56 \nQ 41.65625 56 45.828125 52.96875 \nQ 50 49.953125 52 44.1875 \nz\n\" id=\"DejaVuSans-109\"/>\n      <path d=\"M 56.203125 29.59375 \nL 56.203125 25.203125 \nL 14.890625 25.203125 \nQ 15.484375 15.921875 20.484375 11.0625 \nQ 25.484375 6.203125 34.421875 6.203125 \nQ 39.59375 6.203125 44.453125 7.46875 \nQ 49.3125 8.734375 54.109375 11.28125 \nL 54.109375 2.78125 \nQ 49.265625 0.734375 44.1875 -0.34375 \nQ 39.109375 -1.421875 33.890625 -1.421875 \nQ 20.796875 -1.421875 13.15625 6.1875 \nQ 5.515625 13.8125 5.515625 26.8125 \nQ 5.515625 40.234375 12.765625 48.109375 \nQ 20.015625 56 32.328125 56 \nQ 43.359375 56 49.78125 48.890625 \nQ 56.203125 41.796875 56.203125 29.59375 \nz\nM 47.21875 32.234375 \nQ 47.125 39.59375 43.09375 43.984375 \nQ 39.0625 48.390625 32.421875 48.390625 \nQ 24.90625 48.390625 20.390625 44.140625 \nQ 15.875 39.890625 15.1875 32.171875 \nz\n\" id=\"DejaVuSans-101\"/>\n      <path d=\"M 44.28125 53.078125 \nL 44.28125 44.578125 \nQ 40.484375 46.53125 36.375 47.5 \nQ 32.28125 48.484375 27.875 48.484375 \nQ 21.1875 48.484375 17.84375 46.4375 \nQ 14.5 44.390625 14.5 40.28125 \nQ 14.5 37.15625 16.890625 35.375 \nQ 19.28125 33.59375 26.515625 31.984375 \nL 29.59375 31.296875 \nQ 39.15625 29.25 43.1875 25.515625 \nQ 47.21875 21.78125 47.21875 15.09375 \nQ 47.21875 7.46875 41.1875 3.015625 \nQ 35.15625 -1.421875 24.609375 -1.421875 \nQ 20.21875 -1.421875 15.453125 -0.5625 \nQ 10.6875 0.296875 5.421875 2 \nL 5.421875 11.28125 \nQ 10.40625 8.6875 15.234375 7.390625 \nQ 20.0625 6.109375 24.8125 6.109375 \nQ 31.15625 6.109375 34.5625 8.28125 \nQ 37.984375 10.453125 37.984375 14.40625 \nQ 37.984375 18.0625 35.515625 20.015625 \nQ 33.0625 21.96875 24.703125 23.78125 \nL 21.578125 24.515625 \nQ 13.234375 26.265625 9.515625 29.90625 \nQ 5.8125 33.546875 5.8125 39.890625 \nQ 5.8125 47.609375 11.28125 51.796875 \nQ 16.75 56 26.8125 56 \nQ 31.78125 56 36.171875 55.265625 \nQ 40.578125 54.546875 44.28125 53.078125 \nz\n\" id=\"DejaVuSans-115\"/>\n      <path d=\"M 34.28125 27.484375 \nQ 23.390625 27.484375 19.1875 25 \nQ 14.984375 22.515625 14.984375 16.5 \nQ 14.984375 11.71875 18.140625 8.90625 \nQ 21.296875 6.109375 26.703125 6.109375 \nQ 34.1875 6.109375 38.703125 11.40625 \nQ 43.21875 16.703125 43.21875 25.484375 \nL 43.21875 27.484375 \nz\nM 52.203125 31.203125 \nL 52.203125 0 \nL 43.21875 0 \nL 43.21875 8.296875 \nQ 40.140625 3.328125 35.546875 0.953125 \nQ 30.953125 -1.421875 24.3125 -1.421875 \nQ 15.921875 -1.421875 10.953125 3.296875 \nQ 6 8.015625 6 15.921875 \nQ 6 25.140625 12.171875 29.828125 \nQ 18.359375 34.515625 30.609375 34.515625 \nL 43.21875 34.515625 \nL 43.21875 35.40625 \nQ 43.21875 41.609375 39.140625 45 \nQ 35.0625 48.390625 27.6875 48.390625 \nQ 23 48.390625 18.546875 47.265625 \nQ 14.109375 46.140625 10.015625 43.890625 \nL 10.015625 52.203125 \nQ 14.9375 54.109375 19.578125 55.046875 \nQ 24.21875 56 28.609375 56 \nQ 40.484375 56 46.34375 49.84375 \nQ 52.203125 43.703125 52.203125 31.203125 \nz\n\" id=\"DejaVuSans-97\"/>\n      <path d=\"M 18.109375 8.203125 \nL 18.109375 -20.796875 \nL 9.078125 -20.796875 \nL 9.078125 54.6875 \nL 18.109375 54.6875 \nL 18.109375 46.390625 \nQ 20.953125 51.265625 25.265625 53.625 \nQ 29.59375 56 35.59375 56 \nQ 45.5625 56 51.78125 48.09375 \nQ 58.015625 40.1875 58.015625 27.296875 \nQ 58.015625 14.40625 51.78125 6.484375 \nQ 45.5625 -1.421875 35.59375 -1.421875 \nQ 29.59375 -1.421875 25.265625 0.953125 \nQ 20.953125 3.328125 18.109375 8.203125 \nz\nM 48.6875 27.296875 \nQ 48.6875 37.203125 44.609375 42.84375 \nQ 40.53125 48.484375 33.40625 48.484375 \nQ 26.265625 48.484375 22.1875 42.84375 \nQ 18.109375 37.203125 18.109375 27.296875 \nQ 18.109375 17.390625 22.1875 11.75 \nQ 26.265625 6.109375 33.40625 6.109375 \nQ 40.53125 6.109375 44.609375 11.75 \nQ 48.6875 17.390625 48.6875 27.296875 \nz\n\" id=\"DejaVuSans-112\"/>\n     </defs>\n     <g transform=\"translate(173.717969 255.963437)scale(0.1 -0.1)\">\n      <use xlink:href=\"#DejaVuSans-116\"/>\n      <use x=\"39.208984\" xlink:href=\"#DejaVuSans-105\"/>\n      <use x=\"66.992188\" xlink:href=\"#DejaVuSans-109\"/>\n      <use x=\"164.404297\" xlink:href=\"#DejaVuSans-101\"/>\n      <use x=\"225.927734\" xlink:href=\"#DejaVuSans-115\"/>\n      <use x=\"278.027344\" xlink:href=\"#DejaVuSans-116\"/>\n      <use x=\"317.236328\" xlink:href=\"#DejaVuSans-97\"/>\n      <use x=\"378.515625\" xlink:href=\"#DejaVuSans-109\"/>\n      <use x=\"475.927734\" xlink:href=\"#DejaVuSans-112\"/>\n     </g>\n    </g>\n   </g>\n   <g id=\"matplotlib.axis_2\">\n    <g id=\"ytick_1\">\n     <g id=\"line2d_15\">\n      <defs>\n       <path d=\"M 0 0 \nL -3.5 0 \n\" id=\"mbb06c102ac\" style=\"stroke:#000000;stroke-width:0.8;\"/>\n      </defs>\n      <g>\n       <use style=\"stroke:#000000;stroke-width:0.8;\" x=\"33.2875\" xlink:href=\"#mbb06c102ac\" y=\"224.64\"/>\n      </g>\n     </g>\n     <g id=\"text_16\">\n      <!-- 0 -->\n      <g transform=\"translate(19.925 228.439219)scale(0.1 -0.1)\">\n       <use xlink:href=\"#DejaVuSans-48\"/>\n      </g>\n     </g>\n    </g>\n    <g id=\"ytick_2\">\n     <g id=\"line2d_16\">\n      <g>\n       <use style=\"stroke:#000000;stroke-width:0.8;\" x=\"33.2875\" xlink:href=\"#mbb06c102ac\" y=\"195.636399\"/>\n      </g>\n     </g>\n     <g id=\"text_17\">\n      <!-- 50 -->\n      <g transform=\"translate(13.5625 199.435617)scale(0.1 -0.1)\">\n       <use xlink:href=\"#DejaVuSans-53\"/>\n       <use x=\"63.623047\" xlink:href=\"#DejaVuSans-48\"/>\n      </g>\n     </g>\n    </g>\n    <g id=\"ytick_3\">\n     <g id=\"line2d_17\">\n      <g>\n       <use style=\"stroke:#000000;stroke-width:0.8;\" x=\"33.2875\" xlink:href=\"#mbb06c102ac\" y=\"166.632797\"/>\n      </g>\n     </g>\n     <g id=\"text_18\">\n      <!-- 100 -->\n      <g transform=\"translate(7.2 170.432016)scale(0.1 -0.1)\">\n       <use xlink:href=\"#DejaVuSans-49\"/>\n       <use x=\"63.623047\" xlink:href=\"#DejaVuSans-48\"/>\n       <use x=\"127.246094\" xlink:href=\"#DejaVuSans-48\"/>\n      </g>\n     </g>\n    </g>\n    <g id=\"ytick_4\">\n     <g id=\"line2d_18\">\n      <g>\n       <use style=\"stroke:#000000;stroke-width:0.8;\" x=\"33.2875\" xlink:href=\"#mbb06c102ac\" y=\"137.629196\"/>\n      </g>\n     </g>\n     <g id=\"text_19\">\n      <!-- 150 -->\n      <g transform=\"translate(7.2 141.428414)scale(0.1 -0.1)\">\n       <use xlink:href=\"#DejaVuSans-49\"/>\n       <use x=\"63.623047\" xlink:href=\"#DejaVuSans-53\"/>\n       <use x=\"127.246094\" xlink:href=\"#DejaVuSans-48\"/>\n      </g>\n     </g>\n    </g>\n    <g id=\"ytick_5\">\n     <g id=\"line2d_19\">\n      <g>\n       <use style=\"stroke:#000000;stroke-width:0.8;\" x=\"33.2875\" xlink:href=\"#mbb06c102ac\" y=\"108.625594\"/>\n      </g>\n     </g>\n     <g id=\"text_20\">\n      <!-- 200 -->\n      <g transform=\"translate(7.2 112.424813)scale(0.1 -0.1)\">\n       <use xlink:href=\"#DejaVuSans-50\"/>\n       <use x=\"63.623047\" xlink:href=\"#DejaVuSans-48\"/>\n       <use x=\"127.246094\" xlink:href=\"#DejaVuSans-48\"/>\n      </g>\n     </g>\n    </g>\n    <g id=\"ytick_6\">\n     <g id=\"line2d_20\">\n      <g>\n       <use style=\"stroke:#000000;stroke-width:0.8;\" x=\"33.2875\" xlink:href=\"#mbb06c102ac\" y=\"79.621993\"/>\n      </g>\n     </g>\n     <g id=\"text_21\">\n      <!-- 250 -->\n      <g transform=\"translate(7.2 83.421212)scale(0.1 -0.1)\">\n       <use xlink:href=\"#DejaVuSans-50\"/>\n       <use x=\"63.623047\" xlink:href=\"#DejaVuSans-53\"/>\n       <use x=\"127.246094\" xlink:href=\"#DejaVuSans-48\"/>\n      </g>\n     </g>\n    </g>\n    <g id=\"ytick_7\">\n     <g id=\"line2d_21\">\n      <g>\n       <use style=\"stroke:#000000;stroke-width:0.8;\" x=\"33.2875\" xlink:href=\"#mbb06c102ac\" y=\"50.618391\"/>\n      </g>\n     </g>\n     <g id=\"text_22\">\n      <!-- 300 -->\n      <g transform=\"translate(7.2 54.41761)scale(0.1 -0.1)\">\n       <use xlink:href=\"#DejaVuSans-51\"/>\n       <use x=\"63.623047\" xlink:href=\"#DejaVuSans-48\"/>\n       <use x=\"127.246094\" xlink:href=\"#DejaVuSans-48\"/>\n      </g>\n     </g>\n    </g>\n    <g id=\"ytick_8\">\n     <g id=\"line2d_22\">\n      <g>\n       <use style=\"stroke:#000000;stroke-width:0.8;\" x=\"33.2875\" xlink:href=\"#mbb06c102ac\" y=\"21.61479\"/>\n      </g>\n     </g>\n     <g id=\"text_23\">\n      <!-- 350 -->\n      <g transform=\"translate(7.2 25.414009)scale(0.1 -0.1)\">\n       <use xlink:href=\"#DejaVuSans-51\"/>\n       <use x=\"63.623047\" xlink:href=\"#DejaVuSans-53\"/>\n       <use x=\"127.246094\" xlink:href=\"#DejaVuSans-48\"/>\n      </g>\n     </g>\n    </g>\n   </g>\n   <g id=\"patch_17\">\n    <path d=\"M 33.2875 224.64 \nL 33.2875 7.2 \n\" style=\"fill:none;stroke:#000000;stroke-linecap:square;stroke-linejoin:miter;stroke-width:0.8;\"/>\n   </g>\n   <g id=\"patch_18\">\n    <path d=\"M 368.0875 224.64 \nL 368.0875 7.2 \n\" style=\"fill:none;stroke:#000000;stroke-linecap:square;stroke-linejoin:miter;stroke-width:0.8;\"/>\n   </g>\n   <g id=\"patch_19\">\n    <path d=\"M 33.2875 224.64 \nL 368.0875 224.64 \n\" style=\"fill:none;stroke:#000000;stroke-linecap:square;stroke-linejoin:miter;stroke-width:0.8;\"/>\n   </g>\n   <g id=\"patch_20\">\n    <path d=\"M 33.2875 7.2 \nL 368.0875 7.2 \n\" style=\"fill:none;stroke:#000000;stroke-linecap:square;stroke-linejoin:miter;stroke-width:0.8;\"/>\n   </g>\n  </g>\n </g>\n <defs>\n  <clipPath id=\"p03579bf689\">\n   <rect height=\"217.44\" width=\"334.8\" x=\"33.2875\" y=\"7.2\"/>\n  </clipPath>\n </defs>\n</svg>\n",
      "image/png": "[encoded data removed]"
     },
     "metadata": {
      "needs_background": "light"
     }
    }
   ],
   "source": [
    "btc_tweets_by_day['timestamp'].groupby(btc_tweets_by_day[\"timestamp\"].dt.hour).count().plot(kind=\"bar\")"
   ]
  },
  {
   "cell_type": "markdown",
   "metadata": {},
   "source": [
    "### Merge two data frames"
   ]
  },
  {
   "cell_type": "code",
   "execution_count": 28,
   "metadata": {},
   "outputs": [
    {
     "output_type": "execute_result",
     "data": {
      "text/plain": "   has_media                                           hashtags  \\\n0      False                                            ['BTC']   \n1      False  ['1', 'bitcoin', 'price', 'coinmarketcap', '3V...   \n2       True  ['Binance', 'Bittrex', 'bitcoin', 'trading', '...   \n3      False           ['ビットコイン', 'bitcoin', 'btc', 'ブロックチェーン']   \n4      False                     ['BITCOIN', 'BTC', 'poloniex']   \n\n                                            img_urls  is_replied  is_reply_to  \\\n0                                                 []       False        False   \n1                                                 []       False        False   \n2  ['https://pbs.twimg.com/media/ENJ2e10WkAAzwgh....        True        False   \n3                                                 []       False        False   \n4                                                 []       False        False   \n\n   likes                                              links  parent_tweet_id  \\\n0      2         ['https://crypto.press/coins/BTC-bitcoin']              NaN   \n1      0                                                 []              NaN   \n2      1                           ['https://thesignal.io']              NaN   \n3      0                                                 []              NaN   \n4      0  ['https://clankapp.com/tx/btc/66c62510a27b7345...              NaN   \n\n   replies reply_to_users  ...     timestamp_epochs             tweet_id  \\\n0        0             []  ...  2020-01-01 00:00:00  1212161514226036736   \n1        0             []  ...  2020-01-01 00:00:02  1212161523247992832   \n2        1             []  ...  2020-01-01 00:00:02  1212161524254556160   \n3        0             []  ...  2020-01-01 00:00:03  1212161528280973312   \n4        0             []  ...  2020-01-01 00:00:04  1212161530147561472   \n\n                                     tweet_url              user_id  \\\n0  /CryptoPressNews/status/1212161514226036736             24411256   \n1   /the1bitcoinbot/status/1212161523247992833  1113394645915054080   \n2      /thesignalio/status/1212161524254556162   933113704366903296   \n3        /bitcoinjp/status/1212161528280973312           1877257982   \n4         /ClankApp/status/1212161530147561473  1119277376108683264   \n\n                                     username video_url       date Bitcoin  \\\n0                                Crypto Press       NaN 2020-01-01      49   \n1                          TheOneBitcoinBot ⚡       NaN 2020-01-01      49   \n2                                  The Signal       NaN 2020-01-01      49   \n3                                   ビットコイン円相場       NaN 2020-01-01      49   \n4  Clank - Biggest Blockchains Transactions 🐳       NaN 2020-01-01      49   \n\n   BTC isPartial  \n0   13     False  \n1   13     False  \n2   13     False  \n3   13     False  \n4   13     False  \n\n[5 rows x 25 columns]",
      "text/html": "<div>\n<style scoped>\n    .dataframe tbody tr th:only-of-type {\n        vertical-align: middle;\n    }\n\n    .dataframe tbody tr th {\n        vertical-align: top;\n    }\n\n    .dataframe thead th {\n        text-align: right;\n    }\n</style>\n<table border=\"1\" class=\"dataframe\">\n  <thead>\n    <tr style=\"text-align: right;\">\n      <th></th>\n      <th>has_media</th>\n      <th>hashtags</th>\n      <th>img_urls</th>\n      <th>is_replied</th>\n      <th>is_reply_to</th>\n      <th>likes</th>\n      <th>links</th>\n      <th>parent_tweet_id</th>\n      <th>replies</th>\n      <th>reply_to_users</th>\n      <th>...</th>\n      <th>timestamp_epochs</th>\n      <th>tweet_id</th>\n      <th>tweet_url</th>\n      <th>user_id</th>\n      <th>username</th>\n      <th>video_url</th>\n      <th>date</th>\n      <th>Bitcoin</th>\n      <th>BTC</th>\n      <th>isPartial</th>\n    </tr>\n  </thead>\n  <tbody>\n    <tr>\n      <th>0</th>\n      <td>False</td>\n      <td>['BTC']</td>\n      <td>[]</td>\n      <td>False</td>\n      <td>False</td>\n      <td>2</td>\n      <td>['https://crypto.press/coins/BTC-bitcoin']</td>\n      <td>NaN</td>\n      <td>0</td>\n      <td>[]</td>\n      <td>...</td>\n      <td>2020-01-01 00:00:00</td>\n      <td>1212161514226036736</td>\n      <td>/CryptoPressNews/status/1212161514226036736</td>\n      <td>24411256</td>\n      <td>Crypto Press</td>\n      <td>NaN</td>\n      <td>2020-01-01</td>\n      <td>49</td>\n      <td>13</td>\n      <td>False</td>\n    </tr>\n    <tr>\n      <th>1</th>\n      <td>False</td>\n      <td>['1', 'bitcoin', 'price', 'coinmarketcap', '3V...</td>\n      <td>[]</td>\n      <td>False</td>\n      <td>False</td>\n      <td>0</td>\n      <td>[]</td>\n      <td>NaN</td>\n      <td>0</td>\n      <td>[]</td>\n      <td>...</td>\n      <td>2020-01-01 00:00:02</td>\n      <td>1212161523247992832</td>\n      <td>/the1bitcoinbot/status/1212161523247992833</td>\n      <td>1113394645915054080</td>\n      <td>TheOneBitcoinBot ⚡</td>\n      <td>NaN</td>\n      <td>2020-01-01</td>\n      <td>49</td>\n      <td>13</td>\n      <td>False</td>\n    </tr>\n    <tr>\n      <th>2</th>\n      <td>True</td>\n      <td>['Binance', 'Bittrex', 'bitcoin', 'trading', '...</td>\n      <td>['https://pbs.twimg.com/media/ENJ2e10WkAAzwgh....</td>\n      <td>True</td>\n      <td>False</td>\n      <td>1</td>\n      <td>['https://thesignal.io']</td>\n      <td>NaN</td>\n      <td>1</td>\n      <td>[]</td>\n      <td>...</td>\n      <td>2020-01-01 00:00:02</td>\n      <td>1212161524254556160</td>\n      <td>/thesignalio/status/1212161524254556162</td>\n      <td>933113704366903296</td>\n      <td>The Signal</td>\n      <td>NaN</td>\n      <td>2020-01-01</td>\n      <td>49</td>\n      <td>13</td>\n      <td>False</td>\n    </tr>\n    <tr>\n      <th>3</th>\n      <td>False</td>\n      <td>['ビットコイン', 'bitcoin', 'btc', 'ブロックチェーン']</td>\n      <td>[]</td>\n      <td>False</td>\n      <td>False</td>\n      <td>0</td>\n      <td>[]</td>\n      <td>NaN</td>\n      <td>0</td>\n      <td>[]</td>\n      <td>...</td>\n      <td>2020-01-01 00:00:03</td>\n      <td>1212161528280973312</td>\n      <td>/bitcoinjp/status/1212161528280973312</td>\n      <td>1877257982</td>\n      <td>ビットコイン円相場</td>\n      <td>NaN</td>\n      <td>2020-01-01</td>\n      <td>49</td>\n      <td>13</td>\n      <td>False</td>\n    </tr>\n    <tr>\n      <th>4</th>\n      <td>False</td>\n      <td>['BITCOIN', 'BTC', 'poloniex']</td>\n      <td>[]</td>\n      <td>False</td>\n      <td>False</td>\n      <td>0</td>\n      <td>['https://clankapp.com/tx/btc/66c62510a27b7345...</td>\n      <td>NaN</td>\n      <td>0</td>\n      <td>[]</td>\n      <td>...</td>\n      <td>2020-01-01 00:00:04</td>\n      <td>1212161530147561472</td>\n      <td>/ClankApp/status/1212161530147561473</td>\n      <td>1119277376108683264</td>\n      <td>Clank - Biggest Blockchains Transactions 🐳</td>\n      <td>NaN</td>\n      <td>2020-01-01</td>\n      <td>49</td>\n      <td>13</td>\n      <td>False</td>\n    </tr>\n  </tbody>\n</table>\n<p>5 rows × 25 columns</p>\n</div>"
     },
     "metadata": {},
     "execution_count": 28
    }
   ],
   "source": [
    "# first merge tweets with hourly trend data\n",
    "btc_merged_hourly = pd.merge_asof(btc_tweets, btc_trend, left_on='timestamp', right_on='date', direction='backward')\n",
    "btc_merged_hourly.head()"
   ]
  },
  {
   "cell_type": "code",
   "execution_count": 29,
   "metadata": {},
   "outputs": [],
   "source": [
    "btc_merged = pd.merge_asof(btc_merged_hourly, btc_volatility, left_on='timestamp', right_on='date', direction='backward', suffixes=(\"\", \"_vcrix\"))"
   ]
  },
  {
   "cell_type": "code",
   "execution_count": 30,
   "metadata": {},
   "outputs": [],
   "source": [
    "pd.set_option('display.max_colwidth', 50)"
   ]
  },
  {
   "cell_type": "code",
   "execution_count": 31,
   "metadata": {},
   "outputs": [
    {
     "output_type": "execute_result",
     "data": {
      "text/plain": "        has_media                                           hashtags  \\\n270699      False                                                 []   \n582440      False                                        ['Bitcoin']   \n118122      False                                                 []   \n354548       True                        ['BTC', 'ETH', 'cryptopic']   \n390700      False  ['Rakamoto', 'Blockchain', 'Bitcoin', 'Ethereu...   \n481047      False       ['bitcoin', 'tron', 'betfury', 'btc', 'TRX']   \n250714       True                                                 []   \n194680      False  ['BTC', 'BCH', 'ETH', 'XRP', 'Bitcoin', 'Ether...   \n330341       True                                        ['Bitcoin']   \n61990       False                                                 []   \n503028      False  ['EARN', 'MONEY', 'BRAVEBROWSER', 'Dollar', 'c...   \n444127      False                                                 []   \n\n                                                 img_urls  is_replied  \\\n270699                                                 []       False   \n582440                                                 []       False   \n118122                                                 []        True   \n354548  ['https://pbs.twimg.com/media/EUrDcqAU4AILNSI....       False   \n390700                                                 []       False   \n481047                                                 []       False   \n250714  ['https://pbs.twimg.com/media/ESZQXaFUcAAweSa....       False   \n194680                                                 []       False   \n330341  ['https://pbs.twimg.com/media/EUEK-zsWkAEbsVr....       False   \n61990                                                  []        True   \n503028                                                 []        True   \n444127                                                 []       False   \n\n        is_reply_to  likes                                              links  \\\n270699        False     16                                                 []   \n582440        False      0                                                 []   \n118122         True      3                                                 []   \n354548        False      0                        ['https://buff.ly/2ID1dtn']   \n390700        False      1  ['https://cointelegraph.com/news/ray-dalio-bas...   \n481047        False      0                            ['https://betfury.io/']   \n250714        False      0  ['https://news.bitcoinlifestyle.com/2020/03/05...   \n194680        False      0                                                 []   \n330341        False      1  ['https://studio.glassnode.com/metrics?a=BTC&m...   \n61990          True      4                                                 []   \n503028        False      7                       ['https://brave.com/ace913']   \n444127        False      0                                                 []   \n\n        parent_tweet_id  replies  \\\n270699              NaN        0   \n582440              NaN        0   \n118122     1.223216e+18        2   \n354548              NaN        0   \n390700              NaN        0   \n481047              NaN        0   \n250714              NaN        0   \n194680              NaN        0   \n330341              NaN        0   \n61990      1.217545e+18        1   \n503028              NaN        3   \n444127              NaN        0   \n\n                                           reply_to_users  ...  \\\n270699                                                 []  ...   \n582440                                                 []  ...   \n118122  [{'screen_name': 'blaqsv', 'user_id': '8458062...  ...   \n354548                                                 []  ...   \n390700                                                 []  ...   \n481047                                                 []  ...   \n250714                                                 []  ...   \n194680                                                 []  ...   \n330341                                                 []  ...   \n61990   [{'screen_name': 'JeanHub84962604', 'user_id':...  ...   \n503028                                                 []  ...   \n444127                                                 []  ...   \n\n                                          tweet_url              user_id  \\\n270699  /cryptophile_btc/status/1237657010407002112   957108638631436288   \n582440     /btc_blockbot/status/1266735651971567616  1197637831407161346   \n118122       /TTrevethan/status/1223286855208177664            500666174   \n354548    /teaconnexions/status/1246023145749954562             22067273   \n390700  /BitcoinDollarUS/status/1249250753421742081            273337477   \n481047        /zulgopor1/status/1257433670882865152  1202605519434698759   \n250714          /glyn_co/status/1235763519070580738  1023131188808966144   \n194680     /coinpricenow/status/1230279538829152264           2787862885   \n330341  /glassnodealerts/status/1243287050184507400  1070351212044783616   \n61990     /ColtynSeifert/status/1217816209313476608            182684938   \n503028        /Ace_Lolzz/status/1259503470824108033            892760065   \n444127  /BitcoinCheckBot/status/1254079319887851520  1087660836452102144   \n\n                           username video_url                date Bitcoin  \\\n270699                  cryptophile       NaN 2020-03-11 08:00:00      22   \n582440                 ₿TC ₿lock₿ot       NaN 2020-05-30 14:00:00      48   \n118122                Tom Trevethan       NaN 2020-01-31 16:00:00      64   \n354548                 Sanjay Gupta       NaN 2020-04-03 10:00:00      76   \n390700               Bitcoin Dollar       NaN 2020-04-12 08:00:00      74   \n481047                     zulgopor       NaN 2020-05-04 22:00:00      55   \n250714  Glyn Co - BitcoinLeader.com       NaN 2020-03-06 03:00:00      51   \n194680                Bitcoin Price       NaN 2020-02-19 23:00:00      91   \n330341             glassnode alerts       NaN 2020-03-26 21:00:00      94   \n61990              Coltyn Seifert 🍻       NaN 2020-01-16 14:00:00      63   \n503028                    AceLolzz🍥       NaN 2020-05-10 15:00:00      42   \n444127            Bitcoin Check Bot       NaN 2020-04-25 16:00:00      78   \n\n        BTC isPartial  date_vcrix        vcrix  \n270699    7     False  2020-03-11   789.037831  \n582440   15     False  2020-04-30   707.650579  \n118122   19     False  2020-01-31   708.971655  \n354548   22     False  2020-04-03  2178.324494  \n390700   20     False  2020-04-12  2201.509109  \n481047   14     False  2020-04-30   707.650579  \n250714   17     False  2020-03-06   699.543654  \n194680   24     False  2020-02-19   555.206142  \n330341   22     False  2020-03-26  2143.424934  \n61990    19     False  2020-01-16   814.302467  \n503028   11     False  2020-04-30   707.650579  \n444127   22     False  2020-04-25   744.085418  \n\n[12 rows x 27 columns]",
      "text/html": "<div>\n<style scoped>\n    .dataframe tbody tr th:only-of-type {\n        vertical-align: middle;\n    }\n\n    .dataframe tbody tr th {\n        vertical-align: top;\n    }\n\n    .dataframe thead th {\n        text-align: right;\n    }\n</style>\n<table border=\"1\" class=\"dataframe\">\n  <thead>\n    <tr style=\"text-align: right;\">\n      <th></th>\n      <th>has_media</th>\n      <th>hashtags</th>\n      <th>img_urls</th>\n      <th>is_replied</th>\n      <th>is_reply_to</th>\n      <th>likes</th>\n      <th>links</th>\n      <th>parent_tweet_id</th>\n      <th>replies</th>\n      <th>reply_to_users</th>\n      <th>...</th>\n      <th>tweet_url</th>\n      <th>user_id</th>\n      <th>username</th>\n      <th>video_url</th>\n      <th>date</th>\n      <th>Bitcoin</th>\n      <th>BTC</th>\n      <th>isPartial</th>\n      <th>date_vcrix</th>\n      <th>vcrix</th>\n    </tr>\n  </thead>\n  <tbody>\n    <tr>\n      <th>270699</th>\n      <td>False</td>\n      <td>[]</td>\n      <td>[]</td>\n      <td>False</td>\n      <td>False</td>\n      <td>16</td>\n      <td>[]</td>\n      <td>NaN</td>\n      <td>0</td>\n      <td>[]</td>\n      <td>...</td>\n      <td>/cryptophile_btc/status/1237657010407002112</td>\n      <td>957108638631436288</td>\n      <td>cryptophile</td>\n      <td>NaN</td>\n      <td>2020-03-11 08:00:00</td>\n      <td>22</td>\n      <td>7</td>\n      <td>False</td>\n      <td>2020-03-11</td>\n      <td>789.037831</td>\n    </tr>\n    <tr>\n      <th>582440</th>\n      <td>False</td>\n      <td>['Bitcoin']</td>\n      <td>[]</td>\n      <td>False</td>\n      <td>False</td>\n      <td>0</td>\n      <td>[]</td>\n      <td>NaN</td>\n      <td>0</td>\n      <td>[]</td>\n      <td>...</td>\n      <td>/btc_blockbot/status/1266735651971567616</td>\n      <td>1197637831407161346</td>\n      <td>₿TC ₿lock₿ot</td>\n      <td>NaN</td>\n      <td>2020-05-30 14:00:00</td>\n      <td>48</td>\n      <td>15</td>\n      <td>False</td>\n      <td>2020-04-30</td>\n      <td>707.650579</td>\n    </tr>\n    <tr>\n      <th>118122</th>\n      <td>False</td>\n      <td>[]</td>\n      <td>[]</td>\n      <td>True</td>\n      <td>True</td>\n      <td>3</td>\n      <td>[]</td>\n      <td>1.223216e+18</td>\n      <td>2</td>\n      <td>[{'screen_name': 'blaqsv', 'user_id': '8458062...</td>\n      <td>...</td>\n      <td>/TTrevethan/status/1223286855208177664</td>\n      <td>500666174</td>\n      <td>Tom Trevethan</td>\n      <td>NaN</td>\n      <td>2020-01-31 16:00:00</td>\n      <td>64</td>\n      <td>19</td>\n      <td>False</td>\n      <td>2020-01-31</td>\n      <td>708.971655</td>\n    </tr>\n    <tr>\n      <th>354548</th>\n      <td>True</td>\n      <td>['BTC', 'ETH', 'cryptopic']</td>\n      <td>['https://pbs.twimg.com/media/EUrDcqAU4AILNSI....</td>\n      <td>False</td>\n      <td>False</td>\n      <td>0</td>\n      <td>['https://buff.ly/2ID1dtn']</td>\n      <td>NaN</td>\n      <td>0</td>\n      <td>[]</td>\n      <td>...</td>\n      <td>/teaconnexions/status/1246023145749954562</td>\n      <td>22067273</td>\n      <td>Sanjay Gupta</td>\n      <td>NaN</td>\n      <td>2020-04-03 10:00:00</td>\n      <td>76</td>\n      <td>22</td>\n      <td>False</td>\n      <td>2020-04-03</td>\n      <td>2178.324494</td>\n    </tr>\n    <tr>\n      <th>390700</th>\n      <td>False</td>\n      <td>['Rakamoto', 'Blockchain', 'Bitcoin', 'Ethereu...</td>\n      <td>[]</td>\n      <td>False</td>\n      <td>False</td>\n      <td>1</td>\n      <td>['https://cointelegraph.com/news/ray-dalio-bas...</td>\n      <td>NaN</td>\n      <td>0</td>\n      <td>[]</td>\n      <td>...</td>\n      <td>/BitcoinDollarUS/status/1249250753421742081</td>\n      <td>273337477</td>\n      <td>Bitcoin Dollar</td>\n      <td>NaN</td>\n      <td>2020-04-12 08:00:00</td>\n      <td>74</td>\n      <td>20</td>\n      <td>False</td>\n      <td>2020-04-12</td>\n      <td>2201.509109</td>\n    </tr>\n    <tr>\n      <th>481047</th>\n      <td>False</td>\n      <td>['bitcoin', 'tron', 'betfury', 'btc', 'TRX']</td>\n      <td>[]</td>\n      <td>False</td>\n      <td>False</td>\n      <td>0</td>\n      <td>['https://betfury.io/']</td>\n      <td>NaN</td>\n      <td>0</td>\n      <td>[]</td>\n      <td>...</td>\n      <td>/zulgopor1/status/1257433670882865152</td>\n      <td>1202605519434698759</td>\n      <td>zulgopor</td>\n      <td>NaN</td>\n      <td>2020-05-04 22:00:00</td>\n      <td>55</td>\n      <td>14</td>\n      <td>False</td>\n      <td>2020-04-30</td>\n      <td>707.650579</td>\n    </tr>\n    <tr>\n      <th>250714</th>\n      <td>True</td>\n      <td>[]</td>\n      <td>['https://pbs.twimg.com/media/ESZQXaFUcAAweSa....</td>\n      <td>False</td>\n      <td>False</td>\n      <td>0</td>\n      <td>['https://news.bitcoinlifestyle.com/2020/03/05...</td>\n      <td>NaN</td>\n      <td>0</td>\n      <td>[]</td>\n      <td>...</td>\n      <td>/glyn_co/status/1235763519070580738</td>\n      <td>1023131188808966144</td>\n      <td>Glyn Co - BitcoinLeader.com</td>\n      <td>NaN</td>\n      <td>2020-03-06 03:00:00</td>\n      <td>51</td>\n      <td>17</td>\n      <td>False</td>\n      <td>2020-03-06</td>\n      <td>699.543654</td>\n    </tr>\n    <tr>\n      <th>194680</th>\n      <td>False</td>\n      <td>['BTC', 'BCH', 'ETH', 'XRP', 'Bitcoin', 'Ether...</td>\n      <td>[]</td>\n      <td>False</td>\n      <td>False</td>\n      <td>0</td>\n      <td>[]</td>\n      <td>NaN</td>\n      <td>0</td>\n      <td>[]</td>\n      <td>...</td>\n      <td>/coinpricenow/status/1230279538829152264</td>\n      <td>2787862885</td>\n      <td>Bitcoin Price</td>\n      <td>NaN</td>\n      <td>2020-02-19 23:00:00</td>\n      <td>91</td>\n      <td>24</td>\n      <td>False</td>\n      <td>2020-02-19</td>\n      <td>555.206142</td>\n    </tr>\n    <tr>\n      <th>330341</th>\n      <td>True</td>\n      <td>['Bitcoin']</td>\n      <td>['https://pbs.twimg.com/media/EUEK-zsWkAEbsVr....</td>\n      <td>False</td>\n      <td>False</td>\n      <td>1</td>\n      <td>['https://studio.glassnode.com/metrics?a=BTC&amp;m...</td>\n      <td>NaN</td>\n      <td>0</td>\n      <td>[]</td>\n      <td>...</td>\n      <td>/glassnodealerts/status/1243287050184507400</td>\n      <td>1070351212044783616</td>\n      <td>glassnode alerts</td>\n      <td>NaN</td>\n      <td>2020-03-26 21:00:00</td>\n      <td>94</td>\n      <td>22</td>\n      <td>False</td>\n      <td>2020-03-26</td>\n      <td>2143.424934</td>\n    </tr>\n    <tr>\n      <th>61990</th>\n      <td>False</td>\n      <td>[]</td>\n      <td>[]</td>\n      <td>True</td>\n      <td>True</td>\n      <td>4</td>\n      <td>[]</td>\n      <td>1.217545e+18</td>\n      <td>1</td>\n      <td>[{'screen_name': 'JeanHub84962604', 'user_id':...</td>\n      <td>...</td>\n      <td>/ColtynSeifert/status/1217816209313476608</td>\n      <td>182684938</td>\n      <td>Coltyn Seifert 🍻</td>\n      <td>NaN</td>\n      <td>2020-01-16 14:00:00</td>\n      <td>63</td>\n      <td>19</td>\n      <td>False</td>\n      <td>2020-01-16</td>\n      <td>814.302467</td>\n    </tr>\n    <tr>\n      <th>503028</th>\n      <td>False</td>\n      <td>['EARN', 'MONEY', 'BRAVEBROWSER', 'Dollar', 'c...</td>\n      <td>[]</td>\n      <td>True</td>\n      <td>False</td>\n      <td>7</td>\n      <td>['https://brave.com/ace913']</td>\n      <td>NaN</td>\n      <td>3</td>\n      <td>[]</td>\n      <td>...</td>\n      <td>/Ace_Lolzz/status/1259503470824108033</td>\n      <td>892760065</td>\n      <td>AceLolzz🍥</td>\n      <td>NaN</td>\n      <td>2020-05-10 15:00:00</td>\n      <td>42</td>\n      <td>11</td>\n      <td>False</td>\n      <td>2020-04-30</td>\n      <td>707.650579</td>\n    </tr>\n    <tr>\n      <th>444127</th>\n      <td>False</td>\n      <td>[]</td>\n      <td>[]</td>\n      <td>False</td>\n      <td>False</td>\n      <td>0</td>\n      <td>[]</td>\n      <td>NaN</td>\n      <td>0</td>\n      <td>[]</td>\n      <td>...</td>\n      <td>/BitcoinCheckBot/status/1254079319887851520</td>\n      <td>1087660836452102144</td>\n      <td>Bitcoin Check Bot</td>\n      <td>NaN</td>\n      <td>2020-04-25 16:00:00</td>\n      <td>78</td>\n      <td>22</td>\n      <td>False</td>\n      <td>2020-04-25</td>\n      <td>744.085418</td>\n    </tr>\n  </tbody>\n</table>\n<p>12 rows × 27 columns</p>\n</div>"
     },
     "metadata": {},
     "execution_count": 31
    }
   ],
   "source": [
    "btc_merged.sample(n=12)"
   ]
  },
  {
   "cell_type": "code",
   "execution_count": 32,
   "metadata": {},
   "outputs": [
    {
     "output_type": "execute_result",
     "data": {
      "text/plain": "Index(['has_media', 'hashtags', 'img_urls', 'is_replied', 'is_reply_to',\n       'likes', 'links', 'parent_tweet_id', 'replies', 'reply_to_users',\n       'retweets', 'screen_name', 'text', 'text_html', 'timestamp',\n       'timestamp_epochs', 'tweet_id', 'tweet_url', 'user_id', 'username',\n       'video_url', 'date', 'Bitcoin', 'BTC', 'isPartial', 'date_vcrix',\n       'vcrix'],\n      dtype='object')"
     },
     "metadata": {},
     "execution_count": 32
    }
   ],
   "source": [
    "btc_merged.columns"
   ]
  },
  {
   "cell_type": "code",
   "execution_count": 33,
   "metadata": {},
   "outputs": [],
   "source": [
    "btc_merged.to_csv('data/btc_final.csv')"
   ]
  }
 ],
 "metadata": {
  "language_info": {
   "codemirror_mode": {
    "name": "ipython",
    "version": 3
   },
   "file_extension": ".py",
   "mimetype": "text/x-python",
   "name": "python",
   "nbconvert_exporter": "python",
   "pygments_lexer": "ipython3",
   "version": "3.8.2-final"
  },
  "orig_nbformat": 2,
  "kernelspec": {
   "name": "python38264bitcvconda42f6ee1eb600418da12fd4932d15bb6b",
   "display_name": "Python 3.8.2 64-bit ('CV': conda)"
  }
 },
 "nbformat": 4,
 "nbformat_minor": 2
}